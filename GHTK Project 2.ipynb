{
 "cells": [
  {
   "cell_type": "code",
   "execution_count": null,
   "metadata": {},
   "outputs": [],
   "source": [
    "import pandas as pd\n",
    "import numpy as np\n",
    "import matplotlib.pyplot as plt\n",
    "import seaborn as sns"
   ]
  },
  {
   "cell_type": "code",
   "execution_count": null,
   "metadata": {},
   "outputs": [],
   "source": [
    "def prepare(file_name):\n",
    "    big1 = pd.read_excel(file_name)\n",
    "    big1['import_at'] =pd.to_datetime(big1['import_at']) \n",
    "    big1['seal_created'] = pd.to_datetime(big1['seal_created'])\n",
    "    big1['puttobag_created'] = pd.to_datetime(big1['puttobag_created'])\n",
    "    big1['export_at'] = pd.to_datetime(big1['export_at'])\n",
    "    big1['Tốc độ (phút)'] = [(big1['seal_created'].iloc[x] - big1['import_at'].iloc[x]).seconds/60 for x in range(len(big1))]\n",
    "    big1 = big1.sort_values('seal_created').dropna()\n",
    "    #big1['lv'].unique()\n",
    "    big1['Date'] = [big1['import_at'].iloc[x].strftime('%d-%m-%y') for x in range(len(big1))]\n",
    "    return big1"
   ]
  },
  {
   "cell_type": "code",
   "execution_count": null,
   "metadata": {},
   "outputs": [],
   "source": [
    "#big1 = pd.read_excel('3092-200617.xlsx')"
   ]
  },
  {
   "cell_type": "code",
   "execution_count": null,
   "metadata": {},
   "outputs": [],
   "source": [
    "'''\n",
    "big1['import_at'] =pd.to_datetime(big1['import_at']) \n",
    "big1['seal_created'] = pd.to_datetime(big1['seal_created'])\n",
    "big1['puttobag_created'] = pd.to_datetime(big1['puttobag_created'])\n",
    "big1['export_at'] = pd.to_datetime(big1['export_at'])\n",
    "                                                        '''"
   ]
  },
  {
   "cell_type": "code",
   "execution_count": null,
   "metadata": {},
   "outputs": [],
   "source": [
    "'''\n",
    "big1['Tốc độ (phút)'] = [(big1['seal_created'].iloc[x] - big1['import_at'].iloc[x]).seconds/60 for x in range(len(big1))]\n",
    "'''"
   ]
  },
  {
   "cell_type": "code",
   "execution_count": null,
   "metadata": {},
   "outputs": [],
   "source": [
    "#big1 = big1.sort_values('seal_created').dropna()\n",
    "#big1['lv'].unique()"
   ]
  },
  {
   "cell_type": "code",
   "execution_count": null,
   "metadata": {},
   "outputs": [],
   "source": [
    "#big1['Date'] = [big1['import_at'].iloc[x].strftime('%d-%m-%y') for x in range(len(big1))]"
   ]
  },
  {
   "cell_type": "code",
   "execution_count": null,
   "metadata": {},
   "outputs": [],
   "source": [
    "#big1['Time_created'] = [big1['puttobag_created'].iloc[x].strftime('%H:%M:%S.%f') for x in range(len(big1))]"
   ]
  },
  {
   "cell_type": "markdown",
   "metadata": {},
   "source": [
    "### testing"
   ]
  },
  {
   "cell_type": "code",
   "execution_count": null,
   "metadata": {},
   "outputs": [],
   "source": [
    "khodich = phulo.sort_values('kho_dich').kho_dich.unique().tolist()\n",
    "#khodich\n",
    "\n",
    "    "
   ]
  },
  {
   "cell_type": "code",
   "execution_count": null,
   "metadata": {},
   "outputs": [],
   "source": [
    "#phulo"
   ]
  },
  {
   "cell_type": "markdown",
   "metadata": {},
   "source": [
    "### Tập hơn đơn thỏa mãn 3 điều kiện:\n",
    "Có cùng kho đích:\n",
    "<br>\n",
    "có khoảng thời gian chờ giữa 2 thời điểm bỏ vào bao không quá 5 phút\n",
    "<br>\n",
    "có bag_order khác nhau\n"
   ]
  },
  {
   "cell_type": "code",
   "execution_count": null,
   "metadata": {},
   "outputs": [],
   "source": [
    "phulo = phulo.sort_values('puttobag_created')\n",
    "#phulo"
   ]
  },
  {
   "cell_type": "code",
   "execution_count": null,
   "metadata": {},
   "outputs": [],
   "source": [
    "cond_1 = []\n",
    "for kho in khodich:\n",
    "    dfk = phulo[phulo['kho_dich'] == kho].sort_values(['bag_order','puttobag_created'])\n",
    "    for x in range(len(dfk) - 1):\n",
    "        if dfk.iloc[x]['bag_order'] != dfk.iloc[x+1]['bag_order']:\n",
    "            \n",
    "            if (dfk.iloc[x+1]['puttobag_created'] - dfk.iloc[x]['puttobag_created']).seconds/60 < 10:\n",
    "                \n",
    "                cond_1.append(dfk[dfk['pkg_order'] == dfk.iloc[x]['pkg_order']].index.tolist()[0])\n",
    "                cond_1.append(dfk[dfk['pkg_order'] == dfk.iloc[x+1]['pkg_order']].index.tolist()[0])\n",
    "\n"
   ]
  },
  {
   "cell_type": "code",
   "execution_count": null,
   "metadata": {},
   "outputs": [],
   "source": [
    "cond_1 = list(set(cond_1))"
   ]
  },
  {
   "cell_type": "code",
   "execution_count": null,
   "metadata": {},
   "outputs": [],
   "source": [
    "#coi\n",
    "#phulo.loc[cond_1].sort_values(['kho_dich','puttobag_created']).head(25)"
   ]
  },
  {
   "cell_type": "code",
   "execution_count": null,
   "metadata": {},
   "outputs": [],
   "source": [
    "phulo.loc[cond_1].sort_values(['kho_dich','puttobag_created'])['Tốc độ (phút)'].plot.hist(bins = 40,figsize = (10,10))"
   ]
  },
  {
   "cell_type": "code",
   "execution_count": null,
   "metadata": {},
   "outputs": [],
   "source": [
    "moi = phulo.loc[cond_1].sort_values(['kho_dich','puttobag_created'])\n",
    "#moi[moi['Total count'] < 4].head(20)"
   ]
  },
  {
   "cell_type": "code",
   "execution_count": null,
   "metadata": {},
   "outputs": [],
   "source": [
    "#moi['Tốc độ (phút)'].mean()"
   ]
  },
  {
   "cell_type": "code",
   "execution_count": null,
   "metadata": {},
   "outputs": [],
   "source": [
    "#moi.to_excel(excel_writer = 'oke.xlsx',sheet_name='Sheet1')"
   ]
  },
  {
   "cell_type": "code",
   "execution_count": null,
   "metadata": {},
   "outputs": [],
   "source": [
    "len(moi)"
   ]
  },
  {
   "cell_type": "code",
   "execution_count": null,
   "metadata": {},
   "outputs": [],
   "source": [
    "moi[(moi['Total weight'] < 8) &(moi['Total count'] < 8) &(moi['Tốc độ (phút)'] < 80)]['Tốc độ (phút)'].mean()"
   ]
  },
  {
   "cell_type": "code",
   "execution_count": null,
   "metadata": {},
   "outputs": [],
   "source": [
    "5000/ len(phulo)"
   ]
  },
  {
   "cell_type": "code",
   "execution_count": null,
   "metadata": {},
   "outputs": [],
   "source": [
    "# So luong bao\n",
    "len(moi['bag_order'].unique())"
   ]
  },
  {
   "cell_type": "code",
   "execution_count": null,
   "metadata": {},
   "outputs": [],
   "source": [
    "#phulo.set_index('usernameputbag').loc[moi[moi['Total weight'] < 8]['usernameputbag'].unique().tolist()].sort_values(['kho_dich','puttobag_created'])"
   ]
  },
  {
   "cell_type": "code",
   "execution_count": null,
   "metadata": {},
   "outputs": [],
   "source": [
    "phulo.loc[cond_1].sort_values(['kho_dich','puttobag_created']).groupby('bag_order').count()['weight'].sort_values(ascending = False).plot(kind = 'hist')"
   ]
  },
  {
   "cell_type": "markdown",
   "metadata": {},
   "source": [
    "### Phù Lỗ"
   ]
  },
  {
   "cell_type": "code",
   "execution_count": null,
   "metadata": {},
   "outputs": [],
   "source": [
    "phulo.groupby('Date').mean()"
   ]
  },
  {
   "cell_type": "code",
   "execution_count": null,
   "metadata": {},
   "outputs": [],
   "source": [
    "phulo.groupby('Date').count()['weight']"
   ]
  },
  {
   "cell_type": "code",
   "execution_count": null,
   "metadata": {},
   "outputs": [],
   "source": [
    "phulo['Tốc độ (phút)'].plot.hist(bins = 40, figsize = (10,10))"
   ]
  },
  {
   "cell_type": "code",
   "execution_count": null,
   "metadata": {},
   "outputs": [],
   "source": [
    "phulo[phulo['Tốc độ (phút)'] < 50]['Total count'].hist()"
   ]
  },
  {
   "cell_type": "code",
   "execution_count": null,
   "metadata": {},
   "outputs": [],
   "source": [
    "len(phulo[(phulo['Tốc độ (phút)'] < 50) & (phulo['Total count'] < 2)])"
   ]
  },
  {
   "cell_type": "code",
   "execution_count": null,
   "metadata": {},
   "outputs": [],
   "source": [
    "len(phulo[(phulo['Tốc độ (phút)'] < 50) & (phulo['Total count'] < 5)])"
   ]
  },
  {
   "cell_type": "code",
   "execution_count": null,
   "metadata": {},
   "outputs": [],
   "source": [
    "phulo[(phulo['Tốc độ (phút)'] < 50) & (phulo['Total count'] < 5)].sort_values(['kho_dich','puttobag_created'])"
   ]
  },
  {
   "cell_type": "code",
   "execution_count": null,
   "metadata": {},
   "outputs": [],
   "source": [
    "list_bo = moi['bag_order'].unique().tolist()"
   ]
  },
  {
   "cell_type": "code",
   "execution_count": null,
   "metadata": {},
   "outputs": [],
   "source": [
    "phulo.set_index('bag_order').loc[list_bo]"
   ]
  },
  {
   "cell_type": "markdown",
   "metadata": {},
   "source": [
    "### tính thời gian từ lúc gói hàng đầu tiên được bỏ vào bao cho đến lúc gói hàng cuối cùng được bỏ vào"
   ]
  },
  {
   "cell_type": "code",
   "execution_count": null,
   "metadata": {},
   "outputs": [],
   "source": [
    "goihang = phulo['bag_order'].unique().tolist()\n",
    "time_wait = []\n",
    "for bao in goihang:\n",
    "    mama = phulo[phulo['bag_order'] == bao].sort_values('puttobag_created')\n",
    "    time_wait.append(mama.iloc[len(mama) -1]['puttobag_created'] -mama.iloc[0]['puttobag_created'])\n",
    "        "
   ]
  },
  {
   "cell_type": "code",
   "execution_count": null,
   "metadata": {},
   "outputs": [],
   "source": [
    "#time_wait\n",
    "#goihang\n",
    "time = {goihang[x]:time_wait[x] for x in range(len(time_wait))}"
   ]
  },
  {
   "cell_type": "code",
   "execution_count": null,
   "metadata": {},
   "outputs": [],
   "source": [
    "phulo['Time Wait'] = phulo['bag_order'].replace(time)"
   ]
  },
  {
   "cell_type": "code",
   "execution_count": null,
   "metadata": {},
   "outputs": [],
   "source": [
    "phulo['Time Wait'] = [phulo['Time Wait'].iloc[x].total_seconds() for x in range(len(phulo))]"
   ]
  },
  {
   "cell_type": "code",
   "execution_count": null,
   "metadata": {},
   "outputs": [],
   "source": [
    "phulo.groupby('bag_order').mean()['Time Wait'].hist(bins = 100, figsize= (10,10))"
   ]
  },
  {
   "cell_type": "code",
   "execution_count": null,
   "metadata": {},
   "outputs": [],
   "source": [
    "phulo.groupby('bag_order').mean()['Time Wait'].mean()"
   ]
  },
  {
   "cell_type": "code",
   "execution_count": null,
   "metadata": {},
   "outputs": [],
   "source": [
    "#thoi gian cho hon 5000s (gan 1h30p)\n",
    "#phulo.groupby('bag_order').mean()['Time Wait'][phulo.groupby('bag_order').mean()['Time Wait'] > 5000].index.tolist()"
   ]
  },
  {
   "cell_type": "code",
   "execution_count": null,
   "metadata": {},
   "outputs": [],
   "source": [
    "#Nhung bao co thoi gian cho hon 1h30\n",
    "phulo.set_index('bag_order').\\\n",
    "loc[\\\n",
    "    phulo.groupby('bag_order').mean()['Time Wait'][phulo.groupby('bag_order').mean()['Time Wait'] > 5000\\\n",
    "                                                  ].index.tolist()].index.unique()"
   ]
  },
  {
   "cell_type": "code",
   "execution_count": null,
   "metadata": {},
   "outputs": [],
   "source": [
    "phulo.set_index('bag_order').\\\n",
    "loc[\\\n",
    "    phulo.groupby('bag_order').mean()['Time Wait'][phulo.groupby('bag_order').mean()['Time Wait'] > 5000\\\n",
    "                                                  ].index.tolist()].reset_index().groupby('bag_order').mean()"
   ]
  },
  {
   "cell_type": "markdown",
   "metadata": {},
   "source": [
    "## Lựa tỉnh"
   ]
  },
  {
   "cell_type": "code",
   "execution_count": null,
   "metadata": {},
   "outputs": [],
   "source": [
    "mien = pd.read_excel(io = 'Phân loại miền cả nước.xlsx', sheet_name = 'Sheet1', usecols = 'B:C', skiprows = 2)"
   ]
  },
  {
   "cell_type": "code",
   "execution_count": null,
   "metadata": {},
   "outputs": [],
   "source": [
    "mien.columns"
   ]
  },
  {
   "cell_type": "code",
   "execution_count": null,
   "metadata": {},
   "outputs": [],
   "source": [
    "len(mien[' tỉnh'].unique())"
   ]
  },
  {
   "cell_type": "code",
   "execution_count": null,
   "metadata": {},
   "outputs": [],
   "source": [
    "#mien\n",
    "mien_dict  ={mien[' tỉnh'][x]: mien['code tỉnh'][x] for x in range(len(mien))}"
   ]
  },
  {
   "cell_type": "markdown",
   "metadata": {
    "jupyter": {
     "source_hidden": true
    }
   },
   "source": [
    "### Main"
   ]
  },
  {
   "cell_type": "code",
   "execution_count": null,
   "metadata": {},
   "outputs": [],
   "source": [
    "big1 = prepare('3092_ver5_all_LV_0.xlsx')"
   ]
  },
  {
   "cell_type": "code",
   "execution_count": null,
   "metadata": {},
   "outputs": [],
   "source": [
    "def tim_loi(khu_vuc,tocdo):\n",
    "    vung = big1[big1['lv'] == khu_vuc]\n",
    "    \n",
    "    #tinh thoi gian tu goi hang dau tien den goi hang cuoi cung:\n",
    "    goihang = vung['bag_order'].unique().tolist()\n",
    "    time_wait = []\n",
    "    for bao in goihang:\n",
    "        mama = vung[vung['bag_order'] == bao].sort_values('puttobag_created')\n",
    "        time_wait.append(mama.iloc[len(mama) -1]['puttobag_created'] -mama.iloc[0]['puttobag_created'])\n",
    "    time = {goihang[x]:time_wait[x] for x in range(len(time_wait))}\n",
    "    vung['Time Wait'] = vung['bag_order'].replace(time)\n",
    "    vung['Time Wait'] = [vung['Time Wait'].iloc[x].total_seconds() for x in range(len(vung))]\n",
    "    \n",
    "    #theo bao: Weight - Count\n",
    "    weight_pl = vung.groupby('bag_order').sum()[big1.columns[1]] # Usually weight or can_nang \n",
    "    count_pl = vung.groupby('bag_order').count()[big1.columns[1]]\n",
    "    \n",
    "    #Tao dict\n",
    "    weightpl_dict = {weight_pl.index.tolist()[x]: weight_pl.iloc[x] for x in range(len(weight_pl))}\n",
    "    countpl_dict = {count_pl.index.tolist()[x]: count_pl.iloc[x] for x in range(len(count_pl))}\n",
    "    \n",
    "    # Them cot\n",
    "    vung['Total weight'] = vung['bag_order'].copy().replace(weightpl_dict)\n",
    "    vung['Total count'] = vung['bag_order'].copy().replace(countpl_dict)\n",
    "    \n",
    "    #them thoi gian tu bo vao bao den seal:\n",
    "    vung['P to S'] = [(vung['seal_created'].iloc[x] - vung['puttobag_created'].iloc[x]).total_seconds() for x in range(len(vung))]\n",
    "    \n",
    "    #Thoi gian tu seal den export:\n",
    "    vung['S to E'] = [(vung['export_at'].iloc[x] - vung['seal_created'].iloc[x]).total_seconds() for x in range(len(vung))]\n",
    "    \n",
    "    #them mien:\n",
    "    vung['Miền'] = vung['tinh_dich'].copy().replace(mien_dict)\n",
    "    \n",
    "    #Import to put to bag:\n",
    "    vung['I to P'] = [(vung['puttobag_created'].iloc[x] - vung['import_at'].iloc[x]).total_seconds() for x in range(len(vung))]   \n",
    "    \n",
    "    # Bag WAIT-TIME/ Sealing:\n",
    "    vung['W on S'] = [(vung['Time Wait'].iloc[x]/vung['Tốc độ (phút)'].iloc[x]/60)*100 for x in range(len(vung))]\n",
    "    \n",
    "    #P to Seal:\n",
    "    vung['W to BS %'] =[(vung['seal_created'].iloc[x]-vung['puttobag_created'].iloc[x]).total_seconds()/(vung['Tốc độ (phút)'].iloc[x]*60)*100 for x in range(len(vung))]\n",
    "    \n",
    "    # tim thoa man dieu kien\n",
    "    kho_vung = vung.sort_values('kho_dich').kho_dich.unique().tolist()\n",
    "    cond_2 = []\n",
    "    for kho in kho_vung:\n",
    "        dfk = vung[vung['kho_dich'] == kho].sort_values(['bag_order','puttobag_created'])\n",
    "        for x in range(len(dfk) - 1):\n",
    "            if dfk.iloc[x]['bag_order'] != dfk.iloc[x+1]['bag_order']:\n",
    "                \n",
    "                if (dfk.iloc[x+1]['puttobag_created'] - dfk.iloc[x]['puttobag_created']).seconds/60 < tocdo:\n",
    "                    cond_2.append(dfk[dfk['pkg_order'] == dfk.iloc[x]['pkg_order']].index.tolist()[0])\n",
    "                    cond_2.append(dfk[dfk['pkg_order'] == dfk.iloc[x+1]['pkg_order']].index.tolist()[0])\n",
    "    cond_2 = list(set(cond_2))\n",
    "  \n",
    "    bang = vung.loc[cond_2]\n",
    "    return bang,vung\n",
    "\n",
    "    \n",
    "    "
   ]
  },
  {
   "cell_type": "markdown",
   "metadata": {},
   "source": [
    "# Cần thơ"
   ]
  },
  {
   "cell_type": "code",
   "execution_count": null,
   "metadata": {},
   "outputs": [],
   "source": [
    "oke,vung = tim_loi('LV - Thái Nguyên',10)"
   ]
  },
  {
   "cell_type": "code",
   "execution_count": null,
   "metadata": {},
   "outputs": [],
   "source": [
    "#oke"
   ]
  },
  {
   "cell_type": "code",
   "execution_count": null,
   "metadata": {},
   "outputs": [],
   "source": [
    "print(len(oke))\n",
    "print(len(vung))\n",
    "print(len(oke)/len(vung)*100)"
   ]
  },
  {
   "cell_type": "code",
   "execution_count": null,
   "metadata": {},
   "outputs": [],
   "source": [
    "print(len(oke['bag_order'].unique()))\n",
    "print(len(vung.groupby('bag_order').count()))\n",
    "print(len(oke['bag_order'].unique())/len(vung.groupby('bag_order').count())*100)"
   ]
  },
  {
   "cell_type": "code",
   "execution_count": null,
   "metadata": {},
   "outputs": [],
   "source": [
    "oke.columns"
   ]
  },
  {
   "cell_type": "code",
   "execution_count": null,
   "metadata": {},
   "outputs": [],
   "source": [
    "(oke.mean()/vung.mean()*100)"
   ]
  },
  {
   "cell_type": "code",
   "execution_count": null,
   "metadata": {},
   "outputs": [],
   "source": [
    "vung.mean().round(1)"
   ]
  },
  {
   "cell_type": "code",
   "execution_count": null,
   "metadata": {},
   "outputs": [],
   "source": [
    "#oke.mean()"
   ]
  },
  {
   "cell_type": "code",
   "execution_count": null,
   "metadata": {},
   "outputs": [],
   "source": [
    "oke.max()"
   ]
  },
  {
   "cell_type": "code",
   "execution_count": null,
   "metadata": {},
   "outputs": [],
   "source": [
    "#oke.to_excel(excel_writer = 'oke.xlsx',sheet_name = 'LV - Thái Nguyên')"
   ]
  },
  {
   "cell_type": "code",
   "execution_count": null,
   "metadata": {},
   "outputs": [],
   "source": [
    "vung[['Tốc độ (phút)','P to S','Total weight','Total count']].corr()"
   ]
  },
  {
   "cell_type": "markdown",
   "metadata": {},
   "source": [
    "### Phần khác"
   ]
  },
  {
   "cell_type": "code",
   "execution_count": null,
   "metadata": {},
   "outputs": [],
   "source": [
    "oke.mean().to_frame()\n",
    "#vung.mean().to_frame()"
   ]
  },
  {
   "cell_type": "markdown",
   "metadata": {},
   "source": [
    "Thời gian trung bình từ lúc xử lý xong hàng cho tới lúc xuất là khoảng 5000S(1h22) cho những món hàng trong các bao được chia nhỏ ra.\n",
    "Còn đối với các bao hàng bình thường trung bình là khoảng 5400s (1h38).\n",
    "\n"
   ]
  },
  {
   "cell_type": "markdown",
   "metadata": {},
   "source": [
    "Công hao phí xảy ra khi: số lượng bao hàng được tăng lên để thời gian chốt sát hơn thì:\n",
    "+ Công và thời gian cần để: đi tìm seal chốt bao\n",
    "+ thời gian hao phí khi chốt nhiều seal \n",
    "+ số lượng seal tốn và bao tốn\n",
    "+ diện tích chứa tăng lên khi lượng bao tăng lên đòi hỏi đội xuất phải di chuyển các bao hàng thường xuyên hơn mặc dù chưa tới giờ xuất (khi kho nhỏ)\n",
    "+ số lượng bao tăng lên đồng nghĩa khó kiểm soát bao hàng hơn, dễ thất lạc hay rơi vãi khi xuất\n",
    "+ Kho đích sẽ tốn thời gian hơn khi xử lý các bao hàng đến nơi"
   ]
  },
  {
   "cell_type": "markdown",
   "metadata": {},
   "source": [
    "Khi ép tốc độ xuống thì chưa hẳn thời gian xử lý xong hàng của liên vùng đó sẽ tăng giảm xuống để chất lượng dịch vụ tăng mà lại có thể làm cho công của các NV XLHH tăng lên một cách không cần thiết, vấn đề chính là chúng ta đang thêm chi phí cho sự không cần thiết này."
   ]
  },
  {
   "cell_type": "code",
   "execution_count": null,
   "metadata": {},
   "outputs": [],
   "source": [
    "#oke.head(25)"
   ]
  },
  {
   "cell_type": "code",
   "execution_count": null,
   "metadata": {},
   "outputs": [],
   "source": [
    "oke[['Total weight','Total count','P to S','S to E']].corr()"
   ]
  },
  {
   "cell_type": "code",
   "execution_count": null,
   "metadata": {},
   "outputs": [],
   "source": [
    "vung[['Total weight','Total count','P to S','S to E']].corr()"
   ]
  },
  {
   "cell_type": "code",
   "execution_count": null,
   "metadata": {},
   "outputs": [],
   "source": [
    "vung.groupby('kho_dich').count()['weight'].sort_values(ascending = True)"
   ]
  },
  {
   "cell_type": "code",
   "execution_count": null,
   "metadata": {},
   "outputs": [],
   "source": [
    "vung[vung['kho_dich'] == 'Phổ Quang'][['Total weight','Total count','P to S','S to E']].corr()"
   ]
  },
  {
   "cell_type": "markdown",
   "metadata": {},
   "source": [
    "_________________________________________________________________________________________________________________________________________________________________________________\n",
    "<br>\n",
    "_________________________________________________________________________________________________________________________________________________________________________________________________"
   ]
  },
  {
   "cell_type": "code",
   "execution_count": null,
   "metadata": {},
   "outputs": [],
   "source": [
    "big1['lv'].unique()"
   ]
  },
  {
   "cell_type": "code",
   "execution_count": null,
   "metadata": {},
   "outputs": [],
   "source": [
    "len(vung)"
   ]
  },
  {
   "cell_type": "markdown",
   "metadata": {},
   "source": [
    "Liên Vùng Thái nguyên: 2500/17000 đơn hàng hay (bao nhiều bao hàng). Có hiện tượng mặc dù số lượng hàng ít, cân nặng nhẹ, cùng đích, cùng thời gian nhưng được bỏ vào các bao khác nhau  mặc dù đúng giá đúng tốc độ nhưng công hao phí để buộc seal….\n",
    "- các Liên vùng nhỏ, ít hàng hơn có xu hướng xảy ra nhiều hơn vì hàng ít nên có khoảng trống để buộc seal (thời gian từ lúc puttobag tới buộc seal so sánh – tương quan với lượng hàng trung bình trong 1 bao).\n",
    "Hao phí chỗ nào…Có thể thúc đẩy nhanh quá trình làm hàng bằng cách cắt giảm thời gian xử lý ở những công đoạn nào.\n"
   ]
  },
  {
   "cell_type": "code",
   "execution_count": null,
   "metadata": {},
   "outputs": [],
   "source": [
    "vung.groupby('bag_order').mean()['Total count'].sort_values().plot.hist(bins = 100, log = True)"
   ]
  },
  {
   "cell_type": "code",
   "execution_count": null,
   "metadata": {},
   "outputs": [],
   "source": [
    "oke.groupby('bag_order').mean()['Total count'].sort_values().plot.hist(bins = 100, log = True)"
   ]
  },
  {
   "cell_type": "code",
   "execution_count": null,
   "metadata": {},
   "outputs": [],
   "source": [
    "vung.columns"
   ]
  },
  {
   "cell_type": "code",
   "execution_count": null,
   "metadata": {},
   "outputs": [],
   "source": [
    "oke.corr()"
   ]
  },
  {
   "cell_type": "code",
   "execution_count": null,
   "metadata": {},
   "outputs": [],
   "source": [
    "#Can Tho\n",
    "oke.sort_values(['kho_dich','puttobag_created']).mean()"
   ]
  },
  {
   "cell_type": "markdown",
   "metadata": {},
   "source": [
    "# Buôn Ma Thuột"
   ]
  },
  {
   "cell_type": "code",
   "execution_count": null,
   "metadata": {},
   "outputs": [],
   "source": [
    "oke1, vung1  = tim_loi('LV - Buôn Ma Thuột', 10)"
   ]
  },
  {
   "cell_type": "code",
   "execution_count": null,
   "metadata": {},
   "outputs": [],
   "source": [
    "print(len(oke1))\n",
    "print(len(vung1))\n",
    "print(len(oke1)/len(vung1)*100)"
   ]
  },
  {
   "cell_type": "code",
   "execution_count": null,
   "metadata": {},
   "outputs": [],
   "source": [
    "print(len(oke1['bag_order'].unique()))\n",
    "print(len(vung1.groupby('bag_order').count()))\n",
    "print(len(oke1['bag_order'].unique())/len(vung1.groupby('bag_order').count())*100)"
   ]
  },
  {
   "cell_type": "code",
   "execution_count": null,
   "metadata": {},
   "outputs": [],
   "source": [
    "(oke1.mean()/vung1.mean()*100)"
   ]
  },
  {
   "cell_type": "code",
   "execution_count": null,
   "metadata": {},
   "outputs": [],
   "source": [
    "vung1.mean()"
   ]
  },
  {
   "cell_type": "code",
   "execution_count": null,
   "metadata": {},
   "outputs": [],
   "source": [
    "#oke1.index.tolist()\n",
    "#cl_ass1 = {} "
   ]
  },
  {
   "cell_type": "code",
   "execution_count": null,
   "metadata": {},
   "outputs": [],
   "source": [
    "vung1['class'] = vung1.index.tolist()"
   ]
  },
  {
   "cell_type": "markdown",
   "metadata": {},
   "source": [
    "### Classfication"
   ]
  },
  {
   "cell_type": "code",
   "execution_count": null,
   "metadata": {},
   "outputs": [],
   "source": [
    "def classification_1(vung_may,oke_nao): \n",
    "    class_1 = []\n",
    "    for x in range(len(vung_may)):\n",
    "        if vung_may.index.tolist()[x] in oke_nao.index.tolist():\n",
    "            class_1.append(1)\n",
    "        else:\n",
    "            class_1.append(0)\n",
    "    return class_1"
   ]
  },
  {
   "cell_type": "code",
   "execution_count": null,
   "metadata": {},
   "outputs": [],
   "source": [
    "class_0 = classification_1(vung,oke)"
   ]
  },
  {
   "cell_type": "code",
   "execution_count": null,
   "metadata": {},
   "outputs": [],
   "source": [
    "#class_0"
   ]
  },
  {
   "cell_type": "code",
   "execution_count": null,
   "metadata": {},
   "outputs": [],
   "source": [
    "vung1.loc[:,'class'] = class_1.copy()"
   ]
  },
  {
   "cell_type": "code",
   "execution_count": null,
   "metadata": {},
   "outputs": [],
   "source": [
    "oke1.mean()"
   ]
  },
  {
   "cell_type": "code",
   "execution_count": null,
   "metadata": {},
   "outputs": [],
   "source": [
    "vung1[vung1['class'] == 0].mean()"
   ]
  },
  {
   "cell_type": "code",
   "execution_count": null,
   "metadata": {},
   "outputs": [],
   "source": [
    "from scipy.stats import entropy"
   ]
  },
  {
   "cell_type": "code",
   "execution_count": null,
   "metadata": {},
   "outputs": [],
   "source": [
    "len(vung1[vung1['class'] == 0])/len(vung1)"
   ]
  },
  {
   "cell_type": "code",
   "execution_count": null,
   "metadata": {},
   "outputs": [],
   "source": [
    "len(oke1)/len(vung1)"
   ]
  },
  {
   "cell_type": "code",
   "execution_count": null,
   "metadata": {},
   "outputs": [],
   "source": [
    "entropy([0.871788098906743, 0.12821190109325703], base=2)"
   ]
  },
  {
   "cell_type": "code",
   "execution_count": null,
   "metadata": {},
   "outputs": [],
   "source": [
    "vung['class'] = class_0.copy()"
   ]
  },
  {
   "cell_type": "code",
   "execution_count": null,
   "metadata": {},
   "outputs": [],
   "source": [
    "print(len(oke)/len(vung))\n",
    "print(len(vung[vung['class'] == 0])/len(vung))"
   ]
  },
  {
   "cell_type": "code",
   "execution_count": null,
   "metadata": {},
   "outputs": [],
   "source": [
    "class_0"
   ]
  },
  {
   "cell_type": "code",
   "execution_count": null,
   "metadata": {},
   "outputs": [],
   "source": [
    "entropy([0.2090981726868041,0.7909018273131959], base = 2)"
   ]
  },
  {
   "cell_type": "code",
   "execution_count": null,
   "metadata": {},
   "outputs": [],
   "source": [
    "vung"
   ]
  },
  {
   "cell_type": "markdown",
   "metadata": {},
   "source": [
    "### Afterward"
   ]
  },
  {
   "cell_type": "code",
   "execution_count": null,
   "metadata": {},
   "outputs": [],
   "source": [
    "#vung"
   ]
  },
  {
   "cell_type": "code",
   "execution_count": null,
   "metadata": {},
   "outputs": [],
   "source": [
    "#Can Tho:\n",
    "for x in "
   ]
  },
  {
   "cell_type": "markdown",
   "metadata": {},
   "source": [
    "### Finding USERNAME"
   ]
  },
  {
   "cell_type": "code",
   "execution_count": null,
   "metadata": {},
   "outputs": [],
   "source": [
    "vung.groupby('usernameputbag').count()['lv'].sort_values(ascending = False).index"
   ]
  },
  {
   "cell_type": "code",
   "execution_count": null,
   "metadata": {},
   "outputs": [],
   "source": [
    "oke.groupby('usernameputbag').count()['lv'].sort_values(ascending = False).head(10).index"
   ]
  },
  {
   "cell_type": "code",
   "execution_count": null,
   "metadata": {},
   "outputs": [],
   "source": [
    "vung.groupby('usernameputbag').count()['lv'].sort_values(ascending = False).head(10)"
   ]
  },
  {
   "cell_type": "code",
   "execution_count": null,
   "metadata": {},
   "outputs": [],
   "source": [
    "for x in vung.groupby('usernameputbag').count()['lv'].sort_values(ascending = False).head(10).index.tolist():\n",
    "    if x not in oke.groupby('usernameputbag').count()['lv'].sort_values(ascending = False).head(10).index.tolist():\n",
    "        print(x)"
   ]
  },
  {
   "cell_type": "markdown",
   "metadata": {},
   "source": [
    "### Comparing Waiting TIME between: High - Low Funtion Warehouse "
   ]
  },
  {
   "cell_type": "code",
   "execution_count": null,
   "metadata": {},
   "outputs": [],
   "source": [
    "oke2, vung2  = tim_loi('LV - Phù Lỗ', 10)"
   ]
  },
  {
   "cell_type": "code",
   "execution_count": null,
   "metadata": {},
   "outputs": [],
   "source": [
    "vung['Time Wait'].sort_values(ascending = False).unique()[0:21]"
   ]
  },
  {
   "cell_type": "code",
   "execution_count": null,
   "metadata": {},
   "outputs": [],
   "source": [
    "vung1['Time Wait'].sort_values(ascending = False).unique()[0:21]"
   ]
  },
  {
   "cell_type": "code",
   "execution_count": null,
   "metadata": {},
   "outputs": [],
   "source": [
    "vung2['Time Wait'].sort_values(ascending = False).unique()[0:21]"
   ]
  },
  {
   "cell_type": "code",
   "execution_count": null,
   "metadata": {},
   "outputs": [],
   "source": [
    "print('Vung 1: ', len(vung1))\n",
    "print('Vung: ', len(vung))\n",
    "print('Vung 2: ', len(vung2))"
   ]
  },
  {
   "cell_type": "code",
   "execution_count": null,
   "metadata": {},
   "outputs": [],
   "source": [
    "plt.plot(\n",
    "    range(\n",
    "        len(vung2['Time Wait'].sort_values(ascending = False).unique())\n",
    "            ), vung2['Time Wait'].sort_values(ascending = False).unique()\n",
    "             )"
   ]
  },
  {
   "cell_type": "code",
   "execution_count": null,
   "metadata": {},
   "outputs": [],
   "source": [
    "plt.plot(\n",
    "    range(\n",
    "        len(vung1['Time Wait'].sort_values(ascending = False).unique())\n",
    "            ), vung1['Time Wait'].sort_values(ascending = False).unique()\n",
    "             )"
   ]
  },
  {
   "cell_type": "code",
   "execution_count": null,
   "metadata": {},
   "outputs": [],
   "source": [
    "plt.plot(\n",
    "    range(\n",
    "        len(vung['Time Wait'].sort_values(ascending = False).unique())\n",
    "            ), vung['Time Wait'].sort_values(ascending = False).unique()\n",
    "             )"
   ]
  },
  {
   "cell_type": "code",
   "execution_count": null,
   "metadata": {},
   "outputs": [],
   "source": [
    "print('0:',vung['Time Wait'].sort_values(ascending = False).unique().mean())\n",
    "print('1:',vung1['Time Wait'].sort_values(ascending = False).unique().mean())\n",
    "print('2:',vung2['Time Wait'].sort_values(ascending = False).unique().mean())"
   ]
  },
  {
   "cell_type": "code",
   "execution_count": null,
   "metadata": {},
   "outputs": [],
   "source": [
    "vung['Time Wait'].max()"
   ]
  },
  {
   "cell_type": "code",
   "execution_count": null,
   "metadata": {},
   "outputs": [],
   "source": [
    "vung['Tốc độ (phút)'].argmax()"
   ]
  },
  {
   "cell_type": "code",
   "execution_count": null,
   "metadata": {},
   "outputs": [],
   "source": [
    "vung.iloc[894]"
   ]
  },
  {
   "cell_type": "code",
   "execution_count": null,
   "metadata": {},
   "outputs": [],
   "source": [
    "vung['W on S'].max()"
   ]
  },
  {
   "cell_type": "code",
   "execution_count": null,
   "metadata": {},
   "outputs": [],
   "source": [
    "vung.iloc[10193]"
   ]
  },
  {
   "cell_type": "code",
   "execution_count": null,
   "metadata": {},
   "outputs": [],
   "source": []
  },
  {
   "cell_type": "code",
   "execution_count": null,
   "metadata": {},
   "outputs": [],
   "source": [
    "vung[(vung['P to S'] <0) | (vung['W on S'] >100)].iloc[0]"
   ]
  },
  {
   "cell_type": "code",
   "execution_count": null,
   "metadata": {},
   "outputs": [],
   "source": [
    "#vung[vung['bag_order'] == 107014501].sort_values('seal')"
   ]
  },
  {
   "cell_type": "code",
   "execution_count": null,
   "metadata": {},
   "outputs": [],
   "source": [
    "plt.plot(\n",
    "    range(len(vung[vung['W to BS'] > 0])), \n",
    "                vung[vung['W to BS'] > 0]['W to BS'].values.tolist()) "
   ]
  },
  {
   "cell_type": "code",
   "execution_count": null,
   "metadata": {},
   "outputs": [],
   "source": [
    "plt.plot(range(len(vung)), vung['W on S'].values.tolist())"
   ]
  },
  {
   "cell_type": "code",
   "execution_count": null,
   "metadata": {},
   "outputs": [],
   "source": [
    "vung2[vung2['P to S'] < 0].groupby('Miền').count()['weight']"
   ]
  },
  {
   "cell_type": "code",
   "execution_count": null,
   "metadata": {},
   "outputs": [],
   "source": [
    "vung2[vung2['Miền'] == 'MB15']"
   ]
  },
  {
   "cell_type": "code",
   "execution_count": null,
   "metadata": {},
   "outputs": [],
   "source": [
    "vung1[vung1['P to S'] < 0].groupby('Miền').count()['weight']"
   ]
  },
  {
   "cell_type": "markdown",
   "metadata": {},
   "source": [
    "Thao tác lỗi: Thao tác đã chốt seal trên app nhưng trên thực tế có thể chưa chốt seal hoặc mở seal ra để bỏ hàng vào thêm.\n"
   ]
  },
  {
   "cell_type": "code",
   "execution_count": null,
   "metadata": {},
   "outputs": [],
   "source": [
    "vung.groupby('Miền').mean()['W to BS'].sort_values(ascending = False).tail(10)"
   ]
  },
  {
   "cell_type": "code",
   "execution_count": null,
   "metadata": {},
   "outputs": [],
   "source": [
    "vung.groupby('Miền').count()['weight'].sort_values(ascending = False).tail(10)"
   ]
  },
  {
   "cell_type": "code",
   "execution_count": null,
   "metadata": {},
   "outputs": [],
   "source": [
    "for x in vung.groupby('Miền').mean()['W to BS'].sort_values(ascending = False).tail(10).index:\n",
    "    if x in vung.groupby('Miền').count()['weight'].sort_values(ascending = False).tail(10).index:\n",
    "        print(x)"
   ]
  },
  {
   "cell_type": "code",
   "execution_count": null,
   "metadata": {},
   "outputs": [],
   "source": [
    "vung.tail(10)[['Tốc độ (phút)', 'Date',\n",
    "       'Time Wait', 'Total weight', 'Total count', 'P to S', 'S to E', 'Miền',\n",
    "       'I to P', 'W on S']]"
   ]
  },
  {
   "cell_type": "code",
   "execution_count": null,
   "metadata": {},
   "outputs": [],
   "source": [
    "vung.columns"
   ]
  },
  {
   "cell_type": "code",
   "execution_count": null,
   "metadata": {},
   "outputs": [],
   "source": [
    "cols = ['pkg_order', 'weight', 'bag_order', 'usernameputbag', 'import_at',\n",
    "       'puttobag_created', 'seal_created', 'export_at', 'kho_dich', 'Tốc độ (phút)', 'Date',\n",
    "       'Time Wait', 'Total weight', 'Total count', 'P to S', 'S to E', 'Miền',\n",
    "       'I to P', 'W on S', 'W to BS']"
   ]
  },
  {
   "cell_type": "code",
   "execution_count": null,
   "metadata": {},
   "outputs": [],
   "source": [
    "vung[vung['Time Wait'] != 0][cols]"
   ]
  },
  {
   "cell_type": "code",
   "execution_count": null,
   "metadata": {},
   "outputs": [],
   "source": [
    "vung.mean()"
   ]
  },
  {
   "cell_type": "code",
   "execution_count": null,
   "metadata": {},
   "outputs": [],
   "source": [
    "vung2.mean()"
   ]
  },
  {
   "cell_type": "code",
   "execution_count": null,
   "metadata": {},
   "outputs": [],
   "source": [
    "vung1.mean()"
   ]
  },
  {
   "cell_type": "code",
   "execution_count": null,
   "metadata": {},
   "outputs": [],
   "source": [
    "print(len(vung),len(vung1),len(vung2))"
   ]
  },
  {
   "cell_type": "markdown",
   "metadata": {},
   "source": [
    "Giving a general observation we can see that the warehouse with more packages volumns also got higher W to BS% rate. We can group with as a whole and find the relationship between volumns at certain module and their W to BS% time."
   ]
  },
  {
   "cell_type": "markdown",
   "metadata": {},
   "source": [
    "W on S rate in Phu lo are much lower than in Thai Nguyen (vung) or Buon Ma Thuoc (vung 2). W to S Rate indicates the wait time inside of the same bag from first packages to last packages for which the packages was put inside. A W2S rate higher than 100% indicates:"
   ]
  },
  {
   "cell_type": "code",
   "execution_count": null,
   "metadata": {},
   "outputs": [],
   "source": [
    "oke3, vung3  = tim_loi('LV - Huế', 10)"
   ]
  },
  {
   "cell_type": "code",
   "execution_count": null,
   "metadata": {},
   "outputs": [],
   "source": [
    "vung3.mean()"
   ]
  },
  {
   "cell_type": "code",
   "execution_count": null,
   "metadata": {},
   "outputs": [],
   "source": [
    "vung3['W on S'].plot.hist(bins = 100, xlim = 0)"
   ]
  },
  {
   "cell_type": "code",
   "execution_count": null,
   "metadata": {},
   "outputs": [],
   "source": [
    "vung['W on S'].plot.hist(bins = 100)"
   ]
  },
  {
   "cell_type": "code",
   "execution_count": null,
   "metadata": {},
   "outputs": [],
   "source": [
    "vung2['W on S'].plot.hist(bins = 100, log = True)"
   ]
  },
  {
   "cell_type": "code",
   "execution_count": null,
   "metadata": {},
   "outputs": [],
   "source": [
    "vung2.groupby('kho_dich').mean()"
   ]
  },
  {
   "cell_type": "code",
   "execution_count": null,
   "metadata": {},
   "outputs": [],
   "source": [
    "vung2.corr()"
   ]
  },
  {
   "cell_type": "code",
   "execution_count": null,
   "metadata": {},
   "outputs": [],
   "source": [
    "col_x = ['weight','Tốc độ (phút)', \n",
    "       'Time Wait', 'Total weight', 'Total count', 'P to S', 'S to E', \n",
    "       'I to P', 'W on S', 'W to BS %']\n",
    "col_y = ['Miền']"
   ]
  },
  {
   "cell_type": "code",
   "execution_count": null,
   "metadata": {},
   "outputs": [],
   "source": [
    "vung2.columns"
   ]
  },
  {
   "cell_type": "code",
   "execution_count": null,
   "metadata": {},
   "outputs": [],
   "source": [
    "\n",
    "from sklearn.metrics import confusion_matrix \n",
    "from sklearn.model_selection import train_test_split \n",
    "from sklearn.tree import DecisionTreeClassifier \n",
    "from sklearn.metrics import accuracy_score \n",
    "from sklearn.metrics import classification_report \n",
    "  \n",
    "# Function importing Dataset \n",
    "def importdata(): \n",
    "    balance_data = vung2 \n",
    "    return balance_data \n",
    "  \n",
    "# Function to split the dataset \n",
    "def splitdataset(balance_data): \n",
    "  \n",
    "    # Separating the target variable \n",
    "    X = balance_data[col_x]\n",
    "    Y = balance_data[col_y] \n",
    "  \n",
    "    # Splitting the dataset into train and test \n",
    "    X_train, X_test, y_train, y_test = train_test_split(  \n",
    "    X, Y, test_size = 0.3, random_state = 100) \n",
    "      \n",
    "    return X, Y, X_train, X_test, y_train, y_test \n",
    "      \n",
    "# Function to perform training with giniIndex. \n",
    "def train_using_gini(X_train, X_test, y_train): \n",
    "  \n",
    "    # Creating the classifier object \n",
    "    clf_gini = DecisionTreeClassifier(criterion = \"gini\", \n",
    "            random_state = 100,max_depth=3, min_samples_leaf=5) \n",
    "  \n",
    "    # Performing training \n",
    "    clf_gini.fit(X_train, y_train) \n",
    "    return clf_gini \n",
    "      \n",
    "# Function to perform training with entropy. \n",
    "def tarin_using_entropy(X_train, X_test, y_train): \n",
    "  \n",
    "    # Decision tree with entropy \n",
    "    clf_entropy = DecisionTreeClassifier( \n",
    "            criterion = \"entropy\", random_state = 100, \n",
    "            max_depth = 3, min_samples_leaf = 5) \n",
    "  \n",
    "    # Performing training \n",
    "    clf_entropy.fit(X_train, y_train) \n",
    "    return clf_entropy \n",
    "  \n",
    "  \n",
    "# Function to make predictions \n",
    "def prediction(X_test, clf_object): \n",
    "  \n",
    "    # Predicton on test with giniIndex \n",
    "    y_pred = clf_object.predict(X_test) \n",
    "    print(\"Predicted values:\") \n",
    "    print(y_pred) \n",
    "    return y_pred \n",
    "      \n",
    "# Function to calculate accuracy \n",
    "def cal_accuracy(y_test, y_pred): \n",
    "      \n",
    "    print(\"Confusion Matrix: \", \n",
    "        confusion_matrix(y_test, y_pred)) \n",
    "      \n",
    "    print (\"Accuracy : \", \n",
    "    accuracy_score(y_test,y_pred)*100) \n",
    "      \n",
    "    print(\"Report : \", \n",
    "    classification_report(y_test, y_pred)) \n",
    "  \n",
    "# Driver code \n",
    "def main(): \n",
    "      \n",
    "    # Building Phase \n",
    "    data = importdata() \n",
    "    X, Y, X_train, X_test, y_train, y_test = splitdataset(data) \n",
    "    clf_gini = train_using_gini(X_train, X_test, y_train) \n",
    "    clf_entropy = tarin_using_entropy(X_train, X_test, y_train) \n",
    "      \n",
    "    # Operational Phase \n",
    "    print(\"Results Using Gini Index:\") \n",
    "      \n",
    "    # Prediction using gini \n",
    "    y_pred_gini = prediction(X_test, clf_gini) \n",
    "    cal_accuracy(y_test, y_pred_gini) \n",
    "      \n",
    "    print(\"Results Using Entropy:\") \n",
    "    # Prediction using entropy \n",
    "    y_pred_entropy = prediction(X_test, clf_entropy) \n",
    "    cal_accuracy(y_test, y_pred_entropy) \n",
    "      \n",
    "      \n",
    "# Calling main function \n",
    "if __name__==\"__main__\": \n",
    "    main()"
   ]
  },
  {
   "cell_type": "code",
   "execution_count": null,
   "metadata": {},
   "outputs": [],
   "source": [
    "big1['lv'].unique().tolist()"
   ]
  },
  {
   "cell_type": "code",
   "execution_count": null,
   "metadata": {},
   "outputs": [],
   "source": [
    "pd.DataFrame({str(1):vung1.mean(),str(2):vung.mean()})"
   ]
  },
  {
   "cell_type": "code",
   "execution_count": null,
   "metadata": {},
   "outputs": [],
   "source": [
    "print(vars())"
   ]
  },
  {
   "cell_type": "code",
   "execution_count": null,
   "metadata": {},
   "outputs": [],
   "source": [
    "def test():\n",
    "    food  = 'bread'\n",
    "    vars()[food] = 123\n",
    "    print(vars()[food])\n",
    "test()"
   ]
  },
  {
   "cell_type": "code",
   "execution_count": null,
   "metadata": {},
   "outputs": [],
   "source": [
    "food  = 'bread'\n",
    "vars()[food] = 123\n",
    "print(vars()[food])"
   ]
  },
  {
   "cell_type": "code",
   "execution_count": null,
   "metadata": {},
   "outputs": [],
   "source": [
    "def combine(t):\n",
    "    count = 0\n",
    "    for x in big1['lv'].unique().tolist():\n",
    "        if x != 'LV - Phù Lỗ':\n",
    "            var1 = 'oke' + str(count)\n",
    "            var2 = 'vung' + str(count)\n",
    "            vars()[var1], vars()[var2] = tim_loi(x,t)\n",
    "            tem_dict = {} \n",
    "            tem_dict.update({x:vars()[var2].mean()})\n",
    "    return pd.DataFrame(tem_dict)"
   ]
  },
  {
   "cell_type": "code",
   "execution_count": null,
   "metadata": {},
   "outputs": [],
   "source": [
    "all_t = combine(10)"
   ]
  },
  {
   "cell_type": "code",
   "execution_count": null,
   "metadata": {},
   "outputs": [],
   "source": [
    "all_t"
   ]
  },
  {
   "cell_type": "code",
   "execution_count": null,
   "metadata": {},
   "outputs": [],
   "source": [
    "all_t"
   ]
  },
  {
   "cell_type": "code",
   "execution_count": null,
   "metadata": {},
   "outputs": [],
   "source": []
  }
 ],
 "metadata": {
  "kernelspec": {
   "display_name": "Python 3",
   "language": "python",
   "name": "python3"
  },
  "language_info": {
   "codemirror_mode": {
    "name": "ipython",
    "version": 3
   },
   "file_extension": ".py",
   "mimetype": "text/x-python",
   "name": "python",
   "nbconvert_exporter": "python",
   "pygments_lexer": "ipython3",
   "version": "3.7.6"
  }
 },
 "nbformat": 4,
 "nbformat_minor": 4
}
