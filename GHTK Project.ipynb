{
 "cells": [
  {
   "cell_type": "code",
   "execution_count": 1,
   "metadata": {},
   "outputs": [],
   "source": [
    "import pandas as pd\n",
    "import os\n",
    "import numpy as np\n",
    "import seaborn as sns\n",
    "import matplotlib.pyplot as plt",
    "%matplotlib inline"
   ]
  },
  {
   "cell_type": "code",
   "execution_count": 2,
   "metadata": {},
   "outputs": [
    {
     "name": "stdout",
     "output_type": "stream",
     "text": [
      "C:\\Users\\PC\\Jupyter\\Bảng lương XLHH liên vùng tháng 5.xlxs\n"
     ]
    },
    {
     "data": {
      "text/plain": [
       "\"use os.path.abspath to get a normalized absolutized version of the pathname\\nuse os.walk to get it's location\\n\\nimport os\\nexe = 'something.exe'\\n#if the exe just in current dir\\nprint os.path.abspath(exe)\\n# output\\n# D:\\\\python\\note\\\\something.exe\\n\\n#if we need find it first\\nfor root, dirs, files in os.walk(r'D:\\\\python'):\\n    for name in files:\\n        if name == exe:\\n            print os.path.abspath(os.path.join(root, name))\""
      ]
     },
     "execution_count": 2,
     "metadata": {},
     "output_type": "execute_result"
    }
   ],
   "source": [
    "#os.listdir(r'C:\\Users\\PC\\Downloads\\Skype')\n",
    "print(os.path.abspath(\"Bảng lương XLHH liên vùng tháng 5.xlxs\"))\n",
    "'''use os.path.abspath to get a normalized absolutized version of the pathname\n",
    "use os.walk to get it's location\n",
    "\n",
    "import os\n",
    "exe = 'something.exe'\n",
    "#if the exe just in current dir\n",
    "print os.path.abspath(exe)\n",
    "# output\n",
    "# D:\\python\\note\\something.exe\n",
    "\n",
    "#if we need find it first\n",
    "for root, dirs, files in os.walk(r'D:\\python'):\n",
    "    for name in files:\n",
    "        if name == exe:\n",
    "            print os.path.abspath(os.path.join(root, name))'''"
   ]
  },
  {
   "cell_type": "code",
   "execution_count": 3,
   "metadata": {},
   "outputs": [
    {
     "data": {
      "text/html": [
       "<div>\n",
       "<style scoped>\n",
       "    .dataframe tbody tr th:only-of-type {\n",
       "        vertical-align: middle;\n",
       "    }\n",
       "\n",
       "    .dataframe tbody tr th {\n",
       "        vertical-align: top;\n",
       "    }\n",
       "\n",
       "    .dataframe thead th {\n",
       "        text-align: right;\n",
       "    }\n",
       "</style>\n",
       "<table border=\"1\" class=\"dataframe\">\n",
       "  <thead>\n",
       "    <tr style=\"text-align: right;\">\n",
       "      <th></th>\n",
       "      <th>#</th>\n",
       "      <th>username</th>\n",
       "      <th>fullname</th>\n",
       "      <th>Kho</th>\n",
       "      <th>Tỉnh</th>\n",
       "      <th>Trạng Thái</th>\n",
       "      <th>Ngày Vào</th>\n",
       "      <th>Ngày Lương Chuẩn</th>\n",
       "      <th>Ngày Nghỉ</th>\n",
       "      <th>Bộ Phận</th>\n",
       "      <th>...</th>\n",
       "      <th>Lương thử việc</th>\n",
       "      <th>Unnamed: 62</th>\n",
       "      <th>Lương tăng ca thử việc</th>\n",
       "      <th>Lương tối thiẻu mặc định</th>\n",
       "      <th>Lương tối thiểu</th>\n",
       "      <th>Lương cấp bậc quản lý</th>\n",
       "      <th>Lương Phụ Cấp ca đêm</th>\n",
       "      <th>Lương KPI</th>\n",
       "      <th>Lương tối thiểu BHXH</th>\n",
       "      <th>Tổng lương</th>\n",
       "    </tr>\n",
       "  </thead>\n",
       "  <tbody>\n",
       "    <tr>\n",
       "      <th>0</th>\n",
       "      <td>1</td>\n",
       "      <td>giangnv2</td>\n",
       "      <td>Nguyễn Văn Giang</td>\n",
       "      <td>LV - Long Xuyên</td>\n",
       "      <td>An Giang</td>\n",
       "      <td>Đang hoạt động</td>\n",
       "      <td>2017-07-22</td>\n",
       "      <td>2017-07-22</td>\n",
       "      <td>NaN</td>\n",
       "      <td>Vận hành liên vùng</td>\n",
       "      <td>...</td>\n",
       "      <td>0.000000e+00</td>\n",
       "      <td>NaN</td>\n",
       "      <td>0.000000e+00</td>\n",
       "      <td>4258600</td>\n",
       "      <td>3.954414e+06</td>\n",
       "      <td>0.0</td>\n",
       "      <td>3.461538e+05</td>\n",
       "      <td>7.774725e+06</td>\n",
       "      <td>3920000</td>\n",
       "      <td>9.412648e+06</td>\n",
       "    </tr>\n",
       "    <tr>\n",
       "      <th>1</th>\n",
       "      <td>2</td>\n",
       "      <td>tungpt10</td>\n",
       "      <td>Phù Thanh Tùng</td>\n",
       "      <td>LV - Long Xuyên</td>\n",
       "      <td>An Giang</td>\n",
       "      <td>Đang hoạt động</td>\n",
       "      <td>2018-10-06</td>\n",
       "      <td>2018-10-06</td>\n",
       "      <td>NaN</td>\n",
       "      <td>Vận hành liên vùng</td>\n",
       "      <td>...</td>\n",
       "      <td>0.000000e+00</td>\n",
       "      <td>NaN</td>\n",
       "      <td>0.000000e+00</td>\n",
       "      <td>4258600</td>\n",
       "      <td>3.802321e+06</td>\n",
       "      <td>0.0</td>\n",
       "      <td>3.461538e+05</td>\n",
       "      <td>7.667582e+06</td>\n",
       "      <td>3920000</td>\n",
       "      <td>9.305505e+06</td>\n",
       "    </tr>\n",
       "    <tr>\n",
       "      <th>2</th>\n",
       "      <td>3</td>\n",
       "      <td>baonh11</td>\n",
       "      <td>Nguyễn Huỳnh Bảo</td>\n",
       "      <td>LV - Long Xuyên</td>\n",
       "      <td>An Giang</td>\n",
       "      <td>Đang hoạt động</td>\n",
       "      <td>2019-03-01</td>\n",
       "      <td>2019-03-21</td>\n",
       "      <td>NaN</td>\n",
       "      <td>Vận hành liên vùng</td>\n",
       "      <td>...</td>\n",
       "      <td>0.000000e+00</td>\n",
       "      <td>NaN</td>\n",
       "      <td>0.000000e+00</td>\n",
       "      <td>4258600</td>\n",
       "      <td>3.802321e+06</td>\n",
       "      <td>0.0</td>\n",
       "      <td>3.076923e+05</td>\n",
       "      <td>7.004121e+06</td>\n",
       "      <td>3920000</td>\n",
       "      <td>8.314459e+06</td>\n",
       "    </tr>\n",
       "    <tr>\n",
       "      <th>3</th>\n",
       "      <td>4</td>\n",
       "      <td>khamlq2</td>\n",
       "      <td>Lê Quốc Khâm</td>\n",
       "      <td>LV - Long Xuyên</td>\n",
       "      <td>An Giang</td>\n",
       "      <td>Đang hoạt động</td>\n",
       "      <td>2017-10-30</td>\n",
       "      <td>2019-05-22</td>\n",
       "      <td>NaN</td>\n",
       "      <td>Vận hành liên vùng</td>\n",
       "      <td>...</td>\n",
       "      <td>0.000000e+00</td>\n",
       "      <td>NaN</td>\n",
       "      <td>0.000000e+00</td>\n",
       "      <td>4258600</td>\n",
       "      <td>3.818055e+06</td>\n",
       "      <td>0.0</td>\n",
       "      <td>5.769231e+05</td>\n",
       "      <td>7.121751e+06</td>\n",
       "      <td>3920000</td>\n",
       "      <td>9.251051e+06</td>\n",
       "    </tr>\n",
       "    <tr>\n",
       "      <th>4</th>\n",
       "      <td>5</td>\n",
       "      <td>loclnh</td>\n",
       "      <td>Lê Nguyễn Hoàng Lộc</td>\n",
       "      <td>LV - Long Xuyên</td>\n",
       "      <td>An Giang</td>\n",
       "      <td>Đang hoạt động</td>\n",
       "      <td>2019-10-09</td>\n",
       "      <td>2019-11-16</td>\n",
       "      <td>NaN</td>\n",
       "      <td>Vận hành liên vùng</td>\n",
       "      <td>...</td>\n",
       "      <td>0.000000e+00</td>\n",
       "      <td>NaN</td>\n",
       "      <td>0.000000e+00</td>\n",
       "      <td>4258600</td>\n",
       "      <td>3.954414e+06</td>\n",
       "      <td>0.0</td>\n",
       "      <td>4.615385e+05</td>\n",
       "      <td>7.611538e+06</td>\n",
       "      <td>3920000</td>\n",
       "      <td>8.921877e+06</td>\n",
       "    </tr>\n",
       "    <tr>\n",
       "      <th>...</th>\n",
       "      <td>...</td>\n",
       "      <td>...</td>\n",
       "      <td>...</td>\n",
       "      <td>...</td>\n",
       "      <td>...</td>\n",
       "      <td>...</td>\n",
       "      <td>...</td>\n",
       "      <td>...</td>\n",
       "      <td>...</td>\n",
       "      <td>...</td>\n",
       "      <td>...</td>\n",
       "      <td>...</td>\n",
       "      <td>...</td>\n",
       "      <td>...</td>\n",
       "      <td>...</td>\n",
       "      <td>...</td>\n",
       "      <td>...</td>\n",
       "      <td>...</td>\n",
       "      <td>...</td>\n",
       "      <td>...</td>\n",
       "      <td>...</td>\n",
       "    </tr>\n",
       "    <tr>\n",
       "      <th>2070</th>\n",
       "      <td>2071</td>\n",
       "      <td>phuonghtt5</td>\n",
       "      <td>Hà Thị Trúc Phượng</td>\n",
       "      <td>LV - Bà Rịa</td>\n",
       "      <td>Bà Rịa - Vũng Tàu</td>\n",
       "      <td>Đang hoạt động</td>\n",
       "      <td>2020-04-14</td>\n",
       "      <td>2020-06-14</td>\n",
       "      <td>NaN</td>\n",
       "      <td>Vận hành liên vùng</td>\n",
       "      <td>...</td>\n",
       "      <td>6.153846e+06</td>\n",
       "      <td>NaN</td>\n",
       "      <td>2.293092e+06</td>\n",
       "      <td>4258600</td>\n",
       "      <td>0.000000e+00</td>\n",
       "      <td>0.0</td>\n",
       "      <td>1.038462e+06</td>\n",
       "      <td>1.038462e+06</td>\n",
       "      <td>3920000</td>\n",
       "      <td>9.485400e+06</td>\n",
       "    </tr>\n",
       "    <tr>\n",
       "      <th>2071</th>\n",
       "      <td>2072</td>\n",
       "      <td>haunn7</td>\n",
       "      <td>Nguyễn Ngọc Hậu</td>\n",
       "      <td>LV - Bà Rịa</td>\n",
       "      <td>Bà Rịa - Vũng Tàu</td>\n",
       "      <td>Đang hoạt động</td>\n",
       "      <td>2020-04-17</td>\n",
       "      <td>2020-06-17</td>\n",
       "      <td>NaN</td>\n",
       "      <td>Vận hành liên vùng</td>\n",
       "      <td>...</td>\n",
       "      <td>6.153846e+06</td>\n",
       "      <td>NaN</td>\n",
       "      <td>2.293092e+06</td>\n",
       "      <td>4258600</td>\n",
       "      <td>0.000000e+00</td>\n",
       "      <td>0.0</td>\n",
       "      <td>8.461538e+05</td>\n",
       "      <td>8.461538e+05</td>\n",
       "      <td>3920000</td>\n",
       "      <td>9.293092e+06</td>\n",
       "    </tr>\n",
       "    <tr>\n",
       "      <th>2072</th>\n",
       "      <td>2073</td>\n",
       "      <td>chienhq5</td>\n",
       "      <td>Huỳnh Quang Chiến</td>\n",
       "      <td>LV - Bà Rịa</td>\n",
       "      <td>Bà Rịa - Vũng Tàu</td>\n",
       "      <td>Đang hoạt động</td>\n",
       "      <td>2020-04-24</td>\n",
       "      <td>2020-06-24</td>\n",
       "      <td>NaN</td>\n",
       "      <td>Vận hành liên vùng</td>\n",
       "      <td>...</td>\n",
       "      <td>5.641026e+06</td>\n",
       "      <td>NaN</td>\n",
       "      <td>1.801715e+06</td>\n",
       "      <td>4258600</td>\n",
       "      <td>0.000000e+00</td>\n",
       "      <td>0.0</td>\n",
       "      <td>6.538462e+05</td>\n",
       "      <td>6.538462e+05</td>\n",
       "      <td>3920000</td>\n",
       "      <td>8.096587e+06</td>\n",
       "    </tr>\n",
       "    <tr>\n",
       "      <th>2073</th>\n",
       "      <td>2074</td>\n",
       "      <td>dannv5</td>\n",
       "      <td>Nguyễn Văn Dần</td>\n",
       "      <td>LV - Bà Rịa</td>\n",
       "      <td>Bà Rịa - Vũng Tàu</td>\n",
       "      <td>Đang hoạt động</td>\n",
       "      <td>2020-04-27</td>\n",
       "      <td>2020-06-27</td>\n",
       "      <td>NaN</td>\n",
       "      <td>Vận hành liên vùng</td>\n",
       "      <td>...</td>\n",
       "      <td>4.871795e+06</td>\n",
       "      <td>NaN</td>\n",
       "      <td>9.827538e+05</td>\n",
       "      <td>4258600</td>\n",
       "      <td>0.000000e+00</td>\n",
       "      <td>0.0</td>\n",
       "      <td>5.000000e+05</td>\n",
       "      <td>5.000000e+05</td>\n",
       "      <td>3920000</td>\n",
       "      <td>6.354549e+06</td>\n",
       "    </tr>\n",
       "    <tr>\n",
       "      <th>2074</th>\n",
       "      <td>2075</td>\n",
       "      <td>nguyetnta2</td>\n",
       "      <td>Nguyễn Thị Ánh Nguyệt</td>\n",
       "      <td>LV - Bà Rịa</td>\n",
       "      <td>Bà Rịa - Vũng Tàu</td>\n",
       "      <td>Đang hoạt động</td>\n",
       "      <td>2020-05-18</td>\n",
       "      <td>2020-07-14</td>\n",
       "      <td>NaN</td>\n",
       "      <td>Vận hành liên vùng</td>\n",
       "      <td>...</td>\n",
       "      <td>1.794872e+06</td>\n",
       "      <td>NaN</td>\n",
       "      <td>0.000000e+00</td>\n",
       "      <td>4258600</td>\n",
       "      <td>0.000000e+00</td>\n",
       "      <td>0.0</td>\n",
       "      <td>1.923077e+05</td>\n",
       "      <td>1.923077e+05</td>\n",
       "      <td>3920000</td>\n",
       "      <td>1.987179e+06</td>\n",
       "    </tr>\n",
       "  </tbody>\n",
       "</table>\n",
       "<p>2075 rows × 71 columns</p>\n",
       "</div>"
      ],
      "text/plain": [
       "         #    username               fullname              Kho  \\\n",
       "0        1    giangnv2       Nguyễn Văn Giang  LV - Long Xuyên   \n",
       "1        2    tungpt10         Phù Thanh Tùng  LV - Long Xuyên   \n",
       "2        3     baonh11       Nguyễn Huỳnh Bảo  LV - Long Xuyên   \n",
       "3        4     khamlq2           Lê Quốc Khâm  LV - Long Xuyên   \n",
       "4        5      loclnh    Lê Nguyễn Hoàng Lộc  LV - Long Xuyên   \n",
       "...    ...         ...                    ...              ...   \n",
       "2070  2071  phuonghtt5     Hà Thị Trúc Phượng      LV - Bà Rịa   \n",
       "2071  2072      haunn7        Nguyễn Ngọc Hậu      LV - Bà Rịa   \n",
       "2072  2073    chienhq5      Huỳnh Quang Chiến      LV - Bà Rịa   \n",
       "2073  2074      dannv5         Nguyễn Văn Dần      LV - Bà Rịa   \n",
       "2074  2075  nguyetnta2  Nguyễn Thị Ánh Nguyệt      LV - Bà Rịa   \n",
       "\n",
       "                   Tỉnh      Trạng Thái    Ngày Vào Ngày Lương Chuẩn  \\\n",
       "0              An Giang  Đang hoạt động  2017-07-22       2017-07-22   \n",
       "1              An Giang  Đang hoạt động  2018-10-06       2018-10-06   \n",
       "2              An Giang  Đang hoạt động  2019-03-01       2019-03-21   \n",
       "3              An Giang  Đang hoạt động  2017-10-30       2019-05-22   \n",
       "4              An Giang  Đang hoạt động  2019-10-09       2019-11-16   \n",
       "...                 ...             ...         ...              ...   \n",
       "2070  Bà Rịa - Vũng Tàu  Đang hoạt động  2020-04-14       2020-06-14   \n",
       "2071  Bà Rịa - Vũng Tàu  Đang hoạt động  2020-04-17       2020-06-17   \n",
       "2072  Bà Rịa - Vũng Tàu  Đang hoạt động  2020-04-24       2020-06-24   \n",
       "2073  Bà Rịa - Vũng Tàu  Đang hoạt động  2020-04-27       2020-06-27   \n",
       "2074  Bà Rịa - Vũng Tàu  Đang hoạt động  2020-05-18       2020-07-14   \n",
       "\n",
       "      Ngày Nghỉ             Bộ Phận  ... Lương thử việc Unnamed: 62  \\\n",
       "0           NaN  Vận hành liên vùng  ...   0.000000e+00         NaN   \n",
       "1           NaN  Vận hành liên vùng  ...   0.000000e+00         NaN   \n",
       "2           NaN  Vận hành liên vùng  ...   0.000000e+00         NaN   \n",
       "3           NaN  Vận hành liên vùng  ...   0.000000e+00         NaN   \n",
       "4           NaN  Vận hành liên vùng  ...   0.000000e+00         NaN   \n",
       "...         ...                 ...  ...            ...         ...   \n",
       "2070        NaN  Vận hành liên vùng  ...   6.153846e+06         NaN   \n",
       "2071        NaN  Vận hành liên vùng  ...   6.153846e+06         NaN   \n",
       "2072        NaN  Vận hành liên vùng  ...   5.641026e+06         NaN   \n",
       "2073        NaN  Vận hành liên vùng  ...   4.871795e+06         NaN   \n",
       "2074        NaN  Vận hành liên vùng  ...   1.794872e+06         NaN   \n",
       "\n",
       "     Lương tăng ca thử việc Lương tối thiẻu mặc định Lương tối thiểu  \\\n",
       "0              0.000000e+00                  4258600    3.954414e+06   \n",
       "1              0.000000e+00                  4258600    3.802321e+06   \n",
       "2              0.000000e+00                  4258600    3.802321e+06   \n",
       "3              0.000000e+00                  4258600    3.818055e+06   \n",
       "4              0.000000e+00                  4258600    3.954414e+06   \n",
       "...                     ...                      ...             ...   \n",
       "2070           2.293092e+06                  4258600    0.000000e+00   \n",
       "2071           2.293092e+06                  4258600    0.000000e+00   \n",
       "2072           1.801715e+06                  4258600    0.000000e+00   \n",
       "2073           9.827538e+05                  4258600    0.000000e+00   \n",
       "2074           0.000000e+00                  4258600    0.000000e+00   \n",
       "\n",
       "      Lương cấp bậc quản lý  Lương Phụ Cấp ca đêm     Lương KPI  \\\n",
       "0                       0.0          3.461538e+05  7.774725e+06   \n",
       "1                       0.0          3.461538e+05  7.667582e+06   \n",
       "2                       0.0          3.076923e+05  7.004121e+06   \n",
       "3                       0.0          5.769231e+05  7.121751e+06   \n",
       "4                       0.0          4.615385e+05  7.611538e+06   \n",
       "...                     ...                   ...           ...   \n",
       "2070                    0.0          1.038462e+06  1.038462e+06   \n",
       "2071                    0.0          8.461538e+05  8.461538e+05   \n",
       "2072                    0.0          6.538462e+05  6.538462e+05   \n",
       "2073                    0.0          5.000000e+05  5.000000e+05   \n",
       "2074                    0.0          1.923077e+05  1.923077e+05   \n",
       "\n",
       "      Lương tối thiểu BHXH    Tổng lương  \n",
       "0                  3920000  9.412648e+06  \n",
       "1                  3920000  9.305505e+06  \n",
       "2                  3920000  8.314459e+06  \n",
       "3                  3920000  9.251051e+06  \n",
       "4                  3920000  8.921877e+06  \n",
       "...                    ...           ...  \n",
       "2070               3920000  9.485400e+06  \n",
       "2071               3920000  9.293092e+06  \n",
       "2072               3920000  8.096587e+06  \n",
       "2073               3920000  6.354549e+06  \n",
       "2074               3920000  1.987179e+06  \n",
       "\n",
       "[2075 rows x 71 columns]"
      ]
     },
     "execution_count": 3,
     "metadata": {},
     "output_type": "execute_result"
    }
   ],
   "source": [
    "thang_3 = pd.read_excel('Bảng lương XLHH liên vùng tháng 3.xlsx', skiprows=1)\n",
    "thang_4 = pd.read_excel('Bảng lương XLHH liên vùng tháng 4.xlsx')\n",
    "thang_5 = pd.read_excel('Bảng lương XLHH liên vùng tháng 5.xlsx')\n",
    "thang_5"
   ]
  },
  {
   "cell_type": "code",
   "execution_count": null,
   "metadata": {},
   "outputs": [],
   "source": [
    "thang_5.columns"
   ]
  },
  {
   "cell_type": "code",
   "execution_count": null,
   "metadata": {},
   "outputs": [],
   "source": [
    "#thang_5 = thang_5.replace({0:np.NaN}).drop('Ngày Nghỉ', axis = 1)\n",
    "thang_5.isna().any()"
   ]
  },
  {
   "cell_type": "code",
   "execution_count": null,
   "metadata": {},
   "outputs": [],
   "source": [
    "check_in = thang_5.isna().any()\n",
    "n = 0\n",
    "for x in range(len(check_in)):\n",
    "    if check_in[x]:\n",
    "        n += 1\n",
    "        print(check_in.index[x])\n",
    "print(n)\n",
    "        "
   ]
  },
  {
   "cell_type": "code",
   "execution_count": null,
   "metadata": {},
   "outputs": [],
   "source": [
    "thang_5.describe()"
   ]
  },
  {
   "cell_type": "code",
   "execution_count": null,
   "metadata": {},
   "outputs": [],
   "source": [
    "luong_cao = thang_5[thang_5['Lương KPI'] != thang_5['Tổng lương']]\n",
    "luong_cao"
   ]
  },
  {
   "cell_type": "code",
   "execution_count": null,
   "metadata": {},
   "outputs": [],
   "source": [
    "for x in range(len(luong_cao.iloc[0])):\n",
    "    print(luong_cao.iloc[0].index[x], '-' ,luong_cao.iloc[0].values[x])"
   ]
  },
  {
   "cell_type": "code",
   "execution_count": null,
   "metadata": {},
   "outputs": [],
   "source": [
    "just_a_list = ['KPI tổng thực làm','KPI cân nặng','KPI thưởng', 'KPI tổng thực làm tăng ca','KPI tổng thưởng tăng ca','KPI tổng cân nặng tăng ca']\n",
    "luong_cao.iloc[0][just_a_list].sum() - thang_5.iloc[0]['KPI sản lượng']"
   ]
  },
  {
   "cell_type": "markdown",
   "metadata": {},
   "source": [
    "KPI/Ngày = KPI sản lượng/Tổng công thực tế\n",
    "Lương tăng ca = ?\n"
   ]
  },
  {
   "cell_type": "code",
   "execution_count": null,
   "metadata": {},
   "outputs": [],
   "source": [
    "#len(thang_5['Kho'].unique())\n",
    "len(thang_5['Tỉnh'].unique())"
   ]
  },
  {
   "cell_type": "code",
   "execution_count": null,
   "metadata": {},
   "outputs": [],
   "source": [
    "thang_5.groupby(['Kho', 'Tỉnh']).mean() "
   ]
  },
  {
   "cell_type": "code",
   "execution_count": null,
   "metadata": {},
   "outputs": [],
   "source": [
    "plt.figure(figsize = (20,10))\n",
    "plt.subplot(1,1,1)\n",
    "vs1 = sns.countplot(x = 'Kho', data = thang_5,palette = 'Set3', hue = 'Cấp Bậc')\n",
    "xticklabels = vs1.get_xticklabels()\n",
    "vs1.set_xticklabels(xticklabels, rotation = 90)"
   ]
  },
  {
   "cell_type": "code",
   "execution_count": null,
   "metadata": {},
   "outputs": [],
   "source": [
    "for x in thang_5['Công việc mặc định'].unique():\n",
    "    print('\\n', x)"
   ]
  },
  {
   "cell_type": "code",
   "execution_count": null,
   "metadata": {},
   "outputs": [],
   "source": [
    "thang_5[thang_5.index == thang_5['Tổng lương'].idxmax()]"
   ]
  },
  {
   "cell_type": "code",
   "execution_count": null,
   "metadata": {},
   "outputs": [],
   "source": [
    "thang_5.sort_values(by = 'Tổng lương', ascending = False).head(500)['Tỉnh'].groupby(thang_5['Tỉnh']).size().plot(kind = 'bar')"
   ]
  },
  {
   "cell_type": "code",
   "execution_count": null,
   "metadata": {},
   "outputs": [],
   "source": [
    "thang_5.sort_values('Công việc mặc định').groupby('Công việc mặc định').size().plot(kind = 'bar')\n"
   ]
  },
  {
   "cell_type": "code",
   "execution_count": null,
   "metadata": {},
   "outputs": [],
   "source": [
    "thang_5.sort_values('Công việc mặc định').groupby('Công việc mặc định').mean()['Tổng lương'].sort_values().plot(kind = 'bar')"
   ]
  },
  {
   "cell_type": "code",
   "execution_count": null,
   "metadata": {},
   "outputs": [],
   "source": [
    "plt.figure(figsize = (20,10))\n",
    "plt.subplot(1,1,1)\n",
    "vs3 = sns.boxplot(x = 'Công việc mặc định', y = 'Tổng lương', data = thang_5)\n",
    "#vs3.set_xlim(-0.5, 1.5)\n",
    "#vs3.set_ylim(-0.5, 1.5)\n",
    "#vs3.spines['left'].set_position(('outward', 10))\n",
    "#vs3.spines['bottom'].set_position(('outward', 10))\n",
    "vs3.spines['right'].set_visible(False)\n",
    "vs3.spines['top'].set_visible(False)\n",
    "vs3.set_xticklabels(vs3.get_xticklabels(), rotation = 60)"
   ]
  },
  {
   "cell_type": "code",
   "execution_count": null,
   "metadata": {},
   "outputs": [],
   "source": [
    "thang_5.sort_values('Tổng lương').head(400).sort_values(by = 'Tổng Công Thực tế')[['Ngày Vào','Cấp Bậc','Tổng Công Thực tế']]"
   ]
  },
  {
   "cell_type": "code",
   "execution_count": null,
   "metadata": {},
   "outputs": [],
   "source": [
    "tinhkhiet = thang_5[['username', 'fullname', 'Kho', 'Tỉnh','KPI tổng thực làm','KPI thưởng','KPI tổng thực làm tăng ca','KPI tổng thưởng tăng ca']].copy()\n",
    "tinhkhiet['%ti le thuong thuong'] = tinhkhiet['KPI thưởng']/tinhkhiet['KPI tổng thực làm']\n",
    "tinhkhiet['%ti le thuong tang ca'] = tinhkhiet['KPI tổng thưởng tăng ca']/tinhkhiet['KPI tổng thực làm tăng ca']\n",
    "tinhkhiet['chenh lech % thuong'] = tinhkhiet['%ti le thuong thuong'] - tinhkhiet['%ti le thuong tang ca']\n",
    "tinhkhiet.groupby('Kho')['chenh lech % thuong'].mean().plot(kind = 'bar')\n"
   ]
  },
  {
   "cell_type": "markdown",
   "metadata": {},
   "source": [
    "### Tỉ số lương sản lượng trên lương tổng của toàn nhân viên"
   ]
  },
  {
   "cell_type": "code",
   "execution_count": null,
   "metadata": {},
   "outputs": [],
   "source": [
    "tiso_sanluong_tong = thang_5['Lương Sản lượng']/thang_5['Tổng lương']\n",
    "tiso_sanluong_tong.plot(kind = 'hist')\n",
    "#tiso_sanluong_tong.describe()"
   ]
  },
  {
   "cell_type": "code",
   "execution_count": null,
   "metadata": {},
   "outputs": [],
   "source": [
    "thang_5[thang_5['Toàn trình'] >= 80].plot(kind = 'scatter', x = 'Tốc độ', y ='Toàn trình') #[['Tốc độ','Toàn trình']]"
   ]
  },
  {
   "cell_type": "code",
   "execution_count": null,
   "metadata": {},
   "outputs": [],
   "source": [
    "plt.figure(figsize = (10,10))\n",
    "vs5 = sns.scatterplot( x = 'Tốc độ', y ='Toàn trình', data = thang_5, hue = 'Công việc mặc định')"
   ]
  },
  {
   "cell_type": "code",
   "execution_count": null,
   "metadata": {},
   "outputs": [],
   "source": [
    "plt.figure(figsize = (10,10))\n",
    "vs6 = sns.scatterplot( x = 'Lương KPI', y ='Tổng lương', data = thang_5, hue = 'Công việc mặc định')"
   ]
  },
  {
   "cell_type": "code",
   "execution_count": null,
   "metadata": {},
   "outputs": [],
   "source": [
    "mean_tocdo = thang_5['Tốc độ'].mean()\n",
    "mean_toantrinh = thang_5['Toàn trình'].mean()"
   ]
  },
  {
   "cell_type": "code",
   "execution_count": null,
   "metadata": {},
   "outputs": [],
   "source": [
    "plt.figure(figsize = (15,5))\n",
    "plt.subplot(2,1,1)\n",
    "vs7 = sns.barplot(x = 'Kho', y ='Tốc độ', data = thang_5)\n",
    "vs7.set_xticklabels(vs7.get_xticklabels(), rotation = 90)\n",
    "vs7.axhline(y = mean_tocdo)\n",
    "plt.subplot(2,1,2)\n",
    "vs8 = sns.barplot(x = 'Kho', y ='Toàn trình', data = thang_5)\n",
    "vs8.set_xticklabels(vs8.get_xticklabels(), rotation = 90)\n",
    "vs8.set_ylim(0,102)\n",
    "vs8.axhline(y=mean_toantrinh)\n"
   ]
  },
  {
   "cell_type": "code",
   "execution_count": null,
   "metadata": {},
   "outputs": [],
   "source": [
    "plt.figure(figsize = (10,10))\n",
    "vs9 = sns.scatterplot( x = 'Tốc độ', y ='Toàn trình', data = thang_5, hue = 'Tỉnh')\n",
    "vs9.set_xlim(-60,180)\n",
    "vs9.legend(loc= 'lower right')\n",
    "plt.gca().invert_xaxis()\n",
    "vs9.axvline(5)\n",
    "\n",
    "vs9.spines['right'].set_visible(False)\n",
    "vs9.spines['top'].set_visible(False)\n",
    "vs9.spines['left'].set_bounds(10,100)\n",
    "vs9.spines['bottom'].set_bounds(150,-50)\n",
    "#toan trinh\n",
    "vs9.axhline(100)\n",
    "vs9.axhline(90)\n",
    "vs9.axhline(80)\n"
   ]
  },
  {
   "cell_type": "code",
   "execution_count": null,
   "metadata": {},
   "outputs": [],
   "source": [
    "thang_5_1 = pd.read_excel(io='aaa.xlsx',sheet_name = 'data_thang_5',use_col = 'A:BQ',skipfooter = 8)\n",
    "thang_5['Khu vực'] = thang_5_1['Khu vực'].copy()"
   ]
  },
  {
   "cell_type": "code",
   "execution_count": null,
   "metadata": {},
   "outputs": [],
   "source": [
    "#thang_5[thang_5['Kho'] == 'LV - Củ Chi'].index.tolist()"
   ]
  },
  {
   "cell_type": "code",
   "execution_count": null,
   "metadata": {},
   "outputs": [],
   "source": [
    "thang_5[thang_5['Khu vực'] == 'TP Hồ Chí Minh'].groupby('Kho').mean()[['Tốc độ','Toàn trình']]"
   ]
  },
  {
   "cell_type": "code",
   "execution_count": null,
   "metadata": {},
   "outputs": [],
   "source": [
    "thang_5[thang_5['Khu vực'] == 'HN'].groupby('Kho').mean()[['Tốc độ','Toàn trình']]"
   ]
  },
  {
   "cell_type": "markdown",
   "metadata": {},
   "source": [
    "## Toàn trình và tốc độ chưa được gắn module"
   ]
  },
  {
   "cell_type": "code",
   "execution_count": null,
   "metadata": {},
   "outputs": [],
   "source": [
    "#tester = thang_5.drop(index = thang_5[thang_5['Kho'] == 'LV - Củ Chi'].index.tolist())\n",
    "#tester[tester['Tốc độ'] == 0]\n",
    "#tester[tester['Toàn trình'] == 0].groupby('Kho').count()['username'].sort_values(ascending = False)"
   ]
  },
  {
   "cell_type": "code",
   "execution_count": null,
   "metadata": {},
   "outputs": [],
   "source": [
    "#thang_5[thang_5['Toàn trình'] == 0].groupby('Kho').count()['username'].sort_values(ascending = False).to_frame()\n",
    "#thang_5[thang_5['Tốc độ'] == 0].groupby('Kho').count()['username'].sort_values(ascending = False)"
   ]
  },
  {
   "cell_type": "markdown",
   "metadata": {},
   "source": [
    "### Tốc độ toàn trình theo KV"
   ]
  },
  {
   "cell_type": "code",
   "execution_count": null,
   "metadata": {},
   "outputs": [],
   "source": [
    "index_loc = thang_5[thang_5['Kho'] == 'LV - Củ Chi'].index.tolist() + thang_5[thang_5['Toàn trình'] == 0].index.tolist()\n",
    "#len(index_loc)\n",
    "len(list(set(index_loc)))\n",
    "index_loc = list(set(index_loc))"
   ]
  },
  {
   "cell_type": "code",
   "execution_count": null,
   "metadata": {},
   "outputs": [],
   "source": [
    "thang_5_kv = thang_5.drop(index = index_loc).groupby('Khu vực')[['Tốc độ','Toàn trình']].mean().copy().reset_index()\n",
    "thang_5_kv"
   ]
  },
  {
   "cell_type": "code",
   "execution_count": null,
   "metadata": {},
   "outputs": [],
   "source": [
    "size_kv = thang_5.groupby('Khu vực').count()['#'].tolist()\n",
    "size_kv = [size_kv[x] *10 for x in range(len(size_kv))]\n",
    "size_kv\n",
    "#theo san luong tren dau nguoi\n",
    "size_kv_sl = thang_5.groupby('Khu vực')['KPI sản lượng'].sum()\n",
    "size_kv_sl= [size_kv_sl[x]/20000 for x in range(len(size_kv))]"
   ]
  },
  {
   "cell_type": "markdown",
   "metadata": {},
   "source": [
    "Size theo số lượng người trong khu vực"
   ]
  },
  {
   "cell_type": "markdown",
   "metadata": {},
   "source": [
    "Size theo KPI sản lượng từng vùng"
   ]
  },
  {
   "cell_type": "code",
   "execution_count": null,
   "metadata": {},
   "outputs": [],
   "source": [
    "tinh_size = thang_5.copy()\n",
    "tinh_size =tinh_size.drop(index = tinh_size[(tinh_size['Tổng Công Thực tế'] == 0) & (tinh_size['Công thử việc'] == 0)].index.tolist())\n",
    "        \n",
    "#        tinh_size.drop(row)\n",
    "#thang_5[['Tổng Công Thực tế','Công chuẩn cá nhân','Công thử việc']]\n",
    "#tinh_size\n"
   ]
  },
  {
   "cell_type": "code",
   "execution_count": null,
   "metadata": {},
   "outputs": [],
   "source": [
    "#Actual number of people by Warehouse\n",
    "acts_dict = {tinh_size.groupby('Kho').count()['username'].index.tolist()[x]:tinh_size.groupby('Kho').count()['username'].values.tolist()[x] for x in range(len(tinh_size.groupby('Kho').count()['username']))}"
   ]
  },
  {
   "cell_type": "code",
   "execution_count": null,
   "metadata": {},
   "outputs": [],
   "source": [
    "#acts_dict"
   ]
  },
  {
   "cell_type": "code",
   "execution_count": null,
   "metadata": {},
   "outputs": [],
   "source": [
    "nah = []\n",
    "for x in tinh_size.index.tolist():\n",
    "    nah.append((tinh_size.loc[x,'Tổng Công Thực tế']+tinh_size.loc[x,'Công thử việc'])/tinh_size.loc[x,'Công chuẩn cá nhân'])\n",
    "\n",
    "tinh_size['Count']= nah"
   ]
  },
  {
   "cell_type": "code",
   "execution_count": null,
   "metadata": {},
   "outputs": [],
   "source": [
    "san_luong = pd.read_excel('Dữ liệu sản lượng trên người.xlsx',usecols = 'C:E', skipfooter =32,skiprows = 1)\n",
    "san_luong"
   ]
  },
  {
   "cell_type": "code",
   "execution_count": null,
   "metadata": {},
   "outputs": [],
   "source": [
    "so_nguoi = tinh_size.groupby('Kho')['Count'].sum().to_frame().reset_index()\n",
    "so_nguoi = so_nguoi.drop(index = [x for x in range(32,36)])\n",
    "so_nguoi['Actual Count'] = so_nguoi['Kho'].copy().replace(acts_dict)"
   ]
  },
  {
   "cell_type": "code",
   "execution_count": null,
   "metadata": {},
   "outputs": [],
   "source": [
    "so_nguoi['%'] = so_nguoi['Count']/so_nguoi['Actual Count']*100"
   ]
  },
  {
   "cell_type": "code",
   "execution_count": null,
   "metadata": {},
   "outputs": [],
   "source": [
    "so_nguoi"
   ]
  },
  {
   "cell_type": "markdown",
   "metadata": {},
   "source": [
    "### Calculating Size and stuffs"
   ]
  },
  {
   "cell_type": "code",
   "execution_count": null,
   "metadata": {},
   "outputs": [],
   "source": [
    "new_board = pd.merge(so_nguoi,san_luong, how = 'outer',left_on = 'Kho',right_on = 'Các LV')\n",
    "oke = new_board.groupby(['Khu vực'])[['Actual Count','Count','Sản lượng']].sum()\n",
    "new_size = [oke.loc[x,'Sản lượng']/oke.loc[x,'Count']/3.5 for x in oke.index]\n",
    "new_size2 = [oke.loc[x,'Sản lượng']/oke.loc[x,'Actual Count']/3.5 for x in oke.index]\n",
    "new_board['SL đầu người'] = new_board['Sản lượng']/new_board['Count']\n",
    "new_board['Actual SL đầu người'] = new_board['Sản lượng']/new_board['Actual Count']"
   ]
  },
  {
   "cell_type": "code",
   "execution_count": null,
   "metadata": {},
   "outputs": [],
   "source": [
    "new_board"
   ]
  },
  {
   "cell_type": "code",
   "execution_count": null,
   "metadata": {},
   "outputs": [],
   "source": [
    "thang_5[thang_5['Toàn trình'] == 0].index.tolist()"
   ]
  },
  {
   "cell_type": "code",
   "execution_count": null,
   "metadata": {},
   "outputs": [],
   "source": [
    "thang_5.drop(\n",
    "    index = thang_5[thang_5['Toàn trình'] == 0].index.tolist()).set_index('Kho').loc[['LV - Phù Lỗ','LV - Thái Nguyên','LV - Buôn Ma Thuột']].groupby('Kho').mean()"
   ]
  },
  {
   "cell_type": "code",
   "execution_count": null,
   "metadata": {},
   "outputs": [],
   "source": [
    "plt.figure(figsize = (10,10))\n",
    "vs11 = sns.scatterplot( x = 'Tốc độ', y ='Toàn trình', data = thang_5_kv, hue = 'Khu vực', s= new_size,alpha = 0.8)\n",
    "vs11.set_xlim(-60,180)\n",
    "vs11.legend(loc= 'lower right')\n",
    "plt.gca().invert_xaxis()\n",
    "vs11.axvline(5)\n",
    "\n",
    "vs11.spines['right'].set_visible(False)\n",
    "vs11.spines['top'].set_visible(False)\n",
    "vs11.spines['left'].set_bounds(75,100)\n",
    "vs11.spines['bottom'].set_bounds(150,0)\n",
    "#toan trinh\n",
    "vs11.axvline(120)\n",
    "vs11.axvline(105)\n",
    "vs11.axvline(75)\n",
    "vs11.axvline(60)\n",
    "vs11.axvline(45)\n",
    "vs11.axvline(30)\n",
    "vs11.axvline(30)\n",
    "vs11.axvline(thang_5_kv['Tốc độ'].mean(),c='r',ls = '--')\n",
    "vs11.axhline(thang_5_kv['Toàn trình'].mean(),c='r',ls = '--')\n",
    "vs11.set_ylim(70,100)\n",
    "vs11.grid(True)\n"
   ]
  },
  {
   "cell_type": "code",
   "execution_count": null,
   "metadata": {},
   "outputs": [],
   "source": [
    "thang_5.groupby('Kho')[['Tốc độ','Toàn trình']].mean()"
   ]
  },
  {
   "cell_type": "code",
   "execution_count": null,
   "metadata": {},
   "outputs": [],
   "source": [
    "x = thang_5.drop(index = thang_5[(thang_5['Toàn trình'] == 0) | (thang_5['Tốc độ'] == 0)].index.tolist())\n",
    "#(thang_5[(thang_5['Toàn trình'] == 0)&(thang_5['Tốc độ'] == 0)].index.tolist())\n",
    "x"
   ]
  },
  {
   "cell_type": "code",
   "execution_count": null,
   "metadata": {},
   "outputs": [],
   "source": [
    "thang_5_kho = thang_5.drop(index = thang_5[(thang_5['Toàn trình'] == 0)|(thang_5['Tốc độ'] == 0)].index.tolist()).groupby('Kho')[['Tốc độ','Toàn trình']].mean().copy().reset_index()\n",
    "#thang_5_kho = thang_5_kho.drop(index = [x for x in range(32,36)])\n",
    "\n",
    "#thang_5_kho = thang_5_kho.drop(index = [x for x in range(32,36)])\n",
    "catogories = []\n",
    "for x in range(len(thang_5_kho)):                                                    \n",
    "    if thang_5_kho.loc[x,'Tốc độ'] > thang_5_kho['Tốc độ'].mean() and thang_5_kho.loc[x,'Toàn trình'] < thang_5_kho['Toàn trình'].mean():\n",
    "        catogories.append(1)\n",
    "    if thang_5_kho.loc[x,'Tốc độ'] < thang_5_kho['Tốc độ'].mean() and thang_5_kho.loc[x,'Toàn trình'] < thang_5_kho['Toàn trình'].mean():\n",
    "        catogories.append(2)\n",
    "    if thang_5_kho.loc[x,'Tốc độ'] > thang_5_kho['Tốc độ'].mean() and thang_5_kho.loc[x,'Toàn trình'] > thang_5_kho['Toàn trình'].mean():\n",
    "        catogories.append(3)      \n",
    "    if thang_5_kho.loc[x,'Tốc độ'] < thang_5_kho['Tốc độ'].mean() and thang_5_kho.loc[x,'Toàn trình'] > thang_5_kho['Toàn trình'].mean():\n",
    "        catogories.append(4)\n",
    "thang_5_kho['Loại'] = catogories\n",
    "thang_5_kho\n",
    "#thang_5.groupby('Kho')[['Tốc độ','Toàn trình']].mean().copy().reset_index()\n",
    "#for x in thang_5.groupby('Kho')[['Tốc độ','Toàn trình']].mean().copy().reset_index()['Kho']:\n",
    "#    if x not in thang_5_kho['Kho'].values.tolist():\n",
    "#       print(x)\n",
    "#thang_5_kho['Kho'].values.tolist() #- thang_5.groupby('Kho')[['Tốc độ','Toàn trình']].mean().copy().reset_index()"
   ]
  },
  {
   "cell_type": "code",
   "execution_count": null,
   "metadata": {},
   "outputs": [],
   "source": [
    "size_lv = [x/ 10 for x in new_board['SL đầu người'].tolist()]\n",
    "plt.figure(figsize = (10,10))\n",
    "vs12 = sns.scatterplot( x = 'Tốc độ', y ='Toàn trình', data = thang_5_kho, hue = 'Kho', s= size_lv,alpha = 0.8,color = 'r')\n",
    "vs12.set_xlim(-60,180)\n",
    "vs12.legend(loc= 'lower right')\n",
    "plt.gca().invert_xaxis()\n",
    "vs12.axvline(5)\n",
    "\n",
    "vs12.spines['right'].set_visible(False)\n",
    "vs12.spines['top'].set_visible(False)\n",
    "vs12.spines['left'].set_bounds(70,110)\n",
    "vs12.spines['bottom'].set_bounds(150,0)\n",
    "#toan trinh\n",
    "vs12.axvline(120)\n",
    "vs12.axvline(105)\n",
    "vs12.axvline(75)\n",
    "vs12.axvline(60)\n",
    "vs12.axvline(45)\n",
    "vs12.axvline(30)\n",
    "vs12.set_ylim(60,110)\n",
    "vs12.grid(True)\n",
    "vs12.axvline(thang_5_kho['Tốc độ'].mean(),c='r',ls = '--')\n",
    "vs12.axhline(thang_5_kho['Toàn trình'].mean(),c='r',ls = '--')"
   ]
  },
  {
   "cell_type": "code",
   "execution_count": null,
   "metadata": {},
   "outputs": [],
   "source": [
    "thang_5_kho\n",
    "dict_loai = {thang_5_kho.iloc[x]['Kho']:thang_5_kho.iloc[x]['Loại'] for x in range(len(thang_5_kho))}"
   ]
  },
  {
   "cell_type": "code",
   "execution_count": null,
   "metadata": {},
   "outputs": [],
   "source": [
    "thang_5['Loại'] = thang_5['Kho'].copy().replace(dict_loai)\n",
    "thang_5"
   ]
  },
  {
   "cell_type": "code",
   "execution_count": null,
   "metadata": {},
   "outputs": [],
   "source": [
    "for x in range(1,5):\n",
    "    print('Số ngườithuộc nhóm '+ str(x) + ' là: ', len(thang_5[thang_5['Loại'] == x]))"
   ]
  },
  {
   "cell_type": "code",
   "execution_count": null,
   "metadata": {},
   "outputs": [],
   "source": [
    "thang_5[(thang_5['Loại'] == 4)&(thang_5['Toàn trình'] == 0)]['Toàn trình'].index.tolist()"
   ]
  },
  {
   "cell_type": "code",
   "execution_count": null,
   "metadata": {},
   "outputs": [],
   "source": [
    "cac_nhom_kho = pd.DataFrame({'Nhóm 1':(thang_5[(thang_5['Loại'] == 1)&(thang_5['Toàn trình'] != 0)].describe()/(thang_5[thang_5['Toàn trình'] != 0]).describe()).loc['mean'].values,\n",
    "             'Nhóm 2':(thang_5[(thang_5['Loại'] == 2)&(thang_5['Toàn trình'] != 0)].describe()/(thang_5[thang_5['Toàn trình'] != 0]).describe()).loc['mean'].values,\n",
    "             'Nhóm 3':(thang_5[(thang_5['Loại'] == 3)&(thang_5['Toàn trình'] != 0)].describe()/(thang_5[thang_5['Toàn trình'] != 0]).describe()).loc['mean'].values,\n",
    "             'Nhóm 4':(thang_5[(thang_5['Loại'] == 4)&(thang_5['Toàn trình'] != 0)].describe()/(thang_5[thang_5['Toàn trình'] != 0]).describe()).loc['mean'].values }, index =(thang_5[thang_5['Loại'] == 1].describe()/thang_5.describe()).loc['mean'].index )\n",
    "cac_nhom_kho\n",
    "#len(thang_5[thang_5['Loại'] == 1])\n",
    "#thang_5[thang_5['Loại'] == 1].describe()"
   ]
  },
  {
   "cell_type": "code",
   "execution_count": null,
   "metadata": {},
   "outputs": [],
   "source": [
    "thang_5[(thang_5['Kho'] =='LV - Củ Chi') & (thang_5['Toàn trình'] != 0)][['Toàn trình','Tốc độ']].mean()"
   ]
  },
  {
   "cell_type": "code",
   "execution_count": null,
   "metadata": {},
   "outputs": [],
   "source": [
    "cac_nhom_kho['Nhóm 1']/cac_nhom_kho['Nhóm 4']"
   ]
  },
  {
   "cell_type": "markdown",
   "metadata": {},
   "source": [
    "#### Nhóm 1 : Nhóm 4 (Chậm - thấp vs Nhanh - cao)\n",
    "<br>\n",
    "Công KPI đi làm ngày tăng ca    2.237504 \n",
    "<br>\n",
    "Công tăng ca chính thức         1.718613\n",
    "<br>\n",
    "Số ngày cá nhân tăng ca         2.141019\n",
    "<br>\n",
    "KPI tổng thực làm               1.574649\n",
    "<br>\n",
    "KPI cân nặng                    1.258498\n",
    "<br>\n",
    "KPI thưởng                      0.922791\n",
    "<br>\n",
    "Toàn trình                      0.910860\n",
    "<br>\n",
    "Tốc độ                          1.947574\n",
    "<br>\n",
    "KPI tổng cân nặng tăng ca       2.065675\n",
    "<br>\n",
    "KPI tổng thưởng tăng ca         1.499300\n",
    "<br>\n",
    "KPI tổng thực làm tăng ca       3.071575\n",
    "<br>\n",
    "KPI sản lượng                   1.102964\n",
    "<br>\n",
    "KPI/ngày                        1.177290\n",
    "<br>\n",
    "Lương Tăng ca                   1.886690\n",
    "<br>\n",
    "\n",
    "##### Thử việc: \n",
    "Công thử việc                   0.224677\n",
    "<br>\n",
    "Lương thử việc                  0.233763\n",
    "<br>\n",
    "Lương tăng ca thử việc          0.454955\n",
    "<br>\n",
    "#### Suy ra \n",
    "Các yếu tố ảnh hưởng: Tăng ca nhiều nên chất lượng thấp, thử việc ít nên chất lượng thấp ?"
   ]
  },
  {
   "cell_type": "code",
   "execution_count": null,
   "metadata": {},
   "outputs": [],
   "source": [
    "#thang_5[thang_5['Loại'] == 1]['Tốc độ'].mean()\n",
    "thang_5[thang_5['Loại'] == 4]['Tốc độ'].mean()"
   ]
  },
  {
   "cell_type": "code",
   "execution_count": null,
   "metadata": {},
   "outputs": [],
   "source": [
    "(thang_5[thang_5['Loại'] == 1]['Lương Tăng ca']/thang_5[thang_5['Loại'] == 1]['Tổng lương']).plot(kind ='hist')"
   ]
  },
  {
   "cell_type": "code",
   "execution_count": null,
   "metadata": {},
   "outputs": [],
   "source": [
    "(thang_5[thang_5['Loại'] == 4]['Lương Tăng ca']/thang_5[thang_5['Loại'] == 4]['Tổng lương']).plot(kind ='hist')"
   ]
  },
  {
   "cell_type": "code",
   "execution_count": null,
   "metadata": {},
   "outputs": [],
   "source": [
    "thang_5[thang_5['Loại'] == 1]['Lương Tăng ca'].plot(kind = 'hist')"
   ]
  },
  {
   "cell_type": "code",
   "execution_count": null,
   "metadata": {},
   "outputs": [],
   "source": [
    "thang_5[thang_5['Loại'] == 4]['Lương Tăng ca'].plot(kind = 'hist')"
   ]
  },
  {
   "cell_type": "code",
   "execution_count": null,
   "metadata": {},
   "outputs": [],
   "source": [
    "thang_5[pd.to_datetime(thang_5['Ngày Vào']) > pd.to_datetime('now')]"
   ]
  },
  {
   "cell_type": "code",
   "execution_count": null,
   "metadata": {},
   "outputs": [],
   "source": [
    "thang_5[thang_5['Loại'] == 1].columns"
   ]
  },
  {
   "cell_type": "code",
   "execution_count": null,
   "metadata": {},
   "outputs": [],
   "source": [
    "cac_tinh_trang = ['Tổng Công Thực tế','Công chuẩn cá nhân', 'Công tăng ca chính thức','Công thử việc','Công tăng ca thử việc','KPI tổng cân nặng tăng ca', 'KPI tổng thưởng tăng ca',\n",
    "       'KPI tổng thực làm tăng ca','KPI tổng thực làm', 'KPI cân nặng', 'KPI thưởng','Toàn trình', 'Tốc độ']\n",
    "#thang_5[thang_5['Loại'] == 1][cac_tinh_trang].corr()\n",
    "thang_5[(thang_5['Toàn trình'] != 0) & (thang_5['Tốc độ'] != 0) ].corr()[['Toàn trình','Tốc độ']].transpose()\n",
    "#thang_5[thang_5['Toàn trình'] != 0]['Kho'].unique()"
   ]
  },
  {
   "cell_type": "code",
   "execution_count": null,
   "metadata": {},
   "outputs": [],
   "source": [
    "thang_5[thang_5['Kho'] == 'LV - Củ Chi' ].corr()[['Toàn trình','Tốc độ']]"
   ]
  },
  {
   "cell_type": "code",
   "execution_count": null,
   "metadata": {},
   "outputs": [],
   "source": [
    "thang_5[thang_5['Kho'] == 'LV - Củ Chi'][['Tốc độ','Toàn trình']].mean()"
   ]
  },
  {
   "cell_type": "code",
   "execution_count": null,
   "metadata": {},
   "outputs": [],
   "source": [
    "thang_5.columns"
   ]
  },
  {
   "cell_type": "code",
   "execution_count": null,
   "metadata": {},
   "outputs": [],
   "source": [
    "#DF di lam chinh: tuc tren 70% so ngay\n",
    "lam_chinh = thang_5[thang_5['Tổng Công Thực tế']+ thang_5['Công thử việc'] > thang_5['Công chuẩn cá nhân']*0.7]\n",
    "#Series %di lam/phai di lam\n",
    "s_dilam = (lam_chinh['Tổng Công Thực tế'] + lam_chinh['Công thử việc']) / lam_chinh['Công chuẩn cá nhân']\n",
    "dict_lc = {s_dilam.index.tolist()[x]:s_dilam.values.tolist()[x] for x in range(len(s_dilam))}"
   ]
  },
  {
   "cell_type": "code",
   "execution_count": null,
   "metadata": {},
   "outputs": [],
   "source": [
    "#dict_lc"
   ]
  },
  {
   "cell_type": "code",
   "execution_count": null,
   "metadata": {},
   "outputs": [],
   "source": [
    "lam_chinh['% di lam'] = lam_chinh.index.tolist()\n",
    "lam_chinh['% di lam'] = lam_chinh['% di lam'].replace(dict_lc)\n",
    "#ngay_di_lam = thang_5.groupby('Kho').count()['username'].to_frame()\n",
    "#ngay_di_lam['% di lam'] = ngay_di_lam.index.tolist()\n",
    "#ngay_di_lam['% di lam'] = ngay_di_lam['% di lam'].replace(dict_lc)\n",
    "\n",
    "#thang_5"
   ]
  },
  {
   "cell_type": "code",
   "execution_count": null,
   "metadata": {},
   "outputs": [],
   "source": [
    "lam_chinh"
   ]
  },
  {
   "cell_type": "code",
   "execution_count": null,
   "metadata": {},
   "outputs": [],
   "source": [
    "ngay_di_lam = lam_chinh.groupby('Kho').mean()['% di lam'].to_frame()"
   ]
  },
  {
   "cell_type": "code",
   "execution_count": null,
   "metadata": {},
   "outputs": [],
   "source": [
    "ngay_di_lam['% di lam'] = ngay_di_lam['% di lam']*100\n",
    "ngay_di_lam['% khong lam'] = 100 - ngay_di_lam['% di lam']"
   ]
  },
  {
   "cell_type": "code",
   "execution_count": null,
   "metadata": {},
   "outputs": [],
   "source": [
    "ngay_di_lam = ngay_di_lam.reset_index()\n",
    "ngay_di_lam"
   ]
  },
  {
   "cell_type": "code",
   "execution_count": null,
   "metadata": {},
   "outputs": [],
   "source": [
    "plt.figure(figsize = (10,10))\n",
    "vs13 = sns.barplot(x ='Kho', y = '% khong lam' ,data = ngay_di_lam,palette=\"rocket\")\n",
    "vs13.set_xticklabels(vs13.get_xticklabels(),rotation = 90)\n",
    "vs13.axhline(ngay_di_lam['% khong lam'].mean(),c = 'R', linewidth=4,ls = '--')"
   ]
  },
  {
   "cell_type": "code",
   "execution_count": null,
   "metadata": {},
   "outputs": [],
   "source": [
    "[x for x in range(32,26)]"
   ]
  },
  {
   "cell_type": "code",
   "execution_count": null,
   "metadata": {},
   "outputs": [],
   "source": [
    "[x for x in range(32,36)]"
   ]
  },
  {
   "cell_type": "markdown",
   "metadata": {},
   "source": [
    "## Vùng 2"
   ]
  },
  {
   "cell_type": "code",
   "execution_count": null,
   "metadata": {},
   "outputs": [],
   "source": [
    "cu_chi_45 = pd.read_excel('cu_chi_45.xlsx')"
   ]
  },
  {
   "cell_type": "code",
   "execution_count": null,
   "metadata": {},
   "outputs": [],
   "source": [
    "cu_chi_45.columns"
   ]
  },
  {
   "cell_type": "code",
   "execution_count": null,
   "metadata": {},
   "outputs": [],
   "source": [
    "cu_chi_45 =cu_chi_45.set_index('user_id')"
   ]
  },
  {
   "cell_type": "code",
   "execution_count": null,
   "metadata": {},
   "outputs": [],
   "source": [
    "ten =cu_chi_45.groupby('user_id').count()[(cu_chi_45.groupby('user_id').count()['id'] > 20)].index.tolist()"
   ]
  },
  {
   "cell_type": "code",
   "execution_count": null,
   "metadata": {},
   "outputs": [],
   "source": [
    "cu_chi_45"
   ]
  },
  {
   "cell_type": "code",
   "execution_count": null,
   "metadata": {},
   "outputs": [],
   "source": []
  },
  {
   "cell_type": "code",
   "execution_count": null,
   "metadata": {},
   "outputs": [],
   "source": [
    "tren20 = cu_chi_45.loc[ten,:]\n"
   ]
  },
  {
   "cell_type": "code",
   "execution_count": null,
   "metadata": {},
   "outputs": [],
   "source": [
    "se_phanloai =tren20.groupby('user_id')['checkin_type'].unique()\n",
    "dict_2 = {se_phanloai.index[x]: 1 for x in range(len(se_phanloai)) if 'normal' and 'over_time' in se_phanloai.iloc[x].tolist() }\n",
    "se_phanloai"
   ]
  },
  {
   "cell_type": "code",
   "execution_count": null,
   "metadata": {},
   "outputs": [],
   "source": [
    "tren20['loại'] = tren20.index\n",
    "tren20 = tren20.replace(dict_2)\n",
    "bang1 = tren20[tren20['loại'] == 1].copy()"
   ]
  },
  {
   "cell_type": "code",
   "execution_count": null,
   "metadata": {},
   "outputs": [],
   "source": [
    "bang1"
   ]
  },
  {
   "cell_type": "code",
   "execution_count": null,
   "metadata": {},
   "outputs": [],
   "source": [
    "normal = bang1[bang1['checkin_type'] == 'normal'].groupby('user_id')[['quality', 'speed']].mean()\n",
    "over_time = bang1[bang1['checkin_type'] == 'over_time'].groupby('user_id')[['quality', 'speed']].mean()"
   ]
  },
  {
   "cell_type": "code",
   "execution_count": null,
   "metadata": {},
   "outputs": [],
   "source": [
    "so_sanh = pd.merge(normal,over_time, how = 'outer',left_index = True, right_index = True)\n"
   ]
  },
  {
   "cell_type": "code",
   "execution_count": null,
   "metadata": {},
   "outputs": [],
   "source": [
    "so_sanh['quality %'] = so_sanh['quality_x'] / so_sanh['quality_y'] \n",
    "so_sanh['speed %'] = so_sanh['speed_x'] / so_sanh['speed_y'] "
   ]
  },
  {
   "cell_type": "code",
   "execution_count": null,
   "metadata": {},
   "outputs": [],
   "source": [
    "so_sanh"
   ]
  },
  {
   "cell_type": "code",
   "execution_count": null,
   "metadata": {},
   "outputs": [],
   "source": [
    "#so_sanh['speed %'].plot(kind = 'hist')\n",
    "so_sanh[so_sanh['speed %'] > 1.2]  "
   ]
  },
  {
   "cell_type": "code",
   "execution_count": null,
   "metadata": {},
   "outputs": [],
   "source": [
    "over_time"
   ]
  },
  {
   "cell_type": "code",
   "execution_count": null,
   "metadata": {},
   "outputs": [],
   "source": [
    "cu_chi_45.groupby(['user_id','checkin_type']).count()"
   ]
  },
  {
   "cell_type": "code",
   "execution_count": null,
   "metadata": {},
   "outputs": [],
   "source": [
    "cu_chi_45.groupby('user_id').count().sort_values(by = 'id')['id'].plot(kind = 'box')"
   ]
  },
  {
   "cell_type": "code",
   "execution_count": null,
   "metadata": {},
   "outputs": [],
   "source": [
    "datetime = []\n",
    "for x in range(len(cu_chi_45)):\n",
    "    \n",
    "    datetime.append(pd.to_datetime(cu_chi_45['cur_date'].iloc[x]))\n",
    "#datetime\n",
    "cu_chi_45['cur_date'] = datetime"
   ]
  },
  {
   "cell_type": "code",
   "execution_count": null,
   "metadata": {},
   "outputs": [],
   "source": [
    "cu_chi_45.loc[154935].sort_values(by='cur_date').set_index('cur_date')['speed'].plot(kind = 'hist')"
   ]
  },
  {
   "cell_type": "code",
   "execution_count": null,
   "metadata": {},
   "outputs": [],
   "source": [
    "\n",
    "cu_chi_45[cu_chi_45['checkin_type']=='normal'].loc[154935].sort_values(by='cur_date').set_index('cur_date')['quality'].plot()"
   ]
  },
  {
   "cell_type": "code",
   "execution_count": null,
   "metadata": {},
   "outputs": [],
   "source": [
    "cu_chi_45[cu_chi_45['checkin_type']=='normal'].loc[267421].sort_values(by='cur_date').set_index('cur_date')['quality'].plot()"
   ]
  },
  {
   "cell_type": "code",
   "execution_count": null,
   "metadata": {},
   "outputs": [],
   "source": [
    "cu_chi_45[cu_chi_45['checkin_type']=='normal'].loc[267421].sort_values(by='cur_date').set_index('cur_date')['speed'].plot()"
   ]
  },
  {
   "cell_type": "code",
   "execution_count": null,
   "metadata": {},
   "outputs": [],
   "source": [
    "cu_chi_45[cu_chi_45['checkin_type']=='normal'].loc[259984].sort_values(by='cur_date').set_index('cur_date')['quality'].plot()"
   ]
  },
  {
   "cell_type": "code",
   "execution_count": null,
   "metadata": {},
   "outputs": [],
   "source": [
    "#so ngay di lam chinh nhieu hon di tang ca:\n",
    "cu_chi_45[cu_chi_45['checkin_type']=='normal'].groupby('cur_date').count()['id'] -cu_chi_45[cu_chi_45['checkin_type']=='over_time'].groupby('cur_date').count()['id']"
   ]
  },
  {
   "cell_type": "code",
   "execution_count": null,
   "metadata": {},
   "outputs": [],
   "source": [
    "# 70 > quality >40\n",
    "k = cu_chi_45[(cu_chi_45['checkin_type'] == 'normal') & (cu_chi_45['quality'] < 70 ) & (cu_chi_45['quality'] > 40 )].index.unique().tolist()\n",
    "cu_chi_45[cu_chi_45['checkin_type'] == 'normal'].loc[k,:].groupby('user_id').count().sort_values('id')"
   ]
  },
  {
   "cell_type": "code",
   "execution_count": null,
   "metadata": {},
   "outputs": [],
   "source": [
    "#cu_chi_45.loc[388682]"
   ]
  },
  {
   "cell_type": "code",
   "execution_count": null,
   "metadata": {},
   "outputs": [],
   "source": [
    "cu_chi_45[cu_chi_45['checkin_type']=='normal'].loc[388682].sort_values(by='cur_date').set_index('cur_date')['quality'].plot()"
   ]
  },
  {
   "cell_type": "code",
   "execution_count": null,
   "metadata": {},
   "outputs": [],
   "source": [
    "cu_chi_45.replace(0,np.nan).groupby('cur_date').mean()['quality'].plot()"
   ]
  },
  {
   "cell_type": "markdown",
   "metadata": {},
   "source": [
    "### Phần 3"
   ]
  },
  {
   "cell_type": "code",
   "execution_count": null,
   "metadata": {},
   "outputs": [],
   "source": [
    "module = pd.read_excel(io = 'cu_chi-2104-2005.xlsx', sheet_name = 'Sheet1', skipfooter = (7259 - 7234 +1))\n",
    "module.columns"
   ]
  },
  {
   "cell_type": "code",
   "execution_count": null,
   "metadata": {},
   "outputs": [],
   "source": [
    "module = module.set_index('user_id')\n"
   ]
  },
  {
   "cell_type": "code",
   "execution_count": null,
   "metadata": {},
   "outputs": [],
   "source": [
    "module_tgu = module.module.groupby('user_id').unique()\n",
    "module_dict = {module_tgu.index[x]:module_tgu.iloc[x] for x in range(len(module_tgu))}\n",
    "#module_dict"
   ]
  },
  {
   "cell_type": "code",
   "execution_count": null,
   "metadata": {},
   "outputs": [],
   "source": [
    "cu_chi_45['module'] = cu_chi_45.index#.reset_index().replace(module_dict)"
   ]
  },
  {
   "cell_type": "code",
   "execution_count": null,
   "metadata": {},
   "outputs": [],
   "source": [
    "cu_chi_45['module'] = cu_chi_45['module'].replace(module_dict)"
   ]
  },
  {
   "cell_type": "code",
   "execution_count": null,
   "metadata": {},
   "outputs": [],
   "source": [
    "#cu_chi_45[cu_chi_45['module'].isna()].index.tolist()\n",
    "cu_chi_45.drop(index= cu_chi_45[cu_chi_45['module'].isna()].index.tolist())"
   ]
  },
  {
   "cell_type": "code",
   "execution_count": null,
   "metadata": {},
   "outputs": [],
   "source": [
    "daily_q = cu_chi_45.groupby('cur_date').mean()['quality']\n",
    "print('%So ngay duoi 75:',len(daily_q[daily_q < 75])/len(daily_q))\n",
    "print('%So ngay 75 - 80:',len(daily_q[(daily_q > 75) &(daily_q < 80)])/len(daily_q))\n",
    "print('%So ngay 80 - 85:',len(daily_q[(daily_q > 80) &(daily_q < 85)])/len(daily_q))\n",
    "print('%So ngay 85 - 90:',len(daily_q[(daily_q > 85) &(daily_q < 90)])/len(daily_q))\n",
    "print('%So ngay tren 90:',len(daily_q[daily_q > 90])/len(daily_q))"
   ]
  },
  {
   "cell_type": "code",
   "execution_count": null,
   "metadata": {},
   "outputs": [],
   "source": [
    "cu_chi_45.mean()"
   ]
  },
  {
   "cell_type": "code",
   "execution_count": null,
   "metadata": {},
   "outputs": [],
   "source": [
    "# duoi - tren chi tieu hon 20 lan\n",
    "bad = cu_chi_45[cu_chi_45['quality'] < 80].groupby('user_id').count()['id']\n",
    "good =cu_chi_45[cu_chi_45['quality'] > 90].groupby('user_id').count()['id']"
   ]
  },
  {
   "cell_type": "code",
   "execution_count": null,
   "metadata": {},
   "outputs": [],
   "source": [
    "cu_chi_45.loc[bad[bad > 20].index.tolist(),:].groupby('user_id').mean()"
   ]
  },
  {
   "cell_type": "code",
   "execution_count": null,
   "metadata": {},
   "outputs": [],
   "source": [
    "# so ngay di lam cua nhung nguoi te nhat:\n",
    "cu_chi_45.loc[bad[bad > 20].index.tolist(),:].groupby(['user_id','checkin_type']).count()['id']"
   ]
  },
  {
   "cell_type": "code",
   "execution_count": null,
   "metadata": {},
   "outputs": [],
   "source": [
    "cu_chi_45.loc[good[good > 20].index.tolist(),:].groupby(['user_id','checkin_type']).count()['id']"
   ]
  },
  {
   "cell_type": "code",
   "execution_count": null,
   "metadata": {},
   "outputs": [],
   "source": [
    "cu_chi_45.loc[good[good > 20].index.tolist(),:].groupby(['user_id']).count()['id'].plot(kind = 'hist')"
   ]
  },
  {
   "cell_type": "code",
   "execution_count": null,
   "metadata": {},
   "outputs": [],
   "source": [
    "cu_chi_45.loc[good[good > 20].index.tolist(),:].groupby(['user_id']).count()['id'].mean()"
   ]
  },
  {
   "cell_type": "code",
   "execution_count": null,
   "metadata": {},
   "outputs": [],
   "source": [
    "cu_chi_45.index.unique()"
   ]
  },
  {
   "cell_type": "code",
   "execution_count": null,
   "metadata": {},
   "outputs": [],
   "source": [
    "#quality tung nguoi lam cua ngay te nhat\n",
    "ngaytenhat = cu_chi_45[cu_chi_45['cur_date'] == '2020-05-04']['quality'] # 245 nguoilam\n",
    "#ngaytenhat[ngaytenhat < 70].groupby('user_id').mean().index.tolist()"
   ]
  },
  {
   "cell_type": "code",
   "execution_count": null,
   "metadata": {},
   "outputs": [],
   "source": [
    "#quality trung bình tháng của những người có quality dưới 70 trong ngày có quality tệ nhất tháng: #mean = 63%\n",
    "cu_chi_45.loc[ngaytenhat[ngaytenhat < 70].groupby('user_id').mean().index.tolist(),:].groupby('user_id').mean()['quality']"
   ]
  },
  {
   "cell_type": "code",
   "execution_count": null,
   "metadata": {},
   "outputs": [],
   "source": [
    "#quality trung binh cua nhung nguoi lam duoi 70% trong ngay te nhat thang bỏ đi giá trị 0 (mean = 78%)\n",
    "cu_chi_45.loc[ngaytenhat[ngaytenhat < 70].groupby('user_id').mean().index.tolist(),:].groupby('user_id').mean()['quality'].replace(0, np.NaN).plot(kind = 'hist')"
   ]
  },
  {
   "cell_type": "code",
   "execution_count": null,
   "metadata": {},
   "outputs": [],
   "source": [
    "# mean quality cua nhom tot nhat trong ngay te nhat: ( > 90)\n",
    "cu_chi_45.loc[ngaytenhat[ngaytenhat > 90].groupby('user_id').mean().index.tolist(),:].groupby('user_id').mean()['quality'].replace(0, np.NaN).mean()#.plot(kind='hist')"
   ]
  },
  {
   "cell_type": "code",
   "execution_count": null,
   "metadata": {},
   "outputs": [],
   "source": [
    "#thoi gian trung binh mot nguoi duoc gan module (mean: 10)\n",
    "cu_chi_45[cu_chi_45['quality'] ==0].groupby('user_id').count()['id'].plot(kind = 'hist')"
   ]
  },
  {
   "cell_type": "code",
   "execution_count": null,
   "metadata": {},
   "outputs": [],
   "source": [
    "#trung binh quality ca thang cua tung nguoi:\n",
    "cu_chi_45.replace(0,np.nan).groupby('user_id').mean()['quality'].plot(kind = 'hist')"
   ]
  },
  {
   "cell_type": "code",
   "execution_count": null,
   "metadata": {},
   "outputs": [],
   "source": [
    "cu_chi_45.loc[ngaytenhat[ngaytenhat < 70].groupby('user_id').mean().index.tolist(),:].groupby('user_id').mean()['quality'].replace(0, np.NaN)"
   ]
  },
  {
   "cell_type": "code",
   "execution_count": null,
   "metadata": {},
   "outputs": [],
   "source": [
    "tb_quality = cu_chi_45.replace(0,np.nan).groupby('user_id').mean()['quality']\n",
    "tb_quality[tb_quality < 80]"
   ]
  },
  {
   "cell_type": "code",
   "execution_count": null,
   "metadata": {},
   "outputs": [],
   "source": [
    "# 96 nguoi: 5 module trong 8 module\n",
    "cu_chi_45.loc[ngaytenhat[ngaytenhat < 70].groupby('user_id').mean().index.tolist(),:]['module'].unique()"
   ]
  },
  {
   "cell_type": "code",
   "execution_count": null,
   "metadata": {},
   "outputs": [],
   "source": [
    "cu_chi_45['module'].unique()"
   ]
  },
  {
   "cell_type": "code",
   "execution_count": null,
   "metadata": {},
   "outputs": [],
   "source": [
    "cu_chi_45.groupby('module').mean()['quality']"
   ]
  },
  {
   "cell_type": "markdown",
   "metadata": {},
   "source": [
    "Loại: MB và MT, HN, DN =)) còn 'Trung Tâm', 'MN9-18', 'MN4-8 (Tính mức độ)"
   ]
  },
  {
   "cell_type": "code",
   "execution_count": null,
   "metadata": {},
   "outputs": [],
   "source": [
    "cu_chi_45.groupby('module').mean()['speed']"
   ]
  },
  {
   "cell_type": "code",
   "execution_count": null,
   "metadata": {},
   "outputs": [],
   "source": [
    "cu_chi_45.groupby(['cur_date']).mean()['quality'].plot(kind = 'line')"
   ]
  },
  {
   "cell_type": "code",
   "execution_count": null,
   "metadata": {},
   "outputs": [],
   "source": [
    "cu_chi_45.groupby(['cur_date']).mean()['quality'].std()"
   ]
  },
  {
   "cell_type": "code",
   "execution_count": null,
   "metadata": {},
   "outputs": [],
   "source": [
    "cu_chi_45.groupby(['cur_date']).mean()['quality'].mean() - 1*cu_chi_45.groupby(['cur_date']).mean()['quality'].std()"
   ]
  },
  {
   "cell_type": "code",
   "execution_count": null,
   "metadata": {},
   "outputs": [],
   "source": [
    "cu_chi_45.groupby(['cur_date']).mean()['quality'].min()"
   ]
  },
  {
   "cell_type": "code",
   "execution_count": null,
   "metadata": {},
   "outputs": [],
   "source": [
    "cu_chi_45.groupby(['cur_date']).mean()['quality'].plot(kind = 'density')"
   ]
  },
  {
   "cell_type": "code",
   "execution_count": null,
   "metadata": {},
   "outputs": [],
   "source": [
    "day_bad = cu_chi_45.groupby(['cur_date']).mean()['quality'][cu_chi_45.groupby(['cur_date']).mean()['quality'] < 75].index.tolist()\n",
    "day_bad "
   ]
  },
  {
   "cell_type": "code",
   "execution_count": null,
   "metadata": {},
   "outputs": [],
   "source": [
    "#Trung bình toàn trình của các module vào các ngày toàn trình chung thấp:\n",
    "cu_chi_45.set_index('cur_date').loc[day_bad,:].groupby(['cur_date','module']).mean()['quality']"
   ]
  },
  {
   "cell_type": "markdown",
   "metadata": {},
   "source": [
    "### Ngày khác!"
   ]
  },
  {
   "cell_type": "code",
   "execution_count": null,
   "metadata": {},
   "outputs": [],
   "source": [
    "date_else = []\n",
    "for x in cu_chi_45.set_index('cur_date').index.unique().tolist():\n",
    "    if x not in day_bad:\n",
    "        date_else.append(x)"
   ]
  },
  {
   "cell_type": "code",
   "execution_count": null,
   "metadata": {},
   "outputs": [],
   "source": [
    "else_series = cu_chi_45.set_index('cur_date').loc[date_else,:].groupby(['module']).mean()['quality']\n",
    "dict_else = {else_series.index.tolist()[x]: else_series[x] for x in range(len(else_series))}\n",
    "dict_else"
   ]
  },
  {
   "cell_type": "code",
   "execution_count": null,
   "metadata": {},
   "outputs": [],
   "source": [
    "#So sanh tat ca cac ngay cac module % toan trinh ra sao so voi trung binh nhung ngay khac: #exclude outliers from lower toan trinh \n",
    "oke_1 = cu_chi_45.reset_index().groupby(['cur_date','module']).mean()['quality'].to_frame().reset_index()\n",
    "#oke_1"
   ]
  },
  {
   "cell_type": "code",
   "execution_count": null,
   "metadata": {},
   "outputs": [],
   "source": [
    "#So sanh tat ca cac ngay cac module % toan trinh ra sao so voi trung binh nhung ngay khac: #exclude outliers from lower toan trinh \n",
    "oke_1['thuong'] = oke_1['module'].replace(dict_else)\n",
    "oke_1['so sanh'] = (1- oke_1['quality']/oke_1['thuong']) * 100 \n",
    "#oke_1['so sanh'].plot(kind = 'density')\n",
    "#print(oke_1['so sanh'].mean(),oke_1['so sanh'].std(),oke_1['so sanh'].min(),oke_1['so sanh'].max())\n",
    "oke_1['so sanh'].plot(kind = 'box')\n"
   ]
  },
  {
   "cell_type": "code",
   "execution_count": null,
   "metadata": {},
   "outputs": [],
   "source": [
    "oke_1 = oke_1.reset_index()"
   ]
  },
  {
   "cell_type": "code",
   "execution_count": null,
   "metadata": {},
   "outputs": [],
   "source": [
    "Q1 = oke_1['so sanh'].quantile(0.25)\n",
    "Q3 = oke_1['so sanh'].quantile(0.75)\n",
    "IQR = Q3 - Q1"
   ]
  },
  {
   "cell_type": "code",
   "execution_count": null,
   "metadata": {},
   "outputs": [],
   "source": [
    "#dung IQR, toan Mien Bac:\n",
    "#    oke_1.loc[oke_1['so sanh'][(oke_1['so sanh'] < (Q1 - 1.5 * IQR)) |\n",
    "#    (oke_1['so sanh'] > (Q3 + 1.5 * IQR))].index.tolist(),:]\n"
   ]
  },
  {
   "cell_type": "code",
   "execution_count": null,
   "metadata": {},
   "outputs": [],
   "source": [
    "#So sánh toàn trình vào cac ngày tệ và trung bình toàn trình:\n",
    "oke = cu_chi_45.set_index('cur_date').loc[day_bad,:].groupby(['cur_date','module']).mean()['quality'].to_frame().reset_index()\n",
    "#oke"
   ]
  },
  {
   "cell_type": "code",
   "execution_count": null,
   "metadata": {},
   "outputs": [],
   "source": [
    "#So sánh toàn trình vào cac ngày tệ và trung bình toàn trình:\n",
    "oke['thuong'] = oke['module'].replace(dict_else)\n",
    "oke['so sanh'] = (1- oke['quality']/oke['thuong']) * 100 # %toan trinh thuong nhanh hon so voi ngay do\n",
    "#oke['so sanh'].mean() + 2*oke['so sanh'].std()\n",
    "#oke['so sanh'].plot(kind ='density')"
   ]
  },
  {
   "cell_type": "code",
   "execution_count": null,
   "metadata": {},
   "outputs": [],
   "source": [
    "print('max',oke['so sanh'].max())\n",
    "print('min',oke['so sanh'].min())\n",
    "print('std',oke['so sanh'].std())\n",
    "print('mean',oke['so sanh'].mean())\n",
    "#print()"
   ]
  },
  {
   "cell_type": "code",
   "execution_count": null,
   "metadata": {},
   "outputs": [],
   "source": [
    "oke.set_index(['cur_date','module'])"
   ]
  },
  {
   "cell_type": "code",
   "execution_count": null,
   "metadata": {},
   "outputs": [],
   "source": [
    "cu_chi_45[(cu_chi_45['module'] == 'MB')&(cu_chi_45['cur_date'] == '2020-05-15')].mean()"
   ]
  },
  {
   "cell_type": "code",
   "execution_count": null,
   "metadata": {},
   "outputs": [],
   "source": [
    "cu_chi_45[cu_chi_45['module'] == 'MB'].set_index('cur_date').loc[date_else,:].mean()"
   ]
  },
  {
   "cell_type": "code",
   "execution_count": null,
   "metadata": {},
   "outputs": [],
   "source": [
    "#So sanh trung binh ngay hom do va trung binh thang cua tung module\n",
    "cu_chi_45[(cu_chi_45['module'] == 'MB')&(cu_chi_45['cur_date'] == '2020-05-15')].mean() - cu_chi_45[cu_chi_45['module'] == 'MB'].set_index('cur_date').loc[date_else,:].mean()"
   ]
  },
  {
   "cell_type": "markdown",
   "metadata": {},
   "source": [
    "### Tìm thứ"
   ]
  },
  {
   "cell_type": "code",
   "execution_count": null,
   "metadata": {},
   "outputs": [],
   "source": [
    "# Python program to Find day of  \n",
    "# the week for a given date \n",
    "import datetime  \n",
    "from datetime import date \n",
    "import calendar \n",
    "  \n",
    "def findDay(date): \n",
    "    day, month, year = (int(i) for i in date.split('-'))     \n",
    "    born = datetime.date(year, month, day) \n",
    "    return born.strftime(\"%A\") \n",
    "  \n",
    "# Driver program \n",
    "for date in day_bad:\n",
    "    print(date, findDay(date.strftime(\"%d-%m-%Y\"))) \n",
    "    \n",
    "#date = '04-05-2020'\n"
   ]
  },
  {
   "cell_type": "code",
   "execution_count": null,
   "metadata": {},
   "outputs": [],
   "source": [
    "date_else[1].strftime(\"%Y-%m-%d\")"
   ]
  },
  {
   "cell_type": "code",
   "execution_count": null,
   "metadata": {},
   "outputs": [],
   "source": [
    "moi_lam = cu_chi_45.set_index('cur_date').groupby(['cur_date','module']).mean()['quality'].to_frame().reset_index()\n",
    "#moi_lam"
   ]
  },
  {
   "cell_type": "code",
   "execution_count": null,
   "metadata": {},
   "outputs": [],
   "source": [
    "#So sanh tat ca cac ngay va nhung ngay tot: #Tru day_bad\n",
    "moi_lam['ngay tot'] = moi_lam['module'].replace(dict_else)\n",
    "moi_lam['so sanh'] = (1- moi_lam['quality']/moi_lam['ngay tot']) * 100\n",
    "moi_lam"
   ]
  },
  {
   "cell_type": "code",
   "execution_count": null,
   "metadata": {},
   "outputs": [],
   "source": [
    "#Mien bac\n",
    "moi_lam.set_index('cur_date')[moi_lam.set_index('cur_date')['module'] == 'MB']['so sanh'].plot(kind = 'hist')"
   ]
  },
  {
   "cell_type": "code",
   "execution_count": null,
   "metadata": {},
   "outputs": [],
   "source": [
    "#Lien mien bay\n",
    "moi_lam.set_index('cur_date')[moi_lam.set_index('cur_date')['module'] == 'Liên Miền (Bay)']['so sanh'].plot(kind = 'hist')"
   ]
  },
  {
   "cell_type": "code",
   "execution_count": null,
   "metadata": {},
   "outputs": [],
   "source": [
    "#Mien Nam 4-8\n",
    "moi_lam.set_index('cur_date')[moi_lam.set_index('cur_date')['module'] == 'MN4-8']['so sanh'].plot(kind = 'hist')"
   ]
  },
  {
   "cell_type": "markdown",
   "metadata": {},
   "source": [
    "So sánh sản lượng trên đầu người của từng module vào từng ngày"
   ]
  },
  {
   "cell_type": "code",
   "execution_count": null,
   "metadata": {},
   "outputs": [],
   "source": [
    "cu_chi_45.set_index('cur_date').loc[day_bad,:].groupby(['cur_date','module']).mean()['product_kpi_raw'].groupby('module').mean()"
   ]
  },
  {
   "cell_type": "code",
   "execution_count": null,
   "metadata": {},
   "outputs": [],
   "source": [
    "cu_chi_45.set_index('cur_date').loc[date_else,:].groupby(['cur_date','module']).mean()['product_kpi_raw'].groupby('module').mean()"
   ]
  },
  {
   "cell_type": "code",
   "execution_count": null,
   "metadata": {},
   "outputs": [],
   "source": [
    "#bad_day/else\n",
    "(cu_chi_45.set_index('cur_date').loc[day_bad,:].groupby(['cur_date','module']).mean()['product_kpi_raw'].groupby('module').mean()/cu_chi_45.set_index('cur_date').loc[date_else,:].groupby(['cur_date','module']).mean()['product_kpi_raw'].groupby('module').mean()*100\n",
    ").to_frame()"
   ]
  },
  {
   "cell_type": "markdown",
   "metadata": {},
   "source": [
    "### Các vấn đề:\n",
    "+ Một số các module của các LV (vd: Củ Chỉ) có khó khăn trong quá trình Xử Lý hàng hóa nên %toàn trình luôn luôn thấp --> cách đánh giá toàn trình chưa xác đáng --> thay đổi phụ thuộc vào Điều Phối (cách xử lý của điều phối -- tăng thời gian hàng tại kho, giãn ra) --> toàn trình của nhân viên kho đó tăng nhưng lương điều phối giảm. Nếu điều phối có thể đẩy nhanh xử lý hàng thì họ đã làm rồi vì sợ giảm lương nhưng không được. Thêm nữa thời gian giãn hàng bị ảnh hưởng bởi lịch toàn trình của kho tiếp theo (vd: chuyến trước 3h - 40% hàng không đến đc thì để đến chuyến trước 7h. Tổng toàn trình sẽ trễ 4 tiếng mặc dù thời gian để xử lý cần thêm thật ra chỉ 30 phút (đây là điểm quan tâm đến chất lượng chuyến hàng tổng). Lương điều phối sẽ bị giảm hơn mức cần thiết. \n",
    "+ Các module xử lý hàng bt đã tệ vào những ngày hàng nhiều xử lý càng tệ (chứng minh lần nữa không có khoảng trống) --> kéo toàn trình của cả tháng xuống. (phụ họa- bảng chứng minh else-day vs bad_day). Dù chỉ 5 ngày bị bỏ ra nhưng toàn trình trung bình cả thiện nhiều. (Phân tích kỹ thêm lý do những ngày này tại sao quá tải ngoài hàng nhiều - giải quyết sao cho hợp lý - vd: thêm người ngày - chuyển bớt người từ module khác thì chyển bao bao - dự đoán lượng hàng dồn về).\n",
    "+ Những điểm đánh giá toàn trình chưa trực quan của từng module ảnh hưởng đến toàn trình trung bình cả tháng - ảnh hưởng đến đánh giá toàn trình trung bình từng LV --> Khu vực (vd: bảng trung bình từng khu vực). Mặc dù khi trung bình sản lượng từng kho ra thì không thấy được.\n",
    "\n",
    "Nên phải quan sát các khó khăn trong khâu xử lý hàng của các module (Củ chi trước), có khả năng sẽ thay đổi toàn trình của các kho kế tiếp - trước đó --> nhằm đánh giá chất lượng toàn trình cả quá trình từ A tới Z (lương điều phối) được sát nút hơn --> Điều phối có động lực hơn để kiểm soát thời gian xử lý hàng (vì mốc xuất mới sẽ sát với thời gian xử lý thực hơn - dù giãn ra nếu cần cũng không ảnh hưởng đén tổng chất lượng nhiều như cũ - chưa kể những kho mà thời gian xử lý chưa sát có thể rút ngắn)\n",
    "\n",
    "Suy ra lương XLHH sẽ ổn định hơn, chất lượng toàn trình ổn định hơn --> lương điều phối ổn định hơn\n",
    "\n",
    "Nhằm để bảng đánh giá lương - tốc độ - toàn trình tất cả các liên vùng trực quan hơn --> Để đánh giá tốt hơn các vùng tốt và tệ có điểm gì khác biệt ngoại trừ việc cách đánh giá toàn trình một số module chưa đúng với thời gian có thể xử lý hàng."
   ]
  },
  {
   "cell_type": "code",
   "execution_count": null,
   "metadata": {},
   "outputs": [],
   "source": [
    "cu_chi_45['module'].unique().tolist()"
   ]
  },
  {
   "cell_type": "code",
   "execution_count": null,
   "metadata": {},
   "outputs": [],
   "source": [
    "cu_chi_45.groupby('module').mean()['product_kpi_raw']"
   ]
  },
  {
   "cell_type": "code",
   "execution_count": null,
   "metadata": {},
   "outputs": [],
   "source": [
    "cu_chi_45#[cu_chi_45['Toàn Trình'] == 0]"
   ]
  },
  {
   "cell_type": "code",
   "execution_count": null,
   "metadata": {},
   "outputs": [],
   "source": [
    "#luong_cuchi = thang_5[thang_5['Kho'] == 'LV - Củ Chi'].reset_index()[['user_id','username','Tổng lương','Lương KPI','Toàn trình','Tốc độ']].replace(0,np.nan)\n",
    "#luong_cuchi.username"
   ]
  },
  {
   "cell_type": "code",
   "execution_count": null,
   "metadata": {},
   "outputs": [],
   "source": [
    "module_2 = pd.read_excel(io = 'cu_chi-2104-2005.xlsx',sheet_name = 'tổng nhân viên')"
   ]
  },
  {
   "cell_type": "code",
   "execution_count": null,
   "metadata": {},
   "outputs": [],
   "source": [
    "thang_4[thang_4['Kho'] == 'LV - Gò Vấp'][thang_4[thang_4['Kho'] == 'LV - Gò Vấp']['Toàn trình'] == 0]"
   ]
  },
  {
   "cell_type": "code",
   "execution_count": null,
   "metadata": {},
   "outputs": [],
   "source": [
    "#thang_4[thang_4['Kho'] == 'LV - Củ Chi']['Toàn trình'].sort_values()"
   ]
  },
  {
   "cell_type": "code",
   "execution_count": null,
   "metadata": {},
   "outputs": [],
   "source": [
    "thang_5[thang_5['Kho'] == 'LV - Củ Chi']"
   ]
  },
  {
   "cell_type": "code",
   "execution_count": null,
   "metadata": {},
   "outputs": [],
   "source": [
    "module_2\n",
    "module_dict2 = {module_2['username'][x]: module_2['module'][x] for x in range(len(module_2))}\n",
    "len(module_dict2)"
   ]
  },
  {
   "cell_type": "code",
   "execution_count": null,
   "metadata": {},
   "outputs": [],
   "source": [
    "luong_cuchi = thang_5[thang_5['Kho'] == 'LV - Củ Chi']\n",
    "#luong_cuchi"
   ]
  },
  {
   "cell_type": "code",
   "execution_count": null,
   "metadata": {},
   "outputs": [],
   "source": [
    "luong_cuchi['module'] = luong_cuchi['username'].copy()\n",
    "luong_cuchi['module'] = luong_cuchi['module'].replace(module_dict2)\n",
    "#luong_cuchi"
   ]
  },
  {
   "cell_type": "code",
   "execution_count": null,
   "metadata": {},
   "outputs": [],
   "source": [
    "#luong_cuchi['module'].dropna().index.tolist()\n",
    "not_define = ['trongnm3','baohq7', 'thanhlq20', 'phucvh9', 'tantn10', 'hoangvv15',\n",
    "       'thanhth31', 'quyd', 'baonhd']\n",
    "clean_cc = luong_cuchi.loc[luong_cuchi['module'].dropna().index.tolist(),:].set_index('username').drop(not_define)\n",
    "clean_cc.groupby('module').mean()"
   ]
  },
  {
   "cell_type": "code",
   "execution_count": null,
   "metadata": {},
   "outputs": [],
   "source": [
    "clean_cc.groupby('module').count()['Kho']"
   ]
  },
  {
   "cell_type": "code",
   "execution_count": null,
   "metadata": {},
   "outputs": [],
   "source": [
    "clean_cc.columns"
   ]
  },
  {
   "cell_type": "code",
   "execution_count": null,
   "metadata": {},
   "outputs": [],
   "source": [
    "clean_cc[['Cấp Bậc','Công việc mặc định','Tổng Công Thực tế', 'Công KPI đi làm ngày tăng ca',\n",
    "       'Công chuẩn cá nhân', 'Công thử việc','Công tăng ca thử việc', 'Công tăng ca chính thức',\n",
    "       'Toàn trình', 'Tốc độ','KPI sản lượng', 'KPI/ngày','Tổng lương','module']].groupby('module').max()"
   ]
  },
  {
   "cell_type": "code",
   "execution_count": null,
   "metadata": {},
   "outputs": [],
   "source": [
    "clean_cc[['Cấp Bậc','Công việc mặc định','Tổng Công Thực tế', 'Công KPI đi làm ngày tăng ca',\n",
    "       'Công chuẩn cá nhân', 'Công thử việc','Công tăng ca thử việc', 'Công tăng ca chính thức',\n",
    "       'Toàn trình', 'Tốc độ','KPI sản lượng', 'KPI/ngày','Tổng lương','module']].groupby('module').mean()"
   ]
  },
  {
   "cell_type": "code",
   "execution_count": null,
   "metadata": {},
   "outputs": [],
   "source": [
    "cc_thugon =   clean_cc[['Cấp Bậc','Công việc mặc định','Tổng Công Thực tế', 'Công KPI đi làm ngày tăng ca',\n",
    "       'Công chuẩn cá nhân', 'Công thử việc','Công tăng ca thử việc', 'Công tăng ca chính thức',\n",
    "       'Toàn trình', 'Tốc độ','KPI sản lượng', 'KPI/ngày','Tổng lương','module']]\n",
    "cc_thugon[cc_thugon['module'] =='MB']"
   ]
  },
  {
   "cell_type": "code",
   "execution_count": null,
   "metadata": {},
   "outputs": [],
   "source": [
    "cu_chi_45[cu_chi_45['module'] == 'MN4-8'].groupby('cur_date').mean()['speed']"
   ]
  },
  {
   "cell_type": "code",
   "execution_count": null,
   "metadata": {},
   "outputs": [],
   "source": [
    "oke_3 = thang_5.drop(index = thang_5[thang_5['Tốc độ'] ==0]['Tốc độ'].index.tolist())\n",
    "oke_3.groupby('Kho').mean()[['Tổng Công Thực tế','Công thử việc','KPI tổng thực làm','KPI thưởng','Toàn trình','Tốc độ', 'KPI/ngày','Tổng lương']]"
   ]
  },
  {
   "cell_type": "code",
   "execution_count": null,
   "metadata": {},
   "outputs": [],
   "source": [
    "thang_5.columns\n"
   ]
  },
  {
   "cell_type": "code",
   "execution_count": null,
   "metadata": {},
   "outputs": [],
   "source": [
    "thang_5[thang_5['Kho'] == 'LV - Huế'][ ['Tổng Công Thực tế','Công KPI đi làm ngày tăng ca']]\n",
    "  "
   ]
  },
  {
   "cell_type": "code",
   "execution_count": null,
   "metadata": {},
   "outputs": [],
   "source": [
    "thang_5[thang_5['Kho'] == 'LV - Cần Thơ'][ ['Tổng Công Thực tế','Công KPI đi làm ngày tăng ca','Công thử việc']]"
   ]
  },
  {
   "cell_type": "code",
   "execution_count": null,
   "metadata": {},
   "outputs": [],
   "source": [
    "#trung binh nhung nguoi di lam nhieu hon 20 ngay va co toc do khac khong:\n",
    "clean_1 = thang_5.drop(index = thang_5[thang_5['Tốc độ'] ==0]['Tốc độ'].index.tolist())[thang_5['Tổng Công Thực tế'] +thang_5['Công thử việc'] > 20]\n",
    "quai_la = clean_1.groupby('Kho').mean()[['Tổng Công Thực tế','Công thử việc','KPI tổng thực làm','KPI thưởng', 'KPI tổng thưởng tăng ca',\n",
    "       'KPI tổng thực làm tăng ca','Toàn trình','Tốc độ', 'KPI/ngày','Lương Sản lượng','Lương Tăng ca','Tổng lương','KPI sản lượng',]]\n",
    "quai_la['Số người'] = clean_1.groupby('Kho').count()['#'].values.tolist()\n",
    "quai_la"
   ]
  },
  {
   "cell_type": "code",
   "execution_count": null,
   "metadata": {},
   "outputs": [],
   "source": [
    "tang_them = ((quai_la['Tốc độ'] - 30)/15).round()*10\n",
    "new_tt = []\n",
    "for x in tang_them.tolist():\n",
    "    if x > 0:\n",
    "        new_tt.append(x)\n",
    "    else:\n",
    "        new_tt.append(0)\n",
    "#new_tt"
   ]
  },
  {
   "cell_type": "code",
   "execution_count": null,
   "metadata": {},
   "outputs": [],
   "source": [
    "quai_la['% tăng thêm'] = new_tt\n",
    "#quai_la"
   ]
  },
  {
   "cell_type": "code",
   "execution_count": null,
   "metadata": {},
   "outputs": [],
   "source": [
    "quai_la['KPI/ngày thêm'] = (quai_la['% tăng thêm']/100)*(quai_la['KPI thưởng']+ quai_la['KPI tổng thưởng tăng ca'])/quai_la['Tổng Công Thực tế']\n",
    "quai_la['Ra tiền'] = quai_la['KPI/ngày thêm']*quai_la['Số người']/100\n",
    "quai_la"
   ]
  },
  {
   "cell_type": "code",
   "execution_count": null,
   "metadata": {},
   "outputs": [],
   "source": [
    "#So tien se mat neu tat ca lien vung deu co toc do tren 30p\n",
    "quai_la['Ra tiền'].sum()"
   ]
  },
  {
   "cell_type": "code",
   "execution_count": null,
   "metadata": {},
   "outputs": [],
   "source": [
    "#thang_5[thang_5['Kho'] == 'LV - Huế']"
   ]
  },
  {
   "cell_type": "code",
   "execution_count": null,
   "metadata": {},
   "outputs": [],
   "source": [
    "#new_board"
   ]
  },
  {
   "cell_type": "code",
   "execution_count": null,
   "metadata": {},
   "outputs": [],
   "source": [
    "quai_la.drop(index = ['LV - Bà Rịa','LV - Củ Chi','LV - Đồng Xoài','LV - Tuy Hoà']).corr()"
   ]
  },
  {
   "cell_type": "markdown",
   "metadata": {},
   "source": [
    "# Gò Vấp"
   ]
  },
  {
   "cell_type": "code",
   "execution_count": 4,
   "metadata": {},
   "outputs": [
    {
     "data": {
      "text/html": [
       "<div>\n",
       "<style scoped>\n",
       "    .dataframe tbody tr th:only-of-type {\n",
       "        vertical-align: middle;\n",
       "    }\n",
       "\n",
       "    .dataframe tbody tr th {\n",
       "        vertical-align: top;\n",
       "    }\n",
       "\n",
       "    .dataframe thead th {\n",
       "        text-align: right;\n",
       "    }\n",
       "</style>\n",
       "<table border=\"1\" class=\"dataframe\">\n",
       "  <thead>\n",
       "    <tr style=\"text-align: right;\">\n",
       "      <th></th>\n",
       "      <th>username</th>\n",
       "      <th>name</th>\n",
       "      <th>id</th>\n",
       "      <th>user_id</th>\n",
       "      <th>cur_date</th>\n",
       "      <th>checkin_type</th>\n",
       "      <th>cur_station_id</th>\n",
       "      <th>lt_raw</th>\n",
       "      <th>lt_kpi</th>\n",
       "      <th>xt_raw</th>\n",
       "      <th>...</th>\n",
       "      <th>quality</th>\n",
       "      <th>speed</th>\n",
       "      <th>rw_kpi</th>\n",
       "      <th>weight_kpi</th>\n",
       "      <th>total_kpi</th>\n",
       "      <th>created</th>\n",
       "      <th>created_by</th>\n",
       "      <th>modified</th>\n",
       "      <th>modified_by</th>\n",
       "      <th>product_kpi_raw</th>\n",
       "    </tr>\n",
       "  </thead>\n",
       "  <tbody>\n",
       "    <tr>\n",
       "      <th>0</th>\n",
       "      <td>hiepnv6</td>\n",
       "      <td>LV - Gò Vấp</td>\n",
       "      <td>299222</td>\n",
       "      <td>71729</td>\n",
       "      <td>2020-05-21</td>\n",
       "      <td>normal</td>\n",
       "      <td>6139</td>\n",
       "      <td>2062.80</td>\n",
       "      <td>2062.80</td>\n",
       "      <td>264</td>\n",
       "      <td>...</td>\n",
       "      <td>87.32</td>\n",
       "      <td>106.90</td>\n",
       "      <td>1861.67</td>\n",
       "      <td>0</td>\n",
       "      <td>4188.76</td>\n",
       "      <td>2020-05-22 12:32:24</td>\n",
       "      <td>1</td>\n",
       "      <td>2020-06-09 17:40:09</td>\n",
       "      <td>1.0</td>\n",
       "      <td>2327.09</td>\n",
       "    </tr>\n",
       "    <tr>\n",
       "      <th>1</th>\n",
       "      <td>duoctt</td>\n",
       "      <td>LV - Gò Vấp</td>\n",
       "      <td>299225</td>\n",
       "      <td>221550</td>\n",
       "      <td>2020-05-21</td>\n",
       "      <td>normal</td>\n",
       "      <td>6139</td>\n",
       "      <td>2062.80</td>\n",
       "      <td>2062.80</td>\n",
       "      <td>268</td>\n",
       "      <td>...</td>\n",
       "      <td>89.72</td>\n",
       "      <td>101.73</td>\n",
       "      <td>2330.38</td>\n",
       "      <td>0</td>\n",
       "      <td>4660.75</td>\n",
       "      <td>2020-05-22 12:32:28</td>\n",
       "      <td>1</td>\n",
       "      <td>2020-06-09 17:48:19</td>\n",
       "      <td>1.0</td>\n",
       "      <td>2330.38</td>\n",
       "    </tr>\n",
       "    <tr>\n",
       "      <th>2</th>\n",
       "      <td>namdv20</td>\n",
       "      <td>LV - Gò Vấp</td>\n",
       "      <td>299227</td>\n",
       "      <td>308361</td>\n",
       "      <td>2020-05-21</td>\n",
       "      <td>normal</td>\n",
       "      <td>6139</td>\n",
       "      <td>777.00</td>\n",
       "      <td>777.00</td>\n",
       "      <td>0</td>\n",
       "      <td>...</td>\n",
       "      <td>99.33</td>\n",
       "      <td>45.55</td>\n",
       "      <td>7143.80</td>\n",
       "      <td>429</td>\n",
       "      <td>10678.80</td>\n",
       "      <td>2020-05-22 12:32:28</td>\n",
       "      <td>1</td>\n",
       "      <td>2020-06-09 18:49:49</td>\n",
       "      <td>1.0</td>\n",
       "      <td>3106.00</td>\n",
       "    </tr>\n",
       "    <tr>\n",
       "      <th>3</th>\n",
       "      <td>luannm18</td>\n",
       "      <td>LV - Gò Vấp</td>\n",
       "      <td>299228</td>\n",
       "      <td>308367</td>\n",
       "      <td>2020-05-21</td>\n",
       "      <td>normal</td>\n",
       "      <td>6139</td>\n",
       "      <td>0.00</td>\n",
       "      <td>0.00</td>\n",
       "      <td>0</td>\n",
       "      <td>...</td>\n",
       "      <td>99.33</td>\n",
       "      <td>45.55</td>\n",
       "      <td>8622.70</td>\n",
       "      <td>492</td>\n",
       "      <td>12863.70</td>\n",
       "      <td>2020-05-22 12:32:28</td>\n",
       "      <td>1</td>\n",
       "      <td>2020-06-09 17:55:21</td>\n",
       "      <td>1.0</td>\n",
       "      <td>3749.00</td>\n",
       "    </tr>\n",
       "    <tr>\n",
       "      <th>4</th>\n",
       "      <td>haudm3</td>\n",
       "      <td>LV - Gò Vấp</td>\n",
       "      <td>299229</td>\n",
       "      <td>308370</td>\n",
       "      <td>2020-05-21</td>\n",
       "      <td>normal</td>\n",
       "      <td>6139</td>\n",
       "      <td>0.00</td>\n",
       "      <td>0.00</td>\n",
       "      <td>0</td>\n",
       "      <td>...</td>\n",
       "      <td>99.33</td>\n",
       "      <td>45.55</td>\n",
       "      <td>10340.80</td>\n",
       "      <td>746</td>\n",
       "      <td>15582.80</td>\n",
       "      <td>2020-05-22 12:32:28</td>\n",
       "      <td>1</td>\n",
       "      <td>2020-06-09 17:55:22</td>\n",
       "      <td>1.0</td>\n",
       "      <td>4496.00</td>\n",
       "    </tr>\n",
       "    <tr>\n",
       "      <th>...</th>\n",
       "      <td>...</td>\n",
       "      <td>...</td>\n",
       "      <td>...</td>\n",
       "      <td>...</td>\n",
       "      <td>...</td>\n",
       "      <td>...</td>\n",
       "      <td>...</td>\n",
       "      <td>...</td>\n",
       "      <td>...</td>\n",
       "      <td>...</td>\n",
       "      <td>...</td>\n",
       "      <td>...</td>\n",
       "      <td>...</td>\n",
       "      <td>...</td>\n",
       "      <td>...</td>\n",
       "      <td>...</td>\n",
       "      <td>...</td>\n",
       "      <td>...</td>\n",
       "      <td>...</td>\n",
       "      <td>...</td>\n",
       "      <td>...</td>\n",
       "    </tr>\n",
       "    <tr>\n",
       "      <th>3432</th>\n",
       "      <td>khoapv4</td>\n",
       "      <td>LV - Gò Vấp</td>\n",
       "      <td>335580</td>\n",
       "      <td>386696</td>\n",
       "      <td>2020-06-08</td>\n",
       "      <td>normal</td>\n",
       "      <td>6139</td>\n",
       "      <td>2175.33</td>\n",
       "      <td>2175.33</td>\n",
       "      <td>380</td>\n",
       "      <td>...</td>\n",
       "      <td>92.06</td>\n",
       "      <td>84.04</td>\n",
       "      <td>3577.08</td>\n",
       "      <td>0</td>\n",
       "      <td>6132.13</td>\n",
       "      <td>2020-06-09 20:42:10</td>\n",
       "      <td>1</td>\n",
       "      <td>2020-06-09 20:42:10</td>\n",
       "      <td>NaN</td>\n",
       "      <td>2555.06</td>\n",
       "    </tr>\n",
       "    <tr>\n",
       "      <th>3433</th>\n",
       "      <td>huyvq31</td>\n",
       "      <td>LV - Gò Vấp</td>\n",
       "      <td>335581</td>\n",
       "      <td>392231</td>\n",
       "      <td>2020-06-08</td>\n",
       "      <td>normal</td>\n",
       "      <td>6139</td>\n",
       "      <td>2175.33</td>\n",
       "      <td>2175.33</td>\n",
       "      <td>380</td>\n",
       "      <td>...</td>\n",
       "      <td>92.06</td>\n",
       "      <td>84.04</td>\n",
       "      <td>3577.08</td>\n",
       "      <td>0</td>\n",
       "      <td>6132.13</td>\n",
       "      <td>2020-06-09 20:45:57</td>\n",
       "      <td>1</td>\n",
       "      <td>2020-06-09 20:45:57</td>\n",
       "      <td>NaN</td>\n",
       "      <td>2555.06</td>\n",
       "    </tr>\n",
       "    <tr>\n",
       "      <th>3434</th>\n",
       "      <td>linhmhh1</td>\n",
       "      <td>LV - Gò Vấp</td>\n",
       "      <td>335582</td>\n",
       "      <td>392234</td>\n",
       "      <td>2020-06-08</td>\n",
       "      <td>normal</td>\n",
       "      <td>6139</td>\n",
       "      <td>2175.33</td>\n",
       "      <td>2175.33</td>\n",
       "      <td>380</td>\n",
       "      <td>...</td>\n",
       "      <td>92.06</td>\n",
       "      <td>84.04</td>\n",
       "      <td>3577.08</td>\n",
       "      <td>0</td>\n",
       "      <td>6132.13</td>\n",
       "      <td>2020-06-09 20:45:58</td>\n",
       "      <td>1</td>\n",
       "      <td>2020-06-09 20:45:58</td>\n",
       "      <td>NaN</td>\n",
       "      <td>2555.06</td>\n",
       "    </tr>\n",
       "    <tr>\n",
       "      <th>3435</th>\n",
       "      <td>lamnh34</td>\n",
       "      <td>LV - Gò Vấp</td>\n",
       "      <td>335583</td>\n",
       "      <td>392288</td>\n",
       "      <td>2020-06-08</td>\n",
       "      <td>normal</td>\n",
       "      <td>6139</td>\n",
       "      <td>2175.33</td>\n",
       "      <td>2175.33</td>\n",
       "      <td>365</td>\n",
       "      <td>...</td>\n",
       "      <td>92.06</td>\n",
       "      <td>84.04</td>\n",
       "      <td>3557.94</td>\n",
       "      <td>3</td>\n",
       "      <td>6101.83</td>\n",
       "      <td>2020-06-09 20:46:20</td>\n",
       "      <td>1</td>\n",
       "      <td>2020-06-09 20:46:20</td>\n",
       "      <td>NaN</td>\n",
       "      <td>2541.39</td>\n",
       "    </tr>\n",
       "    <tr>\n",
       "      <th>3436</th>\n",
       "      <td>trunglt37</td>\n",
       "      <td>LV - Gò Vấp</td>\n",
       "      <td>335595</td>\n",
       "      <td>365579</td>\n",
       "      <td>2020-06-07</td>\n",
       "      <td>normal</td>\n",
       "      <td>6139</td>\n",
       "      <td>87.20</td>\n",
       "      <td>87.20</td>\n",
       "      <td>2076</td>\n",
       "      <td>...</td>\n",
       "      <td>99.14</td>\n",
       "      <td>50.98</td>\n",
       "      <td>4996.52</td>\n",
       "      <td>0</td>\n",
       "      <td>7168.92</td>\n",
       "      <td>2020-06-09 22:28:39</td>\n",
       "      <td>1</td>\n",
       "      <td>2020-06-09 22:28:39</td>\n",
       "      <td>NaN</td>\n",
       "      <td>2172.40</td>\n",
       "    </tr>\n",
       "  </tbody>\n",
       "</table>\n",
       "<p>3437 rows × 32 columns</p>\n",
       "</div>"
      ],
      "text/plain": [
       "       username         name      id  user_id   cur_date checkin_type  \\\n",
       "0       hiepnv6  LV - Gò Vấp  299222    71729 2020-05-21       normal   \n",
       "1        duoctt  LV - Gò Vấp  299225   221550 2020-05-21       normal   \n",
       "2       namdv20  LV - Gò Vấp  299227   308361 2020-05-21       normal   \n",
       "3      luannm18  LV - Gò Vấp  299228   308367 2020-05-21       normal   \n",
       "4        haudm3  LV - Gò Vấp  299229   308370 2020-05-21       normal   \n",
       "...         ...          ...     ...      ...        ...          ...   \n",
       "3432    khoapv4  LV - Gò Vấp  335580   386696 2020-06-08       normal   \n",
       "3433    huyvq31  LV - Gò Vấp  335581   392231 2020-06-08       normal   \n",
       "3434   linhmhh1  LV - Gò Vấp  335582   392234 2020-06-08       normal   \n",
       "3435    lamnh34  LV - Gò Vấp  335583   392288 2020-06-08       normal   \n",
       "3436  trunglt37  LV - Gò Vấp  335595   365579 2020-06-07       normal   \n",
       "\n",
       "      cur_station_id   lt_raw   lt_kpi  xt_raw  ...  quality   speed  \\\n",
       "0               6139  2062.80  2062.80     264  ...    87.32  106.90   \n",
       "1               6139  2062.80  2062.80     268  ...    89.72  101.73   \n",
       "2               6139   777.00   777.00       0  ...    99.33   45.55   \n",
       "3               6139     0.00     0.00       0  ...    99.33   45.55   \n",
       "4               6139     0.00     0.00       0  ...    99.33   45.55   \n",
       "...              ...      ...      ...     ...  ...      ...     ...   \n",
       "3432            6139  2175.33  2175.33     380  ...    92.06   84.04   \n",
       "3433            6139  2175.33  2175.33     380  ...    92.06   84.04   \n",
       "3434            6139  2175.33  2175.33     380  ...    92.06   84.04   \n",
       "3435            6139  2175.33  2175.33     365  ...    92.06   84.04   \n",
       "3436            6139    87.20    87.20    2076  ...    99.14   50.98   \n",
       "\n",
       "        rw_kpi  weight_kpi  total_kpi             created  created_by  \\\n",
       "0      1861.67           0    4188.76 2020-05-22 12:32:24           1   \n",
       "1      2330.38           0    4660.75 2020-05-22 12:32:28           1   \n",
       "2      7143.80         429   10678.80 2020-05-22 12:32:28           1   \n",
       "3      8622.70         492   12863.70 2020-05-22 12:32:28           1   \n",
       "4     10340.80         746   15582.80 2020-05-22 12:32:28           1   \n",
       "...        ...         ...        ...                 ...         ...   \n",
       "3432   3577.08           0    6132.13 2020-06-09 20:42:10           1   \n",
       "3433   3577.08           0    6132.13 2020-06-09 20:45:57           1   \n",
       "3434   3577.08           0    6132.13 2020-06-09 20:45:58           1   \n",
       "3435   3557.94           3    6101.83 2020-06-09 20:46:20           1   \n",
       "3436   4996.52           0    7168.92 2020-06-09 22:28:39           1   \n",
       "\n",
       "                modified  modified_by  product_kpi_raw  \n",
       "0    2020-06-09 17:40:09          1.0          2327.09  \n",
       "1    2020-06-09 17:48:19          1.0          2330.38  \n",
       "2    2020-06-09 18:49:49          1.0          3106.00  \n",
       "3    2020-06-09 17:55:21          1.0          3749.00  \n",
       "4    2020-06-09 17:55:22          1.0          4496.00  \n",
       "...                  ...          ...              ...  \n",
       "3432 2020-06-09 20:42:10          NaN          2555.06  \n",
       "3433 2020-06-09 20:45:57          NaN          2555.06  \n",
       "3434 2020-06-09 20:45:58          NaN          2555.06  \n",
       "3435 2020-06-09 20:46:20          NaN          2541.39  \n",
       "3436 2020-06-09 22:28:39          NaN          2172.40  \n",
       "\n",
       "[3437 rows x 32 columns]"
      ]
     },
     "execution_count": 4,
     "metadata": {},
     "output_type": "execute_result"
    }
   ],
   "source": [
    "go_vap = pd.read_excel(io = 'data-go-vap.xlsx')\n",
    "go_vap"
   ]
  },
  {
   "cell_type": "code",
   "execution_count": 5,
   "metadata": {},
   "outputs": [
    {
     "data": {
      "text/html": [
       "<div>\n",
       "<style scoped>\n",
       "    .dataframe tbody tr th:only-of-type {\n",
       "        vertical-align: middle;\n",
       "    }\n",
       "\n",
       "    .dataframe tbody tr th {\n",
       "        vertical-align: top;\n",
       "    }\n",
       "\n",
       "    .dataframe thead th {\n",
       "        text-align: right;\n",
       "    }\n",
       "</style>\n",
       "<table border=\"1\" class=\"dataframe\">\n",
       "  <thead>\n",
       "    <tr style=\"text-align: right;\">\n",
       "      <th></th>\n",
       "      <th>quality</th>\n",
       "      <th>speed</th>\n",
       "      <th>product_kpi_raw</th>\n",
       "    </tr>\n",
       "    <tr>\n",
       "      <th>cur_date</th>\n",
       "      <th></th>\n",
       "      <th></th>\n",
       "      <th></th>\n",
       "    </tr>\n",
       "  </thead>\n",
       "  <tbody>\n",
       "    <tr>\n",
       "      <th>2020-05-21</th>\n",
       "      <td>95.285846</td>\n",
       "      <td>75.894051</td>\n",
       "      <td>1974.161692</td>\n",
       "    </tr>\n",
       "    <tr>\n",
       "      <th>2020-05-22</th>\n",
       "      <td>96.063350</td>\n",
       "      <td>74.812437</td>\n",
       "      <td>1751.928782</td>\n",
       "    </tr>\n",
       "    <tr>\n",
       "      <th>2020-05-23</th>\n",
       "      <td>96.412611</td>\n",
       "      <td>65.332833</td>\n",
       "      <td>1860.051500</td>\n",
       "    </tr>\n",
       "    <tr>\n",
       "      <th>2020-05-24</th>\n",
       "      <td>95.981797</td>\n",
       "      <td>69.633828</td>\n",
       "      <td>1513.193125</td>\n",
       "    </tr>\n",
       "    <tr>\n",
       "      <th>2020-05-25</th>\n",
       "      <td>95.975000</td>\n",
       "      <td>75.244083</td>\n",
       "      <td>1946.695229</td>\n",
       "    </tr>\n",
       "    <tr>\n",
       "      <th>2020-05-26</th>\n",
       "      <td>96.199286</td>\n",
       "      <td>73.451476</td>\n",
       "      <td>1833.458190</td>\n",
       "    </tr>\n",
       "    <tr>\n",
       "      <th>2020-05-27</th>\n",
       "      <td>95.005194</td>\n",
       "      <td>83.560728</td>\n",
       "      <td>1842.679951</td>\n",
       "    </tr>\n",
       "    <tr>\n",
       "      <th>2020-05-28</th>\n",
       "      <td>95.783062</td>\n",
       "      <td>76.934450</td>\n",
       "      <td>1821.338421</td>\n",
       "    </tr>\n",
       "    <tr>\n",
       "      <th>2020-05-29</th>\n",
       "      <td>97.093795</td>\n",
       "      <td>56.561077</td>\n",
       "      <td>2009.950769</td>\n",
       "    </tr>\n",
       "    <tr>\n",
       "      <th>2020-05-30</th>\n",
       "      <td>96.075287</td>\n",
       "      <td>59.881724</td>\n",
       "      <td>2055.397931</td>\n",
       "    </tr>\n",
       "    <tr>\n",
       "      <th>2020-05-31</th>\n",
       "      <td>95.841504</td>\n",
       "      <td>57.817594</td>\n",
       "      <td>1481.669549</td>\n",
       "    </tr>\n",
       "    <tr>\n",
       "      <th>2020-06-01</th>\n",
       "      <td>97.427026</td>\n",
       "      <td>57.858513</td>\n",
       "      <td>2198.073385</td>\n",
       "    </tr>\n",
       "    <tr>\n",
       "      <th>2020-06-02</th>\n",
       "      <td>98.758000</td>\n",
       "      <td>45.855217</td>\n",
       "      <td>2243.021043</td>\n",
       "    </tr>\n",
       "    <tr>\n",
       "      <th>2020-06-03</th>\n",
       "      <td>97.844556</td>\n",
       "      <td>54.612249</td>\n",
       "      <td>2251.914083</td>\n",
       "    </tr>\n",
       "    <tr>\n",
       "      <th>2020-06-04</th>\n",
       "      <td>97.213636</td>\n",
       "      <td>81.117091</td>\n",
       "      <td>2143.190424</td>\n",
       "    </tr>\n",
       "    <tr>\n",
       "      <th>2020-06-05</th>\n",
       "      <td>97.987439</td>\n",
       "      <td>66.767012</td>\n",
       "      <td>2255.484085</td>\n",
       "    </tr>\n",
       "    <tr>\n",
       "      <th>2020-06-06</th>\n",
       "      <td>97.595960</td>\n",
       "      <td>66.345232</td>\n",
       "      <td>2262.128543</td>\n",
       "    </tr>\n",
       "    <tr>\n",
       "      <th>2020-06-07</th>\n",
       "      <td>98.151905</td>\n",
       "      <td>61.298095</td>\n",
       "      <td>2196.719524</td>\n",
       "    </tr>\n",
       "    <tr>\n",
       "      <th>2020-06-08</th>\n",
       "      <td>97.319906</td>\n",
       "      <td>59.076981</td>\n",
       "      <td>2443.298679</td>\n",
       "    </tr>\n",
       "  </tbody>\n",
       "</table>\n",
       "</div>"
      ],
      "text/plain": [
       "              quality      speed  product_kpi_raw\n",
       "cur_date                                         \n",
       "2020-05-21  95.285846  75.894051      1974.161692\n",
       "2020-05-22  96.063350  74.812437      1751.928782\n",
       "2020-05-23  96.412611  65.332833      1860.051500\n",
       "2020-05-24  95.981797  69.633828      1513.193125\n",
       "2020-05-25  95.975000  75.244083      1946.695229\n",
       "2020-05-26  96.199286  73.451476      1833.458190\n",
       "2020-05-27  95.005194  83.560728      1842.679951\n",
       "2020-05-28  95.783062  76.934450      1821.338421\n",
       "2020-05-29  97.093795  56.561077      2009.950769\n",
       "2020-05-30  96.075287  59.881724      2055.397931\n",
       "2020-05-31  95.841504  57.817594      1481.669549\n",
       "2020-06-01  97.427026  57.858513      2198.073385\n",
       "2020-06-02  98.758000  45.855217      2243.021043\n",
       "2020-06-03  97.844556  54.612249      2251.914083\n",
       "2020-06-04  97.213636  81.117091      2143.190424\n",
       "2020-06-05  97.987439  66.767012      2255.484085\n",
       "2020-06-06  97.595960  66.345232      2262.128543\n",
       "2020-06-07  98.151905  61.298095      2196.719524\n",
       "2020-06-08  97.319906  59.076981      2443.298679"
      ]
     },
     "execution_count": 5,
     "metadata": {},
     "output_type": "execute_result"
    }
   ],
   "source": [
    "go_vap[go_vap['quality'] != 0].groupby('cur_date').mean()[['quality','speed','product_kpi_raw']]"
   ]
  },
  {
   "cell_type": "code",
   "execution_count": 6,
   "metadata": {},
   "outputs": [],
   "source": [
    "user_gv = pd.read_excel('user.xlsx')"
   ]
  },
  {
   "cell_type": "code",
   "execution_count": 7,
   "metadata": {},
   "outputs": [
    {
     "data": {
      "text/html": [
       "<div>\n",
       "<style scoped>\n",
       "    .dataframe tbody tr th:only-of-type {\n",
       "        vertical-align: middle;\n",
       "    }\n",
       "\n",
       "    .dataframe tbody tr th {\n",
       "        vertical-align: top;\n",
       "    }\n",
       "\n",
       "    .dataframe thead th {\n",
       "        text-align: right;\n",
       "    }\n",
       "</style>\n",
       "<table border=\"1\" class=\"dataframe\">\n",
       "  <thead>\n",
       "    <tr style=\"text-align: right;\">\n",
       "      <th></th>\n",
       "      <th>module</th>\n",
       "      <th>username</th>\n",
       "      <th>user_id</th>\n",
       "      <th>trang_thai_nv</th>\n",
       "    </tr>\n",
       "  </thead>\n",
       "  <tbody>\n",
       "    <tr>\n",
       "      <th>0</th>\n",
       "      <td>M2</td>\n",
       "      <td>truongdv</td>\n",
       "      <td>12585</td>\n",
       "      <td>Bị khóa</td>\n",
       "    </tr>\n",
       "    <tr>\n",
       "      <th>1</th>\n",
       "      <td>Trung Tâm</td>\n",
       "      <td>phucbt</td>\n",
       "      <td>69625</td>\n",
       "      <td>Chưa kích hoạt</td>\n",
       "    </tr>\n",
       "    <tr>\n",
       "      <th>2</th>\n",
       "      <td>Liên Miền (Bay)</td>\n",
       "      <td>tynv21</td>\n",
       "      <td>436511</td>\n",
       "      <td>Đang active</td>\n",
       "    </tr>\n",
       "    <tr>\n",
       "      <th>3</th>\n",
       "      <td>Liên Miền (Bay)</td>\n",
       "      <td>thuanlnm</td>\n",
       "      <td>436502</td>\n",
       "      <td>Đang active</td>\n",
       "    </tr>\n",
       "    <tr>\n",
       "      <th>4</th>\n",
       "      <td>Liên Miền (Bay)</td>\n",
       "      <td>nguyennt46</td>\n",
       "      <td>424580</td>\n",
       "      <td>Đang active</td>\n",
       "    </tr>\n",
       "    <tr>\n",
       "      <th>...</th>\n",
       "      <td>...</td>\n",
       "      <td>...</td>\n",
       "      <td>...</td>\n",
       "      <td>...</td>\n",
       "    </tr>\n",
       "    <tr>\n",
       "      <th>318</th>\n",
       "      <td>Nam Trung Bộ &amp; Tây Nguyên</td>\n",
       "      <td>hiepnv6</td>\n",
       "      <td>71729</td>\n",
       "      <td>Đang active</td>\n",
       "    </tr>\n",
       "    <tr>\n",
       "      <th>319</th>\n",
       "      <td>Nam Trung Bộ &amp; Tây Nguyên</td>\n",
       "      <td>hungnh8</td>\n",
       "      <td>69565</td>\n",
       "      <td>Đang active</td>\n",
       "    </tr>\n",
       "    <tr>\n",
       "      <th>320</th>\n",
       "      <td>Nam Trung Bộ &amp; Tây Nguyên</td>\n",
       "      <td>thanghv5</td>\n",
       "      <td>69517</td>\n",
       "      <td>Đang active</td>\n",
       "    </tr>\n",
       "    <tr>\n",
       "      <th>321</th>\n",
       "      <td>Nam Trung Bộ &amp; Tây Nguyên</td>\n",
       "      <td>tuannt26</td>\n",
       "      <td>69097</td>\n",
       "      <td>Đang active</td>\n",
       "    </tr>\n",
       "    <tr>\n",
       "      <th>322</th>\n",
       "      <td>Nam Trung Bộ &amp; Tây Nguyên</td>\n",
       "      <td>quoctp</td>\n",
       "      <td>68789</td>\n",
       "      <td>Đang active</td>\n",
       "    </tr>\n",
       "  </tbody>\n",
       "</table>\n",
       "<p>323 rows × 4 columns</p>\n",
       "</div>"
      ],
      "text/plain": [
       "                        module    username  user_id   trang_thai_nv\n",
       "0                           M2    truongdv    12585         Bị khóa\n",
       "1                    Trung Tâm      phucbt    69625  Chưa kích hoạt\n",
       "2              Liên Miền (Bay)      tynv21   436511     Đang active\n",
       "3              Liên Miền (Bay)    thuanlnm   436502     Đang active\n",
       "4              Liên Miền (Bay)  nguyennt46   424580     Đang active\n",
       "..                         ...         ...      ...             ...\n",
       "318  Nam Trung Bộ & Tây Nguyên     hiepnv6    71729     Đang active\n",
       "319  Nam Trung Bộ & Tây Nguyên     hungnh8    69565     Đang active\n",
       "320  Nam Trung Bộ & Tây Nguyên    thanghv5    69517     Đang active\n",
       "321  Nam Trung Bộ & Tây Nguyên    tuannt26    69097     Đang active\n",
       "322  Nam Trung Bộ & Tây Nguyên      quoctp    68789     Đang active\n",
       "\n",
       "[323 rows x 4 columns]"
      ]
     },
     "execution_count": 7,
     "metadata": {},
     "output_type": "execute_result"
    }
   ],
   "source": [
    "user_gv"
   ]
  },
  {
   "cell_type": "code",
   "execution_count": 8,
   "metadata": {},
   "outputs": [],
   "source": [
    "dict_gv1 = {user_gv['username'][x]: user_gv['module'][x] for x in range(len(user_gv))}\n",
    "dict_gv2 = {user_gv['user_id'][x]: user_gv['module'][x] for x in range(len(user_gv))}"
   ]
  },
  {
   "cell_type": "code",
   "execution_count": 9,
   "metadata": {},
   "outputs": [],
   "source": [
    "go_vap['module'] = go_vap['username'].replace(dict_gv1)\n",
    "#go_vap"
   ]
  },
  {
   "cell_type": "code",
   "execution_count": 10,
   "metadata": {},
   "outputs": [
    {
     "data": {
      "text/plain": [
       "['baodg5', 'baotd5', '']"
      ]
     },
     "execution_count": 10,
     "metadata": {},
     "output_type": "execute_result"
    }
   ],
   "source": [
    "go_vap.groupby('module').count()\n",
    "['baodg5','baotd5','']"
   ]
  },
  {
   "cell_type": "code",
   "execution_count": 11,
   "metadata": {},
   "outputs": [],
   "source": [
    "bag_hue = pd.read_csv('Bao Hue 10-6.csv')"
   ]
  },
  {
   "cell_type": "code",
   "execution_count": 12,
   "metadata": {},
   "outputs": [
    {
     "data": {
      "text/plain": [
       "'Kho Long Bien'"
      ]
     },
     "execution_count": 12,
     "metadata": {},
     "output_type": "execute_result"
    }
   ],
   "source": [
    "bag_hue.groupby('Kho_dich').count()['Ma_bao'].index[207]"
   ]
  },
  {
   "cell_type": "code",
   "execution_count": null,
   "metadata": {},
   "outputs": [],
   "source": [
    "len(bag_hue['Kho_dich'].unique())"
   ]
  },
  {
   "cell_type": "code",
   "execution_count": null,
   "metadata": {},
   "outputs": [],
   "source": [
    "lam_nhanh_cc = thang_5[thang_5['Kho'] == 'LV - Củ Chi'][['username','fullname','Tốc độ']].replace(0,np.nan).dropna().set_index('username')#['Tốc độ'] < 60\n",
    "lam_nhanh_cc[lam_nhanh_cc['Tốc độ'] < 80].index.tolist()"
   ]
  },
  {
   "cell_type": "code",
   "execution_count": null,
   "metadata": {},
   "outputs": [],
   "source": [
    "#cu_chi_45"
   ]
  },
  {
   "cell_type": "code",
   "execution_count": null,
   "metadata": {},
   "outputs": [],
   "source": [
    "thang_5.set_index('username').loc[lam_nhanh_cc[lam_nhanh_cc['Tốc độ'] < 70].index.tolist(),:]['Tổng Công Thực tế']"
   ]
  },
  {
   "cell_type": "markdown",
   "metadata": {},
   "source": [
    "# Tìm Kho"
   ]
  },
  {
   "cell_type": "code",
   "execution_count": null,
   "metadata": {},
   "outputs": [],
   "source": [
    "pleiku = pd.read_csv('pleiku.csv')"
   ]
  },
  {
   "cell_type": "code",
   "execution_count": null,
   "metadata": {},
   "outputs": [],
   "source": [
    "pleiku"
   ]
  },
  {
   "cell_type": "code",
   "execution_count": null,
   "metadata": {},
   "outputs": [],
   "source": [
    "pleiku.groupby('Kho_dich').count()['Kho_nguon'].index[500]"
   ]
  },
  {
   "cell_type": "code",
   "execution_count": null,
   "metadata": {},
   "outputs": [],
   "source": [
    "buonmt = pd.read_csv('Buon Ma Thuot.csv')"
   ]
  },
  {
   "cell_type": "code",
   "execution_count": null,
   "metadata": {},
   "outputs": [],
   "source": [
    "buonmt"
   ]
  },
  {
   "cell_type": "code",
   "execution_count": null,
   "metadata": {},
   "outputs": [],
   "source": [
    "buonmt.groupby('Kho_dich').count()['Kho_nguon'].sort_values(ascending = False)\n",
    "#for x range(len())"
   ]
  },
  {
   "cell_type": "code",
   "execution_count": null,
   "metadata": {},
   "outputs": [],
   "source": [
    "vinh = pd.read_csv('Vinh.csv')"
   ]
  },
  {
   "cell_type": "code",
   "execution_count": null,
   "metadata": {},
   "outputs": [],
   "source": [
    "vinh.groupby('Kho_dich').count()['Kho_nguon'].sort_values(ascending = False)"
   ]
  },
  {
   "cell_type": "code",
   "execution_count": null,
   "metadata": {},
   "outputs": [],
   "source": [
    "ductrong = pd.read_csv('Duc Trong.csv')"
   ]
  },
  {
   "cell_type": "code",
   "execution_count": null,
   "metadata": {},
   "outputs": [],
   "source": [
    "ductrong.groupby('Kho_dich').count()['Kho_nguon'].sort_values(ascending = False)"
   ]
  },
  {
   "cell_type": "code",
   "execution_count": null,
   "metadata": {},
   "outputs": [],
   "source": [
    "cu_chi = thang_5[thang_5['Kho'] == 'LV - Củ Chi']"
   ]
  },
  {
   "cell_type": "code",
   "execution_count": null,
   "metadata": {},
   "outputs": [],
   "source": [
    "cu_chi.columns"
   ]
  },
  {
   "cell_type": "code",
   "execution_count": null,
   "metadata": {},
   "outputs": [],
   "source": [
    "cu_chi[cu_chi['Toàn trình'] == 0].set_index('username')[['Tổng Công Thực tế','Công thử việc']].sort_values('Tổng Công Thực tế', ascending = False)"
   ]
  },
  {
   "cell_type": "markdown",
   "metadata": {},
   "source": [
    "### Testing"
   ]
  },
  {
   "cell_type": "code",
   "execution_count": 14,
   "metadata": {},
   "outputs": [
    {
     "data": {
      "text/plain": [
       "array(['2020-05-21T00:00:00.000000000', '2020-05-22T00:00:00.000000000',\n",
       "       '2020-05-23T00:00:00.000000000', '2020-05-24T00:00:00.000000000',\n",
       "       '2020-05-25T00:00:00.000000000', '2020-05-26T00:00:00.000000000',\n",
       "       '2020-05-27T00:00:00.000000000', '2020-05-28T00:00:00.000000000',\n",
       "       '2020-05-29T00:00:00.000000000', '2020-05-30T00:00:00.000000000',\n",
       "       '2020-05-31T00:00:00.000000000', '2020-06-01T00:00:00.000000000',\n",
       "       '2020-06-02T00:00:00.000000000', '2020-06-03T00:00:00.000000000',\n",
       "       '2020-06-04T00:00:00.000000000', '2020-06-05T00:00:00.000000000',\n",
       "       '2020-06-06T00:00:00.000000000', '2020-06-07T00:00:00.000000000',\n",
       "       '2020-06-08T00:00:00.000000000'], dtype='datetime64[ns]')"
      ]
     },
     "execution_count": 14,
     "metadata": {},
     "output_type": "execute_result"
    }
   ],
   "source": [
    "go_vap.cur_date.unique()"
   ]
  },
  {
   "cell_type": "code",
   "execution_count": 22,
   "metadata": {},
   "outputs": [],
   "source": [
    "#go_vap  = go_vap.set_index('module')\n"
   ]
  },
  {
   "cell_type": "code",
   "execution_count": 23,
   "metadata": {},
   "outputs": [],
   "source": [
    "go_vap = go_vap.loc[['Nam Trung Bộ & Tây Nguyên', 'Nội Miền (MN1235)',\n",
    "       'Liên Miền (Bay)']].reset_index()"
   ]
  },
  {
   "cell_type": "code",
   "execution_count": 25,
   "metadata": {},
   "outputs": [
    {
     "data": {
      "text/html": [
       "<div>\n",
       "<style scoped>\n",
       "    .dataframe tbody tr th:only-of-type {\n",
       "        vertical-align: middle;\n",
       "    }\n",
       "\n",
       "    .dataframe tbody tr th {\n",
       "        vertical-align: top;\n",
       "    }\n",
       "\n",
       "    .dataframe thead th {\n",
       "        text-align: right;\n",
       "    }\n",
       "</style>\n",
       "<table border=\"1\" class=\"dataframe\">\n",
       "  <thead>\n",
       "    <tr style=\"text-align: right;\">\n",
       "      <th></th>\n",
       "      <th>module</th>\n",
       "      <th>username</th>\n",
       "      <th>name</th>\n",
       "      <th>id</th>\n",
       "      <th>cur_date</th>\n",
       "      <th>checkin_type</th>\n",
       "      <th>cur_station_id</th>\n",
       "      <th>lt_raw</th>\n",
       "      <th>lt_kpi</th>\n",
       "      <th>xt_raw</th>\n",
       "      <th>...</th>\n",
       "      <th>quality</th>\n",
       "      <th>speed</th>\n",
       "      <th>rw_kpi</th>\n",
       "      <th>weight_kpi</th>\n",
       "      <th>total_kpi</th>\n",
       "      <th>created</th>\n",
       "      <th>created_by</th>\n",
       "      <th>modified</th>\n",
       "      <th>modified_by</th>\n",
       "      <th>product_kpi_raw</th>\n",
       "    </tr>\n",
       "    <tr>\n",
       "      <th>user_id</th>\n",
       "      <th></th>\n",
       "      <th></th>\n",
       "      <th></th>\n",
       "      <th></th>\n",
       "      <th></th>\n",
       "      <th></th>\n",
       "      <th></th>\n",
       "      <th></th>\n",
       "      <th></th>\n",
       "      <th></th>\n",
       "      <th></th>\n",
       "      <th></th>\n",
       "      <th></th>\n",
       "      <th></th>\n",
       "      <th></th>\n",
       "      <th></th>\n",
       "      <th></th>\n",
       "      <th></th>\n",
       "      <th></th>\n",
       "      <th></th>\n",
       "      <th></th>\n",
       "    </tr>\n",
       "  </thead>\n",
       "  <tbody>\n",
       "    <tr>\n",
       "      <th>70953</th>\n",
       "      <td>18</td>\n",
       "      <td>18</td>\n",
       "      <td>18</td>\n",
       "      <td>18</td>\n",
       "      <td>18</td>\n",
       "      <td>18</td>\n",
       "      <td>18</td>\n",
       "      <td>18</td>\n",
       "      <td>18</td>\n",
       "      <td>18</td>\n",
       "      <td>...</td>\n",
       "      <td>18</td>\n",
       "      <td>18</td>\n",
       "      <td>18</td>\n",
       "      <td>18</td>\n",
       "      <td>18</td>\n",
       "      <td>18</td>\n",
       "      <td>18</td>\n",
       "      <td>18</td>\n",
       "      <td>15</td>\n",
       "      <td>18</td>\n",
       "    </tr>\n",
       "    <tr>\n",
       "      <th>71729</th>\n",
       "      <td>11</td>\n",
       "      <td>11</td>\n",
       "      <td>11</td>\n",
       "      <td>11</td>\n",
       "      <td>11</td>\n",
       "      <td>11</td>\n",
       "      <td>11</td>\n",
       "      <td>11</td>\n",
       "      <td>11</td>\n",
       "      <td>11</td>\n",
       "      <td>...</td>\n",
       "      <td>11</td>\n",
       "      <td>11</td>\n",
       "      <td>11</td>\n",
       "      <td>11</td>\n",
       "      <td>11</td>\n",
       "      <td>11</td>\n",
       "      <td>11</td>\n",
       "      <td>11</td>\n",
       "      <td>10</td>\n",
       "      <td>11</td>\n",
       "    </tr>\n",
       "    <tr>\n",
       "      <th>141760</th>\n",
       "      <td>9</td>\n",
       "      <td>9</td>\n",
       "      <td>9</td>\n",
       "      <td>9</td>\n",
       "      <td>9</td>\n",
       "      <td>9</td>\n",
       "      <td>9</td>\n",
       "      <td>9</td>\n",
       "      <td>9</td>\n",
       "      <td>9</td>\n",
       "      <td>...</td>\n",
       "      <td>9</td>\n",
       "      <td>9</td>\n",
       "      <td>9</td>\n",
       "      <td>9</td>\n",
       "      <td>9</td>\n",
       "      <td>9</td>\n",
       "      <td>9</td>\n",
       "      <td>9</td>\n",
       "      <td>9</td>\n",
       "      <td>9</td>\n",
       "    </tr>\n",
       "    <tr>\n",
       "      <th>168363</th>\n",
       "      <td>25</td>\n",
       "      <td>25</td>\n",
       "      <td>25</td>\n",
       "      <td>25</td>\n",
       "      <td>25</td>\n",
       "      <td>25</td>\n",
       "      <td>25</td>\n",
       "      <td>25</td>\n",
       "      <td>25</td>\n",
       "      <td>25</td>\n",
       "      <td>...</td>\n",
       "      <td>25</td>\n",
       "      <td>25</td>\n",
       "      <td>25</td>\n",
       "      <td>25</td>\n",
       "      <td>25</td>\n",
       "      <td>25</td>\n",
       "      <td>25</td>\n",
       "      <td>25</td>\n",
       "      <td>18</td>\n",
       "      <td>25</td>\n",
       "    </tr>\n",
       "    <tr>\n",
       "      <th>186208</th>\n",
       "      <td>22</td>\n",
       "      <td>22</td>\n",
       "      <td>22</td>\n",
       "      <td>22</td>\n",
       "      <td>22</td>\n",
       "      <td>22</td>\n",
       "      <td>22</td>\n",
       "      <td>22</td>\n",
       "      <td>22</td>\n",
       "      <td>22</td>\n",
       "      <td>...</td>\n",
       "      <td>22</td>\n",
       "      <td>22</td>\n",
       "      <td>22</td>\n",
       "      <td>22</td>\n",
       "      <td>22</td>\n",
       "      <td>22</td>\n",
       "      <td>22</td>\n",
       "      <td>22</td>\n",
       "      <td>20</td>\n",
       "      <td>22</td>\n",
       "    </tr>\n",
       "    <tr>\n",
       "      <th>...</th>\n",
       "      <td>...</td>\n",
       "      <td>...</td>\n",
       "      <td>...</td>\n",
       "      <td>...</td>\n",
       "      <td>...</td>\n",
       "      <td>...</td>\n",
       "      <td>...</td>\n",
       "      <td>...</td>\n",
       "      <td>...</td>\n",
       "      <td>...</td>\n",
       "      <td>...</td>\n",
       "      <td>...</td>\n",
       "      <td>...</td>\n",
       "      <td>...</td>\n",
       "      <td>...</td>\n",
       "      <td>...</td>\n",
       "      <td>...</td>\n",
       "      <td>...</td>\n",
       "      <td>...</td>\n",
       "      <td>...</td>\n",
       "      <td>...</td>\n",
       "    </tr>\n",
       "    <tr>\n",
       "      <th>437813</th>\n",
       "      <td>6</td>\n",
       "      <td>6</td>\n",
       "      <td>6</td>\n",
       "      <td>6</td>\n",
       "      <td>6</td>\n",
       "      <td>6</td>\n",
       "      <td>6</td>\n",
       "      <td>6</td>\n",
       "      <td>6</td>\n",
       "      <td>6</td>\n",
       "      <td>...</td>\n",
       "      <td>6</td>\n",
       "      <td>6</td>\n",
       "      <td>6</td>\n",
       "      <td>6</td>\n",
       "      <td>6</td>\n",
       "      <td>6</td>\n",
       "      <td>6</td>\n",
       "      <td>6</td>\n",
       "      <td>5</td>\n",
       "      <td>6</td>\n",
       "    </tr>\n",
       "    <tr>\n",
       "      <th>439400</th>\n",
       "      <td>4</td>\n",
       "      <td>4</td>\n",
       "      <td>4</td>\n",
       "      <td>4</td>\n",
       "      <td>4</td>\n",
       "      <td>4</td>\n",
       "      <td>4</td>\n",
       "      <td>4</td>\n",
       "      <td>4</td>\n",
       "      <td>4</td>\n",
       "      <td>...</td>\n",
       "      <td>4</td>\n",
       "      <td>4</td>\n",
       "      <td>4</td>\n",
       "      <td>4</td>\n",
       "      <td>4</td>\n",
       "      <td>4</td>\n",
       "      <td>4</td>\n",
       "      <td>4</td>\n",
       "      <td>4</td>\n",
       "      <td>4</td>\n",
       "    </tr>\n",
       "    <tr>\n",
       "      <th>440245</th>\n",
       "      <td>2</td>\n",
       "      <td>2</td>\n",
       "      <td>2</td>\n",
       "      <td>2</td>\n",
       "      <td>2</td>\n",
       "      <td>2</td>\n",
       "      <td>2</td>\n",
       "      <td>2</td>\n",
       "      <td>2</td>\n",
       "      <td>2</td>\n",
       "      <td>...</td>\n",
       "      <td>2</td>\n",
       "      <td>2</td>\n",
       "      <td>2</td>\n",
       "      <td>2</td>\n",
       "      <td>2</td>\n",
       "      <td>2</td>\n",
       "      <td>2</td>\n",
       "      <td>2</td>\n",
       "      <td>2</td>\n",
       "      <td>2</td>\n",
       "    </tr>\n",
       "    <tr>\n",
       "      <th>440251</th>\n",
       "      <td>5</td>\n",
       "      <td>5</td>\n",
       "      <td>5</td>\n",
       "      <td>5</td>\n",
       "      <td>5</td>\n",
       "      <td>5</td>\n",
       "      <td>5</td>\n",
       "      <td>5</td>\n",
       "      <td>5</td>\n",
       "      <td>5</td>\n",
       "      <td>...</td>\n",
       "      <td>5</td>\n",
       "      <td>5</td>\n",
       "      <td>5</td>\n",
       "      <td>5</td>\n",
       "      <td>5</td>\n",
       "      <td>5</td>\n",
       "      <td>5</td>\n",
       "      <td>5</td>\n",
       "      <td>5</td>\n",
       "      <td>5</td>\n",
       "    </tr>\n",
       "    <tr>\n",
       "      <th>440565</th>\n",
       "      <td>2</td>\n",
       "      <td>2</td>\n",
       "      <td>2</td>\n",
       "      <td>2</td>\n",
       "      <td>2</td>\n",
       "      <td>2</td>\n",
       "      <td>2</td>\n",
       "      <td>2</td>\n",
       "      <td>2</td>\n",
       "      <td>2</td>\n",
       "      <td>...</td>\n",
       "      <td>2</td>\n",
       "      <td>2</td>\n",
       "      <td>2</td>\n",
       "      <td>2</td>\n",
       "      <td>2</td>\n",
       "      <td>2</td>\n",
       "      <td>2</td>\n",
       "      <td>2</td>\n",
       "      <td>2</td>\n",
       "      <td>2</td>\n",
       "    </tr>\n",
       "  </tbody>\n",
       "</table>\n",
       "<p>217 rows × 32 columns</p>\n",
       "</div>"
      ],
      "text/plain": [
       "         module  username  name  id  cur_date  checkin_type  cur_station_id  \\\n",
       "user_id                                                                       \n",
       "70953        18        18    18  18        18            18              18   \n",
       "71729        11        11    11  11        11            11              11   \n",
       "141760        9         9     9   9         9             9               9   \n",
       "168363       25        25    25  25        25            25              25   \n",
       "186208       22        22    22  22        22            22              22   \n",
       "...         ...       ...   ...  ..       ...           ...             ...   \n",
       "437813        6         6     6   6         6             6               6   \n",
       "439400        4         4     4   4         4             4               4   \n",
       "440245        2         2     2   2         2             2               2   \n",
       "440251        5         5     5   5         5             5               5   \n",
       "440565        2         2     2   2         2             2               2   \n",
       "\n",
       "         lt_raw  lt_kpi  xt_raw  ...  quality  speed  rw_kpi  weight_kpi  \\\n",
       "user_id                          ...                                       \n",
       "70953        18      18      18  ...       18     18      18          18   \n",
       "71729        11      11      11  ...       11     11      11          11   \n",
       "141760        9       9       9  ...        9      9       9           9   \n",
       "168363       25      25      25  ...       25     25      25          25   \n",
       "186208       22      22      22  ...       22     22      22          22   \n",
       "...         ...     ...     ...  ...      ...    ...     ...         ...   \n",
       "437813        6       6       6  ...        6      6       6           6   \n",
       "439400        4       4       4  ...        4      4       4           4   \n",
       "440245        2       2       2  ...        2      2       2           2   \n",
       "440251        5       5       5  ...        5      5       5           5   \n",
       "440565        2       2       2  ...        2      2       2           2   \n",
       "\n",
       "         total_kpi  created  created_by  modified  modified_by  \\\n",
       "user_id                                                          \n",
       "70953           18       18          18        18           15   \n",
       "71729           11       11          11        11           10   \n",
       "141760           9        9           9         9            9   \n",
       "168363          25       25          25        25           18   \n",
       "186208          22       22          22        22           20   \n",
       "...            ...      ...         ...       ...          ...   \n",
       "437813           6        6           6         6            5   \n",
       "439400           4        4           4         4            4   \n",
       "440245           2        2           2         2            2   \n",
       "440251           5        5           5         5            5   \n",
       "440565           2        2           2         2            2   \n",
       "\n",
       "         product_kpi_raw  \n",
       "user_id                   \n",
       "70953                 18  \n",
       "71729                 11  \n",
       "141760                 9  \n",
       "168363                25  \n",
       "186208                22  \n",
       "...                  ...  \n",
       "437813                 6  \n",
       "439400                 4  \n",
       "440245                 2  \n",
       "440251                 5  \n",
       "440565                 2  \n",
       "\n",
       "[217 rows x 32 columns]"
      ]
     },
     "execution_count": 25,
     "metadata": {},
     "output_type": "execute_result"
    }
   ],
   "source": [
    "go_vap.groupby('user_id').count()"
   ]
  },
  {
   "cell_type": "code",
   "execution_count": 26,
   "metadata": {},
   "outputs": [
    {
     "data": {
      "text/plain": [
       "19"
      ]
     },
     "execution_count": 26,
     "metadata": {},
     "output_type": "execute_result"
    }
   ],
   "source": [
    "len(go_vap.cur_date.unique())"
   ]
  },
  {
   "cell_type": "code",
   "execution_count": 28,
   "metadata": {},
   "outputs": [
    {
     "data": {
      "text/html": [
       "<div>\n",
       "<style scoped>\n",
       "    .dataframe tbody tr th:only-of-type {\n",
       "        vertical-align: middle;\n",
       "    }\n",
       "\n",
       "    .dataframe tbody tr th {\n",
       "        vertical-align: top;\n",
       "    }\n",
       "\n",
       "    .dataframe thead th {\n",
       "        text-align: right;\n",
       "    }\n",
       "</style>\n",
       "<table border=\"1\" class=\"dataframe\">\n",
       "  <thead>\n",
       "    <tr style=\"text-align: right;\">\n",
       "      <th></th>\n",
       "      <th></th>\n",
       "      <th>username</th>\n",
       "      <th>name</th>\n",
       "      <th>id</th>\n",
       "      <th>user_id</th>\n",
       "      <th>checkin_type</th>\n",
       "      <th>cur_station_id</th>\n",
       "      <th>lt_raw</th>\n",
       "      <th>lt_kpi</th>\n",
       "      <th>xt_raw</th>\n",
       "      <th>xt_kpi</th>\n",
       "      <th>...</th>\n",
       "      <th>quality</th>\n",
       "      <th>speed</th>\n",
       "      <th>rw_kpi</th>\n",
       "      <th>weight_kpi</th>\n",
       "      <th>total_kpi</th>\n",
       "      <th>created</th>\n",
       "      <th>created_by</th>\n",
       "      <th>modified</th>\n",
       "      <th>modified_by</th>\n",
       "      <th>product_kpi_raw</th>\n",
       "    </tr>\n",
       "    <tr>\n",
       "      <th>module</th>\n",
       "      <th>cur_date</th>\n",
       "      <th></th>\n",
       "      <th></th>\n",
       "      <th></th>\n",
       "      <th></th>\n",
       "      <th></th>\n",
       "      <th></th>\n",
       "      <th></th>\n",
       "      <th></th>\n",
       "      <th></th>\n",
       "      <th></th>\n",
       "      <th></th>\n",
       "      <th></th>\n",
       "      <th></th>\n",
       "      <th></th>\n",
       "      <th></th>\n",
       "      <th></th>\n",
       "      <th></th>\n",
       "      <th></th>\n",
       "      <th></th>\n",
       "      <th></th>\n",
       "      <th></th>\n",
       "    </tr>\n",
       "  </thead>\n",
       "  <tbody>\n",
       "    <tr>\n",
       "      <th rowspan=\"5\" valign=\"top\">Nam Trung Bộ &amp; Tây Nguyên</th>\n",
       "      <th>2020-05-21</th>\n",
       "      <td>hiepnv6</td>\n",
       "      <td>LV - Gò Vấp</td>\n",
       "      <td>299222</td>\n",
       "      <td>71729</td>\n",
       "      <td>normal</td>\n",
       "      <td>6139</td>\n",
       "      <td>2062.80</td>\n",
       "      <td>2062.80</td>\n",
       "      <td>264</td>\n",
       "      <td>264.28</td>\n",
       "      <td>...</td>\n",
       "      <td>87.32</td>\n",
       "      <td>106.90</td>\n",
       "      <td>1861.67</td>\n",
       "      <td>0</td>\n",
       "      <td>4188.76</td>\n",
       "      <td>2020-05-22 12:32:24</td>\n",
       "      <td>1</td>\n",
       "      <td>2020-06-09 17:40:09</td>\n",
       "      <td>1.0</td>\n",
       "      <td>2327.09</td>\n",
       "    </tr>\n",
       "    <tr>\n",
       "      <th>2020-05-21</th>\n",
       "      <td>duoctt</td>\n",
       "      <td>LV - Gò Vấp</td>\n",
       "      <td>299225</td>\n",
       "      <td>221550</td>\n",
       "      <td>normal</td>\n",
       "      <td>6139</td>\n",
       "      <td>2062.80</td>\n",
       "      <td>2062.80</td>\n",
       "      <td>268</td>\n",
       "      <td>267.57</td>\n",
       "      <td>...</td>\n",
       "      <td>89.72</td>\n",
       "      <td>101.73</td>\n",
       "      <td>2330.38</td>\n",
       "      <td>0</td>\n",
       "      <td>4660.75</td>\n",
       "      <td>2020-05-22 12:32:28</td>\n",
       "      <td>1</td>\n",
       "      <td>2020-06-09 17:48:19</td>\n",
       "      <td>1.0</td>\n",
       "      <td>2330.38</td>\n",
       "    </tr>\n",
       "    <tr>\n",
       "      <th>2020-05-21</th>\n",
       "      <td>longvh19</td>\n",
       "      <td>LV - Gò Vấp</td>\n",
       "      <td>299233</td>\n",
       "      <td>313032</td>\n",
       "      <td>normal</td>\n",
       "      <td>6139</td>\n",
       "      <td>0.00</td>\n",
       "      <td>0.00</td>\n",
       "      <td>27</td>\n",
       "      <td>27.00</td>\n",
       "      <td>...</td>\n",
       "      <td>93.24</td>\n",
       "      <td>95.02</td>\n",
       "      <td>2938.60</td>\n",
       "      <td>294</td>\n",
       "      <td>5331.10</td>\n",
       "      <td>2020-05-22 12:32:32</td>\n",
       "      <td>1</td>\n",
       "      <td>2020-06-09 17:56:30</td>\n",
       "      <td>1.0</td>\n",
       "      <td>2099.00</td>\n",
       "    </tr>\n",
       "    <tr>\n",
       "      <th>2020-05-21</th>\n",
       "      <td>huyenhlk1</td>\n",
       "      <td>LV - Gò Vấp</td>\n",
       "      <td>299238</td>\n",
       "      <td>313119</td>\n",
       "      <td>normal</td>\n",
       "      <td>6139</td>\n",
       "      <td>0.00</td>\n",
       "      <td>0.00</td>\n",
       "      <td>0</td>\n",
       "      <td>0.00</td>\n",
       "      <td>...</td>\n",
       "      <td>93.24</td>\n",
       "      <td>95.02</td>\n",
       "      <td>4375.00</td>\n",
       "      <td>539</td>\n",
       "      <td>8038.50</td>\n",
       "      <td>2020-05-22 12:32:42</td>\n",
       "      <td>1</td>\n",
       "      <td>2020-06-09 17:56:39</td>\n",
       "      <td>1.0</td>\n",
       "      <td>3125.00</td>\n",
       "    </tr>\n",
       "    <tr>\n",
       "      <th>2020-05-21</th>\n",
       "      <td>sangdt19</td>\n",
       "      <td>LV - Gò Vấp</td>\n",
       "      <td>299241</td>\n",
       "      <td>313167</td>\n",
       "      <td>normal</td>\n",
       "      <td>6139</td>\n",
       "      <td>0.00</td>\n",
       "      <td>0.00</td>\n",
       "      <td>0</td>\n",
       "      <td>0.00</td>\n",
       "      <td>...</td>\n",
       "      <td>93.24</td>\n",
       "      <td>95.02</td>\n",
       "      <td>1818.60</td>\n",
       "      <td>271</td>\n",
       "      <td>3388.60</td>\n",
       "      <td>2020-05-22 12:32:46</td>\n",
       "      <td>1</td>\n",
       "      <td>2020-06-09 17:56:40</td>\n",
       "      <td>1.0</td>\n",
       "      <td>1299.00</td>\n",
       "    </tr>\n",
       "    <tr>\n",
       "      <th>...</th>\n",
       "      <th>...</th>\n",
       "      <td>...</td>\n",
       "      <td>...</td>\n",
       "      <td>...</td>\n",
       "      <td>...</td>\n",
       "      <td>...</td>\n",
       "      <td>...</td>\n",
       "      <td>...</td>\n",
       "      <td>...</td>\n",
       "      <td>...</td>\n",
       "      <td>...</td>\n",
       "      <td>...</td>\n",
       "      <td>...</td>\n",
       "      <td>...</td>\n",
       "      <td>...</td>\n",
       "      <td>...</td>\n",
       "      <td>...</td>\n",
       "      <td>...</td>\n",
       "      <td>...</td>\n",
       "      <td>...</td>\n",
       "      <td>...</td>\n",
       "      <td>...</td>\n",
       "    </tr>\n",
       "    <tr>\n",
       "      <th rowspan=\"5\" valign=\"top\">Liên Miền (Bay)</th>\n",
       "      <th>2020-06-08</th>\n",
       "      <td>tynv21</td>\n",
       "      <td>LV - Gò Vấp</td>\n",
       "      <td>335236</td>\n",
       "      <td>436511</td>\n",
       "      <td>normal</td>\n",
       "      <td>6139</td>\n",
       "      <td>0.00</td>\n",
       "      <td>0.00</td>\n",
       "      <td>0</td>\n",
       "      <td>0.00</td>\n",
       "      <td>...</td>\n",
       "      <td>0.00</td>\n",
       "      <td>0.00</td>\n",
       "      <td>0.00</td>\n",
       "      <td>0</td>\n",
       "      <td>1201.83</td>\n",
       "      <td>2020-06-09 18:46:23</td>\n",
       "      <td>1</td>\n",
       "      <td>2020-06-09 20:54:41</td>\n",
       "      <td>1.0</td>\n",
       "      <td>1201.83</td>\n",
       "    </tr>\n",
       "    <tr>\n",
       "      <th>2020-06-08</th>\n",
       "      <td>thuanlnm</td>\n",
       "      <td>LV - Gò Vấp</td>\n",
       "      <td>335238</td>\n",
       "      <td>436502</td>\n",
       "      <td>normal</td>\n",
       "      <td>6139</td>\n",
       "      <td>0.00</td>\n",
       "      <td>0.00</td>\n",
       "      <td>0</td>\n",
       "      <td>0.00</td>\n",
       "      <td>...</td>\n",
       "      <td>0.00</td>\n",
       "      <td>0.00</td>\n",
       "      <td>0.00</td>\n",
       "      <td>0</td>\n",
       "      <td>1161.83</td>\n",
       "      <td>2020-06-09 18:46:23</td>\n",
       "      <td>1</td>\n",
       "      <td>2020-06-09 20:54:26</td>\n",
       "      <td>1.0</td>\n",
       "      <td>1161.83</td>\n",
       "    </tr>\n",
       "    <tr>\n",
       "      <th>2020-06-08</th>\n",
       "      <td>haopa1</td>\n",
       "      <td>LV - Gò Vấp</td>\n",
       "      <td>335258</td>\n",
       "      <td>436964</td>\n",
       "      <td>normal</td>\n",
       "      <td>6139</td>\n",
       "      <td>0.00</td>\n",
       "      <td>0.00</td>\n",
       "      <td>0</td>\n",
       "      <td>0.00</td>\n",
       "      <td>...</td>\n",
       "      <td>0.00</td>\n",
       "      <td>0.00</td>\n",
       "      <td>0.00</td>\n",
       "      <td>0</td>\n",
       "      <td>1006.05</td>\n",
       "      <td>2020-06-09 18:46:50</td>\n",
       "      <td>1</td>\n",
       "      <td>2020-06-09 20:55:36</td>\n",
       "      <td>1.0</td>\n",
       "      <td>1006.05</td>\n",
       "    </tr>\n",
       "    <tr>\n",
       "      <th>2020-06-08</th>\n",
       "      <td>tienvm4</td>\n",
       "      <td>LV - Gò Vấp</td>\n",
       "      <td>335570</td>\n",
       "      <td>70953</td>\n",
       "      <td>normal</td>\n",
       "      <td>6139</td>\n",
       "      <td>1172.75</td>\n",
       "      <td>1172.75</td>\n",
       "      <td>13</td>\n",
       "      <td>12.50</td>\n",
       "      <td>...</td>\n",
       "      <td>0.00</td>\n",
       "      <td>0.00</td>\n",
       "      <td>628.18</td>\n",
       "      <td>0</td>\n",
       "      <td>1813.43</td>\n",
       "      <td>2020-06-09 20:32:11</td>\n",
       "      <td>1</td>\n",
       "      <td>2020-06-09 20:32:11</td>\n",
       "      <td>NaN</td>\n",
       "      <td>1185.25</td>\n",
       "    </tr>\n",
       "    <tr>\n",
       "      <th>2020-06-08</th>\n",
       "      <td>namldh</td>\n",
       "      <td>LV - Gò Vấp</td>\n",
       "      <td>335572</td>\n",
       "      <td>168363</td>\n",
       "      <td>normal</td>\n",
       "      <td>6139</td>\n",
       "      <td>1590.50</td>\n",
       "      <td>1590.50</td>\n",
       "      <td>161</td>\n",
       "      <td>160.50</td>\n",
       "      <td>...</td>\n",
       "      <td>0.00</td>\n",
       "      <td>0.00</td>\n",
       "      <td>928.03</td>\n",
       "      <td>0</td>\n",
       "      <td>2679.03</td>\n",
       "      <td>2020-06-09 20:32:12</td>\n",
       "      <td>1</td>\n",
       "      <td>2020-06-09 20:32:12</td>\n",
       "      <td>NaN</td>\n",
       "      <td>1751.00</td>\n",
       "    </tr>\n",
       "  </tbody>\n",
       "</table>\n",
       "<p>3406 rows × 31 columns</p>\n",
       "</div>"
      ],
      "text/plain": [
       "                                       username         name      id  user_id  \\\n",
       "module                    cur_date                                              \n",
       "Nam Trung Bộ & Tây Nguyên 2020-05-21    hiepnv6  LV - Gò Vấp  299222    71729   \n",
       "                          2020-05-21     duoctt  LV - Gò Vấp  299225   221550   \n",
       "                          2020-05-21   longvh19  LV - Gò Vấp  299233   313032   \n",
       "                          2020-05-21  huyenhlk1  LV - Gò Vấp  299238   313119   \n",
       "                          2020-05-21   sangdt19  LV - Gò Vấp  299241   313167   \n",
       "...                                         ...          ...     ...      ...   \n",
       "Liên Miền (Bay)           2020-06-08     tynv21  LV - Gò Vấp  335236   436511   \n",
       "                          2020-06-08   thuanlnm  LV - Gò Vấp  335238   436502   \n",
       "                          2020-06-08     haopa1  LV - Gò Vấp  335258   436964   \n",
       "                          2020-06-08    tienvm4  LV - Gò Vấp  335570    70953   \n",
       "                          2020-06-08     namldh  LV - Gò Vấp  335572   168363   \n",
       "\n",
       "                                     checkin_type  cur_station_id   lt_raw  \\\n",
       "module                    cur_date                                           \n",
       "Nam Trung Bộ & Tây Nguyên 2020-05-21       normal            6139  2062.80   \n",
       "                          2020-05-21       normal            6139  2062.80   \n",
       "                          2020-05-21       normal            6139     0.00   \n",
       "                          2020-05-21       normal            6139     0.00   \n",
       "                          2020-05-21       normal            6139     0.00   \n",
       "...                                           ...             ...      ...   \n",
       "Liên Miền (Bay)           2020-06-08       normal            6139     0.00   \n",
       "                          2020-06-08       normal            6139     0.00   \n",
       "                          2020-06-08       normal            6139     0.00   \n",
       "                          2020-06-08       normal            6139  1172.75   \n",
       "                          2020-06-08       normal            6139  1590.50   \n",
       "\n",
       "                                       lt_kpi  xt_raw  xt_kpi  ...  quality  \\\n",
       "module                    cur_date                             ...            \n",
       "Nam Trung Bộ & Tây Nguyên 2020-05-21  2062.80     264  264.28  ...    87.32   \n",
       "                          2020-05-21  2062.80     268  267.57  ...    89.72   \n",
       "                          2020-05-21     0.00      27   27.00  ...    93.24   \n",
       "                          2020-05-21     0.00       0    0.00  ...    93.24   \n",
       "                          2020-05-21     0.00       0    0.00  ...    93.24   \n",
       "...                                       ...     ...     ...  ...      ...   \n",
       "Liên Miền (Bay)           2020-06-08     0.00       0    0.00  ...     0.00   \n",
       "                          2020-06-08     0.00       0    0.00  ...     0.00   \n",
       "                          2020-06-08     0.00       0    0.00  ...     0.00   \n",
       "                          2020-06-08  1172.75      13   12.50  ...     0.00   \n",
       "                          2020-06-08  1590.50     161  160.50  ...     0.00   \n",
       "\n",
       "                                       speed   rw_kpi  weight_kpi  total_kpi  \\\n",
       "module                    cur_date                                             \n",
       "Nam Trung Bộ & Tây Nguyên 2020-05-21  106.90  1861.67           0    4188.76   \n",
       "                          2020-05-21  101.73  2330.38           0    4660.75   \n",
       "                          2020-05-21   95.02  2938.60         294    5331.10   \n",
       "                          2020-05-21   95.02  4375.00         539    8038.50   \n",
       "                          2020-05-21   95.02  1818.60         271    3388.60   \n",
       "...                                      ...      ...         ...        ...   \n",
       "Liên Miền (Bay)           2020-06-08    0.00     0.00           0    1201.83   \n",
       "                          2020-06-08    0.00     0.00           0    1161.83   \n",
       "                          2020-06-08    0.00     0.00           0    1006.05   \n",
       "                          2020-06-08    0.00   628.18           0    1813.43   \n",
       "                          2020-06-08    0.00   928.03           0    2679.03   \n",
       "\n",
       "                                                 created  created_by  \\\n",
       "module                    cur_date                                     \n",
       "Nam Trung Bộ & Tây Nguyên 2020-05-21 2020-05-22 12:32:24           1   \n",
       "                          2020-05-21 2020-05-22 12:32:28           1   \n",
       "                          2020-05-21 2020-05-22 12:32:32           1   \n",
       "                          2020-05-21 2020-05-22 12:32:42           1   \n",
       "                          2020-05-21 2020-05-22 12:32:46           1   \n",
       "...                                                  ...         ...   \n",
       "Liên Miền (Bay)           2020-06-08 2020-06-09 18:46:23           1   \n",
       "                          2020-06-08 2020-06-09 18:46:23           1   \n",
       "                          2020-06-08 2020-06-09 18:46:50           1   \n",
       "                          2020-06-08 2020-06-09 20:32:11           1   \n",
       "                          2020-06-08 2020-06-09 20:32:12           1   \n",
       "\n",
       "                                                modified  modified_by  \\\n",
       "module                    cur_date                                      \n",
       "Nam Trung Bộ & Tây Nguyên 2020-05-21 2020-06-09 17:40:09          1.0   \n",
       "                          2020-05-21 2020-06-09 17:48:19          1.0   \n",
       "                          2020-05-21 2020-06-09 17:56:30          1.0   \n",
       "                          2020-05-21 2020-06-09 17:56:39          1.0   \n",
       "                          2020-05-21 2020-06-09 17:56:40          1.0   \n",
       "...                                                  ...          ...   \n",
       "Liên Miền (Bay)           2020-06-08 2020-06-09 20:54:41          1.0   \n",
       "                          2020-06-08 2020-06-09 20:54:26          1.0   \n",
       "                          2020-06-08 2020-06-09 20:55:36          1.0   \n",
       "                          2020-06-08 2020-06-09 20:32:11          NaN   \n",
       "                          2020-06-08 2020-06-09 20:32:12          NaN   \n",
       "\n",
       "                                      product_kpi_raw  \n",
       "module                    cur_date                     \n",
       "Nam Trung Bộ & Tây Nguyên 2020-05-21          2327.09  \n",
       "                          2020-05-21          2330.38  \n",
       "                          2020-05-21          2099.00  \n",
       "                          2020-05-21          3125.00  \n",
       "                          2020-05-21          1299.00  \n",
       "...                                               ...  \n",
       "Liên Miền (Bay)           2020-06-08          1201.83  \n",
       "                          2020-06-08          1161.83  \n",
       "                          2020-06-08          1006.05  \n",
       "                          2020-06-08          1185.25  \n",
       "                          2020-06-08          1751.00  \n",
       "\n",
       "[3406 rows x 31 columns]"
      ]
     },
     "execution_count": 28,
     "metadata": {},
     "output_type": "execute_result"
    }
   ],
   "source": [
    "go_vap.set_index(['module','cur_date'])"
   ]
  },
  {
   "cell_type": "code",
   "execution_count": 34,
   "metadata": {},
   "outputs": [],
   "source": [
    "count_gv = go_vap.groupby('user_id').count()['name']"
   ]
  },
  {
   "cell_type": "code",
   "execution_count": 33,
   "metadata": {},
   "outputs": [],
   "source": [
    "main_gv = go_vap.groupby('user_id').sum()"
   ]
  },
  {
   "cell_type": "code",
   "execution_count": null,
   "metadata": {},
   "outputs": [],
   "source": [
    "go_vap"
   ]
  },
  {
   "cell_type": "code",
   "execution_count": 32,
   "metadata": {},
   "outputs": [
    {
     "data": {
      "text/plain": [
       "Index(['module', 'username', 'name', 'id', 'user_id', 'cur_date',\n",
       "       'checkin_type', 'cur_station_id', 'lt_raw', 'lt_kpi', 'xt_raw',\n",
       "       'xt_kpi', 'vp_raw', 'vp_kpi', 'vb_raw', 'vb_kpi', 'p2b_raw', 'p2b_kpi',\n",
       "       'sorting_raw', 'sorting_kpi', 'print_raw', 'print_kpi', 'product_kpi',\n",
       "       'quality', 'speed', 'rw_kpi', 'weight_kpi', 'total_kpi', 'created',\n",
       "       'created_by', 'modified', 'modified_by', 'product_kpi_raw'],\n",
       "      dtype='object')"
      ]
     },
     "execution_count": 32,
     "metadata": {},
     "output_type": "execute_result"
    }
   ],
   "source": [
    "go_vap.columns"
   ]
  },
  {
   "cell_type": "code",
   "execution_count": 43,
   "metadata": {},
   "outputs": [],
   "source": [
    "name_id_dict = {go_vap['user_id'][x]:go_vap['username'][x] for x in range(len(go_vap))}"
   ]
  },
  {
   "cell_type": "code",
   "execution_count": 49,
   "metadata": {},
   "outputs": [
    {
     "data": {
      "text/plain": [
       "0         tienvm4\n",
       "1         hiepnv6\n",
       "2      nguyennt16\n",
       "3          namldh\n",
       "4         chautm4\n",
       "          ...    \n",
       "212       hienvm4\n",
       "213    nguyennt49\n",
       "214     phuongnlh\n",
       "215       hunghnq\n",
       "216       suongvn\n",
       "Name: user_id, Length: 217, dtype: object"
      ]
     },
     "execution_count": 49,
     "metadata": {},
     "output_type": "execute_result"
    }
   ],
   "source": [
    "#main_gv.reset_index()['user_id'].replace(name_id_dict).values.tolist()"
   ]
  },
  {
   "cell_type": "code",
   "execution_count": 50,
   "metadata": {},
   "outputs": [],
   "source": [
    "main_gv['username'] = main_gv.reset_index()['user_id'].replace(name_id_dict).values.tolist()"
   ]
  },
  {
   "cell_type": "code",
   "execution_count": 51,
   "metadata": {},
   "outputs": [],
   "source": [
    "main_gv['module'] = main_gv.reset_index()['username'].replace(dict_gv1).values.tolist()"
   ]
  },
  {
   "cell_type": "code",
   "execution_count": 52,
   "metadata": {},
   "outputs": [],
   "source": [
    "#dict_gv1"
   ]
  },
  {
   "cell_type": "code",
   "execution_count": 56,
   "metadata": {},
   "outputs": [],
   "source": [
    "count_dict_gv = {count_gv.index.tolist()[x]:count_gv.values.tolist()[x] for x in range(len(count_gv))}"
   ]
  },
  {
   "cell_type": "code",
   "execution_count": 57,
   "metadata": {},
   "outputs": [],
   "source": [
    "main_gv['timework'] = main_gv.reset_index()['user_id'].replace(count_dict_gv).values.tolist()"
   ]
  },
  {
   "cell_type": "code",
   "execution_count": 59,
   "metadata": {},
   "outputs": [],
   "source": [
    "main_gv['KPI/day'] = main_gv['product_kpi_raw']/main_gv['timework']"
   ]
  },
  {
   "cell_type": "code",
   "execution_count": 61,
   "metadata": {},
   "outputs": [
    {
     "data": {
      "text/html": [
       "<div>\n",
       "<style scoped>\n",
       "    .dataframe tbody tr th:only-of-type {\n",
       "        vertical-align: middle;\n",
       "    }\n",
       "\n",
       "    .dataframe tbody tr th {\n",
       "        vertical-align: top;\n",
       "    }\n",
       "\n",
       "    .dataframe thead th {\n",
       "        text-align: right;\n",
       "    }\n",
       "</style>\n",
       "<table border=\"1\" class=\"dataframe\">\n",
       "  <thead>\n",
       "    <tr style=\"text-align: right;\">\n",
       "      <th></th>\n",
       "      <th>id</th>\n",
       "      <th>cur_station_id</th>\n",
       "      <th>lt_raw</th>\n",
       "      <th>lt_kpi</th>\n",
       "      <th>xt_raw</th>\n",
       "      <th>xt_kpi</th>\n",
       "      <th>vp_raw</th>\n",
       "      <th>vp_kpi</th>\n",
       "      <th>vb_raw</th>\n",
       "      <th>vb_kpi</th>\n",
       "      <th>...</th>\n",
       "      <th>quality</th>\n",
       "      <th>speed</th>\n",
       "      <th>rw_kpi</th>\n",
       "      <th>weight_kpi</th>\n",
       "      <th>total_kpi</th>\n",
       "      <th>created_by</th>\n",
       "      <th>modified_by</th>\n",
       "      <th>product_kpi_raw</th>\n",
       "      <th>timework</th>\n",
       "      <th>KPI/day</th>\n",
       "    </tr>\n",
       "    <tr>\n",
       "      <th>module</th>\n",
       "      <th></th>\n",
       "      <th></th>\n",
       "      <th></th>\n",
       "      <th></th>\n",
       "      <th></th>\n",
       "      <th></th>\n",
       "      <th></th>\n",
       "      <th></th>\n",
       "      <th></th>\n",
       "      <th></th>\n",
       "      <th></th>\n",
       "      <th></th>\n",
       "      <th></th>\n",
       "      <th></th>\n",
       "      <th></th>\n",
       "      <th></th>\n",
       "      <th></th>\n",
       "      <th></th>\n",
       "      <th></th>\n",
       "      <th></th>\n",
       "      <th></th>\n",
       "    </tr>\n",
       "  </thead>\n",
       "  <tbody>\n",
       "    <tr>\n",
       "      <th>Liên Miền (Bay)</th>\n",
       "      <td>5.392871e+06</td>\n",
       "      <td>103310.600000</td>\n",
       "      <td>5501.258143</td>\n",
       "      <td>5501.258143</td>\n",
       "      <td>8176.785714</td>\n",
       "      <td>8176.710714</td>\n",
       "      <td>3637.314286</td>\n",
       "      <td>1212.369286</td>\n",
       "      <td>0.0</td>\n",
       "      <td>0.0</td>\n",
       "      <td>...</td>\n",
       "      <td>1488.766286</td>\n",
       "      <td>1368.524571</td>\n",
       "      <td>43833.574857</td>\n",
       "      <td>690.357143</td>\n",
       "      <td>72838.786429</td>\n",
       "      <td>16.828571</td>\n",
       "      <td>16.371429</td>\n",
       "      <td>27219.673286</td>\n",
       "      <td>16.828571</td>\n",
       "      <td>1549.165817</td>\n",
       "    </tr>\n",
       "    <tr>\n",
       "      <th>Nam Trung Bộ &amp; Tây Nguyên</th>\n",
       "      <td>4.582420e+06</td>\n",
       "      <td>87919.250000</td>\n",
       "      <td>5304.099821</td>\n",
       "      <td>5304.099821</td>\n",
       "      <td>3872.589286</td>\n",
       "      <td>3872.623571</td>\n",
       "      <td>4101.017857</td>\n",
       "      <td>1366.952679</td>\n",
       "      <td>0.0</td>\n",
       "      <td>0.0</td>\n",
       "      <td>...</td>\n",
       "      <td>1142.673036</td>\n",
       "      <td>1083.788571</td>\n",
       "      <td>40877.551250</td>\n",
       "      <td>2074.839286</td>\n",
       "      <td>72511.781250</td>\n",
       "      <td>14.321429</td>\n",
       "      <td>13.428571</td>\n",
       "      <td>29171.065714</td>\n",
       "      <td>14.321429</td>\n",
       "      <td>1996.254627</td>\n",
       "    </tr>\n",
       "    <tr>\n",
       "      <th>Nội Miền (MN1235)</th>\n",
       "      <td>5.012325e+06</td>\n",
       "      <td>96200.153846</td>\n",
       "      <td>8961.949231</td>\n",
       "      <td>8961.949231</td>\n",
       "      <td>9902.417582</td>\n",
       "      <td>9902.235165</td>\n",
       "      <td>120.318681</td>\n",
       "      <td>40.124066</td>\n",
       "      <td>0.0</td>\n",
       "      <td>0.0</td>\n",
       "      <td>...</td>\n",
       "      <td>1524.849670</td>\n",
       "      <td>647.139670</td>\n",
       "      <td>81005.033077</td>\n",
       "      <td>1632.747253</td>\n",
       "      <td>117457.983956</td>\n",
       "      <td>15.670330</td>\n",
       "      <td>14.659341</td>\n",
       "      <td>34507.745934</td>\n",
       "      <td>15.670330</td>\n",
       "      <td>2215.443632</td>\n",
       "    </tr>\n",
       "  </tbody>\n",
       "</table>\n",
       "<p>3 rows × 27 columns</p>\n",
       "</div>"
      ],
      "text/plain": [
       "                                     id  cur_station_id       lt_raw  \\\n",
       "module                                                                 \n",
       "Liên Miền (Bay)            5.392871e+06   103310.600000  5501.258143   \n",
       "Nam Trung Bộ & Tây Nguyên  4.582420e+06    87919.250000  5304.099821   \n",
       "Nội Miền (MN1235)          5.012325e+06    96200.153846  8961.949231   \n",
       "\n",
       "                                lt_kpi       xt_raw       xt_kpi       vp_raw  \\\n",
       "module                                                                          \n",
       "Liên Miền (Bay)            5501.258143  8176.785714  8176.710714  3637.314286   \n",
       "Nam Trung Bộ & Tây Nguyên  5304.099821  3872.589286  3872.623571  4101.017857   \n",
       "Nội Miền (MN1235)          8961.949231  9902.417582  9902.235165   120.318681   \n",
       "\n",
       "                                vp_kpi  vb_raw  vb_kpi  ...      quality  \\\n",
       "module                                                  ...                \n",
       "Liên Miền (Bay)            1212.369286     0.0     0.0  ...  1488.766286   \n",
       "Nam Trung Bộ & Tây Nguyên  1366.952679     0.0     0.0  ...  1142.673036   \n",
       "Nội Miền (MN1235)            40.124066     0.0     0.0  ...  1524.849670   \n",
       "\n",
       "                                 speed        rw_kpi   weight_kpi  \\\n",
       "module                                                              \n",
       "Liên Miền (Bay)            1368.524571  43833.574857   690.357143   \n",
       "Nam Trung Bộ & Tây Nguyên  1083.788571  40877.551250  2074.839286   \n",
       "Nội Miền (MN1235)           647.139670  81005.033077  1632.747253   \n",
       "\n",
       "                               total_kpi  created_by  modified_by  \\\n",
       "module                                                              \n",
       "Liên Miền (Bay)             72838.786429   16.828571    16.371429   \n",
       "Nam Trung Bộ & Tây Nguyên   72511.781250   14.321429    13.428571   \n",
       "Nội Miền (MN1235)          117457.983956   15.670330    14.659341   \n",
       "\n",
       "                           product_kpi_raw   timework      KPI/day  \n",
       "module                                                              \n",
       "Liên Miền (Bay)               27219.673286  16.828571  1549.165817  \n",
       "Nam Trung Bộ & Tây Nguyên     29171.065714  14.321429  1996.254627  \n",
       "Nội Miền (MN1235)             34507.745934  15.670330  2215.443632  \n",
       "\n",
       "[3 rows x 27 columns]"
      ]
     },
     "execution_count": 61,
     "metadata": {},
     "output_type": "execute_result"
    }
   ],
   "source": [
    "main_gv.groupby('module').mean()"
   ]
  },
  {
   "cell_type": "code",
   "execution_count": 66,
   "metadata": {},
   "outputs": [],
   "source": [
    "luong_gv = thang_5[thang_5['Kho'] == 'LV - Gò Vấp']"
   ]
  },
  {
   "cell_type": "code",
   "execution_count": 65,
   "metadata": {},
   "outputs": [],
   "source": [
    "#dict_gv1"
   ]
  },
  {
   "cell_type": "code",
   "execution_count": 68,
   "metadata": {},
   "outputs": [
    {
     "name": "stderr",
     "output_type": "stream",
     "text": [
      "C:\\Users\\PC\\anaconda3\\lib\\site-packages\\ipykernel_launcher.py:1: SettingWithCopyWarning: \n",
      "A value is trying to be set on a copy of a slice from a DataFrame.\n",
      "Try using .loc[row_indexer,col_indexer] = value instead\n",
      "\n",
      "See the caveats in the documentation: https://pandas.pydata.org/pandas-docs/stable/user_guide/indexing.html#returning-a-view-versus-a-copy\n",
      "  \"\"\"Entry point for launching an IPython kernel.\n"
     ]
    }
   ],
   "source": [
    "luong_gv['module'] = luong_gv['username'].replace(dict_gv1)"
   ]
  },
  {
   "cell_type": "code",
   "execution_count": 72,
   "metadata": {},
   "outputs": [
    {
     "data": {
      "text/plain": [
       "Index(['#', 'username', 'fullname', 'Kho', 'Tỉnh', 'Trạng Thái', 'Ngày Vào',\n",
       "       'Ngày Lương Chuẩn', 'Ngày Nghỉ', 'Bộ Phận', 'Vị Trí', 'Cấp Bậc',\n",
       "       'Hệ Số Quản Lý', 'Hình Thức', 'Công việc mặc định', 'Tích BHXH',\n",
       "       'Tổng Công Thực tế', 'Công KPI đi làm ngày tăng ca',\n",
       "       'Công chuẩn cá nhân', 'Công thử việc', 'Ngày lễ', 'Ngày lễ thử việc',\n",
       "       'Tổng số ngày phép', 'Công tăng ca thử việc', 'Công tăng ca chính thức',\n",
       "       'Số ngày cá nhân tăng ca', 'Số ngày làm ca 20h', 'Số ngày làm ca 17h',\n",
       "       'Số ngày làm ca 15h', 'Số tăng ca đêm', 'KPI lên tải', 'KPI xuống tải',\n",
       "       'KPI kiểm đơn', 'KPI kiểm bao', 'KPI làm hàng', 'KPI sorting',\n",
       "       'KPI đóng gói', 'KPI tổng thực làm', 'KPI cân nặng', 'KPI thưởng',\n",
       "       'Toàn trình', 'Tốc độ', 'KPI lên tải tăng ca', 'KPI xuống tải tăng ca',\n",
       "       'KPI kiểm đơn tăng ca', 'KPI kiểm bao tăng ca', 'KPI làm hàng tăng ca',\n",
       "       'KPI sorting tăng ca', 'KPI đóng gói tăng ca',\n",
       "       'KPI tổng cân nặng tăng ca', 'KPI tổng thưởng tăng ca',\n",
       "       'KPI tổng thực làm tăng ca', 'KPI sản lượng', 'KPI/ngày',\n",
       "       'Lương Sản lượng', 'Unnamed: 55', 'Unnamed: 56', 'Lương Tăng ca',\n",
       "       'Lương phép', 'Lương lễ', 'Lương lễ thử việc', 'Lương thử việc',\n",
       "       'Unnamed: 62', 'Lương tăng ca thử việc', 'Lương tối thiẻu mặc định',\n",
       "       'Lương tối thiểu', 'Lương cấp bậc quản lý', 'Lương Phụ Cấp ca đêm',\n",
       "       'Lương KPI', 'Lương tối thiểu BHXH', 'Tổng lương', 'module'],\n",
       "      dtype='object')"
      ]
     },
     "execution_count": 72,
     "metadata": {},
     "output_type": "execute_result"
    }
   ],
   "source": [
    "luong_gv.columns"
   ]
  },
  {
   "cell_type": "code",
   "execution_count": 75,
   "metadata": {},
   "outputs": [
    {
     "name": "stderr",
     "output_type": "stream",
     "text": [
      "C:\\Users\\PC\\anaconda3\\lib\\site-packages\\ipykernel_launcher.py:1: SettingWithCopyWarning: \n",
      "A value is trying to be set on a copy of a slice from a DataFrame.\n",
      "Try using .loc[row_indexer,col_indexer] = value instead\n",
      "\n",
      "See the caveats in the documentation: https://pandas.pydata.org/pandas-docs/stable/user_guide/indexing.html#returning-a-view-versus-a-copy\n",
      "  \"\"\"Entry point for launching an IPython kernel.\n"
     ]
    }
   ],
   "source": [
    "luong_gv['KPI/Ngày'] = luong_gv['KPI sản lượng']/(luong_gv['Tổng Công Thực tế']+luong_gv['Công thử việc']+luong_gv['Số ngày cá nhân tăng ca'])\n"
   ]
  },
  {
   "cell_type": "code",
   "execution_count": 92,
   "metadata": {},
   "outputs": [],
   "source": [
    "theo_vung = luong_gv.groupby('module').mean().drop(index = ['anpxp2','lamnh29'])"
   ]
  },
  {
   "cell_type": "code",
   "execution_count": 94,
   "metadata": {},
   "outputs": [
    {
     "data": {
      "text/plain": [
       "1445.18856931199"
      ]
     },
     "execution_count": 94,
     "metadata": {},
     "output_type": "execute_result"
    }
   ],
   "source": [
    "theo_vung['KPI/Ngày'].std()"
   ]
  },
  {
   "cell_type": "code",
   "execution_count": null,
   "metadata": {},
   "outputs": [],
   "source": []
  }
 ],
 "metadata": {
  "kernelspec": {
   "display_name": "Python 3",
   "language": "python",
   "name": "python3"
  },
  "language_info": {
   "codemirror_mode": {
    "name": "ipython",
    "version": 3
   },
   "file_extension": ".py",
   "mimetype": "text/x-python",
   "name": "python",
   "nbconvert_exporter": "python",
   "pygments_lexer": "ipython3",
   "version": "3.7.6"
  }
 },
 "nbformat": 4,
 "nbformat_minor": 4
}
